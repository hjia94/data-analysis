{
 "cells": [
  {
   "cell_type": "code",
   "execution_count": 34,
   "id": "9d1ae117",
   "metadata": {},
   "outputs": [],
   "source": [
    "import sys\n",
    "import numpy as np\n",
    "import matplotlib.pyplot as plt\n",
    "import CTS as cts\n",
    "from scipy.constants import *\n",
    "from scipy.signal import hilbert\n",
    "\n",
    "sys.path.append(r\"C:\\Users\\hjia9\\Documents\\GitHub\\data-analysis\")\n",
    "from data_analysis_utils import find_all_zerocrossing, hl_envelopes_idx\n",
    "\n",
    "plt.rcParams.update({'font.size': 20})\n",
    "%matplotlib qt"
   ]
  },
  {
   "cell_type": "code",
   "execution_count": 2,
   "id": "3dd39962",
   "metadata": {},
   "outputs": [],
   "source": [
    "freq_in = [330e9,600e9] # Hz\n",
    "cl = ['r', 'g', 'b']\n",
    "\n",
    "ne = [1e12, 1e13, 5e13]\n",
    "Te = [5,5, 300]\n",
    "Ti = [1,1, 100]"
   ]
  },
  {
   "cell_type": "code",
   "execution_count": null,
   "id": "84c233f8",
   "metadata": {},
   "outputs": [],
   "source": [
    "fig, ax = plt.subplots(figsize=(10, 6))\n",
    "ax.set_xlabel(r\"$\\omega_s - \\omega_i (rad/s)$\")\n",
    "ax.set_ylabel(r\"$S(k, \\omega)$\")\n",
    "\n",
    "for i in range(len(ne)):\n",
    "\n",
    "    lambda_in = c / freq_in[0]\n",
    "    omega_in = 2*np.pi*freq_in[0]\n",
    "\n",
    "    alpha, omega_arr, omega_in, Skw= cts.generate_spectral_density(lambda_in*1e9, Te[i], Ti[i], ne[i], delta_lam=10000, ions=\"He+\")\n",
    "    \n",
    "    ax.plot(omega_arr-omega_in, Skw, label=f\"ne={ne[i]:.1e}, Te={Te[i]}, Ti={Ti[i]}\", color=cl[i])\n",
    "\n",
    "    a =cts.compute_alpha(lambda_in*100, 180, ne[i], Te[i])\n",
    "    print('S integral = ',integrate.simpson(Skw, omega_arr))\n",
    "    print('alpha = ', a)\n",
    "\n",
    "    lambda_in = c / freq_in[1]\n",
    "    omega_in = 2*np.pi*freq_in[1]\n",
    "\n",
    "    alpha, omega_arr, omega_in, Skw = cts.generate_spectral_density(lambda_in*1e9, Te[i], Ti[i], ne[i], delta_lam=1000, ions=\"He+\")\n",
    "    ax.plot(omega_arr-omega_in, Skw, '--', color=cl[i])\n",
    "\n",
    "\n",
    "# Create first legend for the data lines\n",
    "first_legend = ax.legend(loc='upper right', fontsize=16, bbox_to_anchor=(1, 1))\n",
    "# Add the first legend manually to the axes\n",
    "ax.add_artist(first_legend)\n",
    "# Add a second legend for line styles\n",
    "custom_lines = [Line2D([0], [0], color='black', lw=2),\n",
    "                Line2D([0], [0], color='black', lw=2, linestyle='--')]\n",
    "second_legend = ax.legend(custom_lines, [f'{freq_in[0]/1e9:.0f} GHz', f'{freq_in[1]/1e9:.0f} GHz'], \n",
    "                          loc='upper left', fontsize=20, bbox_to_anchor=(0, 1))\n",
    "plt.tight_layout()\n",
    "\n",
    "# fig, ax = plt.subplots(figsize=(16, 6))\n",
    "# ax.set_xlabel(r\"frequency (GHz)\")\n",
    "# ax.set_ylabel(r\"$S(k, \\omega)$\")\n",
    "\n",
    "# for i in range(len(ne)):\n",
    "#     alpha, omega_arr, Skw = cts.generate_spectral_density(lambda_in*1e9, Te[i], Ti[i], ne[i], delta_lam=5000, ions=\"He+\")\n",
    "#     freq_arr = omega_arr/(2*np.pi) *1e-9\n",
    "#     ax.plot(freq_arr, Skw, '--',label=f\"ne={ne[i]:.1e}, Te={Te[i]}, Ti={Ti[i]}\")\n",
    "    \n",
    "# ax.legend(loc='upper left')\n",
    "# ax.set_title(\"Helium\")"
   ]
  },
  {
   "cell_type": "code",
   "execution_count": null,
   "id": "0a63953d",
   "metadata": {},
   "outputs": [],
   "source": [
    "lambda_in = 2*np.pi*c / omega_arr\n",
    "\n",
    "plt.figure(figsize=(8, 6))\n",
    "for i in range(len(ne)):\n",
    "    a_ls =cts.compute_alpha(lambda_in*100, 180, ne[i], Te[i])\n",
    "    plt.plot(omega_arr*1e-9, a_ls, label=f\"ne={ne[i]:.1e}, Te={Te[i]}, Ti={Ti[i]}\")\n",
    "\n",
    "plt.xlabel(r\"frequency (GHz)\")\n",
    "plt.ylabel(r\"$\\alpha=1/k\\lambda_D$\")\n",
    "plt.yticks(fontweight='bold')\n",
    "plt.legend(loc='upper right', fontsize=16)\n",
    "plt.tight_layout()"
   ]
  },
  {
   "cell_type": "code",
   "execution_count": 18,
   "id": "fe2f8439",
   "metadata": {},
   "outputs": [],
   "source": [
    "freq_ls = np.arange(300e9, 600e9, 10e9)\n",
    "plt.figure(figsize=(8, 5))\n",
    "plt.xlabel(\"frequency (GHz)\")\n",
    "plt.ylabel(\"$P_s/P_iL (1/cm) $\")\n",
    "\n",
    "for i in range(len(ne)):\n",
    "    pr_ls = []\n",
    "    for freq in freq_ls:\n",
    "\n",
    "        lambda_in = c / freq\n",
    "        alpha, omega_arr, omega_in, Skw = cts.generate_spectral_density(lambda_in*1e9, Te[i], Ti[i], ne[i], delta_lam=5000, ions=\"H+\")\n",
    "        pr = cts.power_ratio(ne[i], omega_arr, Skw, scattering_angle=180, L=1)\n",
    "        pr_ls.append(pr)\n",
    "\n",
    "    plt.plot(freq_ls*1e-9, pr_ls, label=f\"ne={ne[i]:.1e}, Te={Te[i]}, Ti={Ti[i]}\")\n",
    "plt.legend()\n",
    "plt.tight_layout()"
   ]
  },
  {
   "cell_type": "code",
   "execution_count": 2,
   "id": "1dd45a56",
   "metadata": {},
   "outputs": [],
   "source": [
    "# Parameters\n",
    "f0 = 300e9 # units: Hz\n",
    "n_cycles = 32\n",
    "dt = 0.1 # units: ps\n",
    "n_e = 1e13  # cm^-3\n",
    "B = 0.1 # Tesla\n",
    "\n",
    "x_0 = 0.5 # units: meter\n",
    "x_pl = 0.1 # units: meter\n",
    "L_arr = np.arange(x_0, x_0+x_pl, 0.01) # units: meter"
   ]
  },
  {
   "cell_type": "code",
   "execution_count": 3,
   "id": "a351c1d3",
   "metadata": {},
   "outputs": [
    {
     "name": "stdout",
     "output_type": "stream",
     "text": [
      "wave covered distance =  0.8634022790399999 cm\n"
     ]
    },
    {
     "data": {
      "text/plain": [
       "<matplotlib.legend.Legend at 0x125fd160910>"
      ]
     },
     "execution_count": 3,
     "metadata": {},
     "output_type": "execute_result"
    }
   ],
   "source": [
    "plt.figure()\n",
    "tarr, signal, envelope, x = cts.generate_thz_waveform(f0/1e12, 0.9, n_cycles, dt, 5, 100) # Units: THz, ps, #, ps, ps, #\n",
    "print('wave covered distance = ', x*100, 'cm')\n",
    "plt.plot(tarr, signal, linewidth=2, label='Input Signal')\n",
    "\n",
    "tot_wave = np.zeros_like(tarr)\n",
    "for L in L_arr:\n",
    "    signal_propagated, fft_propagated, vgarr = cts.propagate_through_dispersive_medium(tarr, signal, L, n_e, debug=True)    \n",
    "    tot_wave += signal_propagated / L**2\n",
    "\n",
    "plt.plot(tarr, tot_wave, linewidth=2, label='Propagated Signal')\n",
    "\n",
    "plt.xlabel('Time (ps)')\n",
    "plt.ylabel('Amplitude')\n",
    "plt.legend()\n",
    "plt.legend()"
   ]
  },
  {
   "cell_type": "code",
   "execution_count": 24,
   "id": "d223c063",
   "metadata": {},
   "outputs": [],
   "source": [
    "zerocrossing_arr = find_all_zerocrossing(tot_wave, dt*1e-12, direction='positive')\n",
    "omega_arr = 2*np.pi / np.diff(zerocrossing_arr)\n",
    "new_Larr = np.linspace(0, x_pl, len(omega_arr))"
   ]
  },
  {
   "cell_type": "code",
   "execution_count": 25,
   "id": "64a7388a",
   "metadata": {},
   "outputs": [],
   "source": [
    "ang_arr = cts.faraday_rotation_angle(omega_arr, n_e*1e6, B, new_Larr)\n",
    "\n",
    "plt.figure(figsize=(8, 6))\n",
    "plt.plot(new_Larr, ang_arr)\n",
    "plt.title(\"Faraday rotation angle\")\n",
    "plt.xlabel(\"Distance (m)\")\n",
    "plt.ylabel(\"deg\")\n",
    "plt.tight_layout()"
   ]
  },
  {
   "cell_type": "code",
   "execution_count": 35,
   "id": "2404bf23",
   "metadata": {},
   "outputs": [],
   "source": [
    "# Calculate envelope\n",
    "envelope = np.abs(hilbert(tot_wave))\n",
    "\n",
    "denv = np.diff(envelope)\n",
    "max_idx = np.argmax(denv)\n",
    "\n",
    "for i in range(max_idx, 0, -1):\n",
    "    if denv[i] == 0 and denv[i-1] == 0:\n",
    "        start_idx = i\n",
    "        break\n",
    "\n",
    "for i in range(max_idx, len(denv)):\n",
    "    if denv[i] == 0 and denv[i+1] == 0:\n",
    "        end_idx = i\n",
    "        break\n",
    "\n",
    "sig_amp = envelope[start_idx:end_idx]\n",
    "L_interp = np.linspace(new_Larr[0], new_Larr[-1], len(sig_amp))\n",
    "ang_interp = np.interp(L_interp, new_Larr, ang_arr)"
   ]
  },
  {
   "cell_type": "code",
   "execution_count": 36,
   "id": "f84c0a3f",
   "metadata": {},
   "outputs": [
    {
     "data": {
      "text/plain": [
       "[<matplotlib.lines.Line2D at 0x1259c669910>]"
      ]
     },
     "execution_count": 36,
     "metadata": {},
     "output_type": "execute_result"
    }
   ],
   "source": [
    "plt.figure()\n",
    "plt.plot(L_interp, ang_interp)\n",
    "plt.plot(L_interp, sig_amp)\n",
    "plt.plot(L_interp, ang_interp*sig_amp)"
   ]
  },
  {
   "cell_type": "code",
   "execution_count": null,
   "id": "f0d8c9b8",
   "metadata": {},
   "outputs": [],
   "source": []
  }
 ],
 "metadata": {
  "kernelspec": {
   "display_name": ".venv",
   "language": "python",
   "name": "python3"
  },
  "language_info": {
   "codemirror_mode": {
    "name": "ipython",
    "version": 3
   },
   "file_extension": ".py",
   "mimetype": "text/x-python",
   "name": "python",
   "nbconvert_exporter": "python",
   "pygments_lexer": "ipython3",
   "version": "3.11.5"
  }
 },
 "nbformat": 4,
 "nbformat_minor": 5
}

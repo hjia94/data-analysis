{
 "cells": [
  {
   "cell_type": "code",
   "execution_count": 1,
   "id": "9d1ae117",
   "metadata": {},
   "outputs": [],
   "source": [
    "import numpy as np\n",
    "import matplotlib.pyplot as plt\n",
    "import CTS as cts\n",
    "from scipy.constants import *\n",
    "from scipy import integrate\n",
    "from scipy import fft\n",
    "from matplotlib.lines import Line2D\n",
    "from plasmapy.formulary.frequencies import plasma_frequency\n",
    "from plasmapy.particles import Particle\n",
    "\n",
    "plt.rcParams.update({'font.size': 20})\n",
    "%matplotlib qt"
   ]
  },
  {
   "cell_type": "code",
   "execution_count": null,
   "id": "c0c88c98",
   "metadata": {},
   "outputs": [],
   "source": [
    "# Parameters\n",
    "f0 = 330e9  # 330 GHz center frequency\n",
    "n_cycles = 16\n",
    "n_e = 5e12  # cm^-3\n",
    "L = 1  # cm\n",
    "bandwidth_factor = 0.3  # Show frequencies within 30% of f0\n",
    "mass = Particle(\"e-\").mass.value\n",
    "omega_p = plasma_frequency.lite(n_e*1e6, mass, Z=1, to_hz=False)"
   ]
  },
  {
   "cell_type": "code",
   "execution_count": 21,
   "id": "82285c2d",
   "metadata": {},
   "outputs": [],
   "source": [
    "# Generate the wave packet\n",
    "# t, signal, freqs, signal_fft, envelope = cts.generate_pulse_wave_packet(f0, n_cycles, num_points=4096, return_envelope=True)\n",
    "t, signal, freqs, signal_fft, envelope = cts.generate_n_cycle_wave_packet(f0, n_cycles, return_envelope=True) \n",
    "\n",
    "omega = 4 * np.pi * freqs\n",
    "\n",
    "# Create a wrapper function that can be passed as the dispersion relation\n",
    "dispersion_func = lambda omega: cts.plasma_dispersion_relation(omega, n_e*1e6)\n",
    "\n",
    "# Now pass the function, not its result\n",
    "fft_propagated = cts.propagate_through_dispersive_medium(freqs, signal_fft, L/100, dispersion_func)\n",
    "\n",
    "# Convert propagated signal back to time domain\n",
    "signal_propagated = fft.ifft(fft_propagated)"
   ]
  },
  {
   "cell_type": "code",
   "execution_count": 22,
   "id": "f4bd86f6",
   "metadata": {},
   "outputs": [],
   "source": [
    "# Create figure with two subplots\n",
    "fig, axs = plt.subplots(2, 1, figsize=(10, 8))\n",
    "\n",
    "# Define frequency range of interest around f0\n",
    "f_min = f0 * (1 - bandwidth_factor)\n",
    "f_max = f0 * (1 + bandwidth_factor)\n",
    "\n",
    "# Create masks for frequencies within the range of interest\n",
    "# First for positive frequencies\n",
    "pos_mask = (freqs >= f_min) & (freqs <= f_max)\n",
    "# Also for negative frequencies (corresponding to -f0)\n",
    "neg_mask = (freqs >= -f_max) & (freqs <= -f_min)\n",
    "\n",
    "# Plot frequency domain (FFT magnitude) - only around f0 using scatter\n",
    "axs[0].scatter(freqs[pos_mask]/1e9, np.abs(signal_fft[pos_mask]), \n",
    "                c='b', s=20, alpha=0.6, label='Original')\n",
    "axs[0].scatter(freqs[pos_mask]/1e9, np.abs(fft_propagated[pos_mask]), \n",
    "                c='r', s=20, alpha=0.6, label='After propagation')\n",
    "axs[0].set_xlabel('Frequency (GHz)')\n",
    "axs[0].set_ylabel('FFT Magnitude')\n",
    "axs[0].set_title(f'Wave Packet Spectrum around {f0/1e9:.1f} GHz')\n",
    "axs[0].legend()\n",
    "axs[0].grid(True)\n",
    "\n",
    "# Add vertical line at center frequency\n",
    "axs[0].axvline(x=f0/1e9, color='k', linestyle='--', label=f'f0 = {f0/1e9:.2f} GHz')\n",
    "\n",
    "# Plot time domain signals\n",
    "axs[1].plot(t*1e9, signal.real, 'b-', label='Original')\n",
    "axs[1].plot(t*1e9, signal_propagated.real, 'r-', label='After propagation')\n",
    "axs[1].set_xlabel('Time (ns)')\n",
    "axs[1].set_ylabel('Amplitude')\n",
    "axs[1].set_title(f'Wave Packet Time Domain (n_e={n_e:.1e} cm^-3, L={L} cm)')\n",
    "axs[1].legend()\n",
    "axs[1].grid(True)\n",
    "\n",
    "plt.tight_layout()\n",
    "plt.show()"
   ]
  },
  {
   "cell_type": "code",
   "execution_count": 2,
   "id": "3dd39962",
   "metadata": {},
   "outputs": [],
   "source": [
    "freq_in = [330e9,600e9] # Hz\n",
    "cl = ['r', 'g', 'b']\n",
    "\n",
    "ne = [1e12, 1e13, 5e13]\n",
    "Te = [5,5, 300]\n",
    "Ti = [1,1, 100]"
   ]
  },
  {
   "cell_type": "code",
   "execution_count": 10,
   "id": "84c233f8",
   "metadata": {},
   "outputs": [
    {
     "name": "stdout",
     "output_type": "stream",
     "text": [
      "S integral =  -1.2034781662586662\n",
      "alpha =  4.387786790594731\n",
      "S integral =  -1.2754846909468842\n",
      "alpha =  13.87540014547963\n",
      "S integral =  -1.5441085723419812\n",
      "alpha =  4.005483004553218\n"
     ]
    }
   ],
   "source": [
    "fig, ax = plt.subplots(figsize=(10, 6))\n",
    "ax.set_xlabel(r\"$\\omega_s - \\omega_i (rad/s)$\")\n",
    "ax.set_ylabel(r\"$S(k, \\omega)$\")\n",
    "\n",
    "for i in range(len(ne)):\n",
    "\n",
    "    lambda_in = c / freq_in[0]\n",
    "    omega_in = 2*np.pi*freq_in[0]\n",
    "\n",
    "    alpha, omega_arr, omega_in, Skw= cts.generate_spectral_density(lambda_in*1e9, Te[i], Ti[i], ne[i], delta_lam=10000, ions=\"He+\")\n",
    "    \n",
    "    ax.plot(omega_arr-omega_in, Skw, label=f\"ne={ne[i]:.1e}, Te={Te[i]}, Ti={Ti[i]}\", color=cl[i])\n",
    "\n",
    "    a =cts.compute_alpha(lambda_in*100, 180, ne[i], Te[i])\n",
    "    print('S integral = ',integrate.simpson(Skw, omega_arr))\n",
    "    print('alpha = ', a)\n",
    "\n",
    "    lambda_in = c / freq_in[1]\n",
    "    omega_in = 2*np.pi*freq_in[1]\n",
    "\n",
    "    alpha, omega_arr, omega_in, Skw = cts.generate_spectral_density(lambda_in*1e9, Te[i], Ti[i], ne[i], delta_lam=1000, ions=\"He+\")\n",
    "    ax.plot(omega_arr-omega_in, Skw, '--', color=cl[i])\n",
    "\n",
    "\n",
    "# Create first legend for the data lines\n",
    "first_legend = ax.legend(loc='upper right', fontsize=16, bbox_to_anchor=(1, 1))\n",
    "# Add the first legend manually to the axes\n",
    "ax.add_artist(first_legend)\n",
    "# Add a second legend for line styles\n",
    "custom_lines = [Line2D([0], [0], color='black', lw=2),\n",
    "                Line2D([0], [0], color='black', lw=2, linestyle='--')]\n",
    "second_legend = ax.legend(custom_lines, [f'{freq_in[0]/1e9:.0f} GHz', f'{freq_in[1]/1e9:.0f} GHz'], \n",
    "                          loc='upper left', fontsize=20, bbox_to_anchor=(0, 1))\n",
    "plt.tight_layout()\n",
    "\n",
    "# fig, ax = plt.subplots(figsize=(16, 6))\n",
    "# ax.set_xlabel(r\"frequency (GHz)\")\n",
    "# ax.set_ylabel(r\"$S(k, \\omega)$\")\n",
    "\n",
    "# for i in range(len(ne)):\n",
    "#     alpha, omega_arr, Skw = cts.generate_spectral_density(lambda_in*1e9, Te[i], Ti[i], ne[i], delta_lam=5000, ions=\"He+\")\n",
    "#     freq_arr = omega_arr/(2*np.pi) *1e-9\n",
    "#     ax.plot(freq_arr, Skw, '--',label=f\"ne={ne[i]:.1e}, Te={Te[i]}, Ti={Ti[i]}\")\n",
    "    \n",
    "# ax.legend(loc='upper left')\n",
    "# ax.set_title(\"Helium\")"
   ]
  },
  {
   "cell_type": "code",
   "execution_count": null,
   "id": "0a63953d",
   "metadata": {},
   "outputs": [],
   "source": [
    "lambda_in = 2*np.pi*c / omega_arr\n",
    "\n",
    "plt.figure(figsize=(8, 6))\n",
    "for i in range(len(ne)):\n",
    "    a_ls =cts.compute_alpha(lambda_in*100, 180, ne[i], Te[i])\n",
    "    plt.plot(omega_arr*1e-9, a_ls, label=f\"ne={ne[i]:.1e}, Te={Te[i]}, Ti={Ti[i]}\")\n",
    "\n",
    "plt.xlabel(r\"frequency (GHz)\")\n",
    "plt.ylabel(r\"$\\alpha=1/k\\lambda_D$\")\n",
    "plt.yticks(fontweight='bold')\n",
    "plt.legend(loc='upper right', fontsize=16)\n",
    "plt.tight_layout()"
   ]
  },
  {
   "cell_type": "code",
   "execution_count": 18,
   "id": "fe2f8439",
   "metadata": {},
   "outputs": [],
   "source": [
    "freq_ls = np.arange(300e9, 600e9, 10e9)\n",
    "plt.figure(figsize=(8, 5))\n",
    "plt.xlabel(\"frequency (GHz)\")\n",
    "plt.ylabel(\"$P_s/P_iL (1/cm) $\")\n",
    "\n",
    "for i in range(len(ne)):\n",
    "    pr_ls = []\n",
    "    for freq in freq_ls:\n",
    "\n",
    "        lambda_in = c / freq\n",
    "        alpha, omega_arr, omega_in, Skw = cts.generate_spectral_density(lambda_in*1e9, Te[i], Ti[i], ne[i], delta_lam=5000, ions=\"H+\")\n",
    "        pr = cts.power_ratio(ne[i], omega_arr, Skw, scattering_angle=180, L=1)\n",
    "        pr_ls.append(pr)\n",
    "\n",
    "    plt.plot(freq_ls*1e-9, pr_ls, label=f\"ne={ne[i]:.1e}, Te={Te[i]}, Ti={Ti[i]}\")\n",
    "plt.legend()\n",
    "plt.tight_layout()"
   ]
  },
  {
   "cell_type": "code",
   "execution_count": 4,
   "id": "64a7388a",
   "metadata": {},
   "outputs": [],
   "source": [
    "plt.figure(figsize=(8, 6))\n",
    "for i in range(len(ne)):\n",
    "    rot_angle = cts.faraday_rotation_angle(freq_ls, ne[i], 1, 1)\n",
    "    plt.plot(freq_ls*1e-9, rot_angle, label=f\"ne={ne[i]:.1e}, Te={Te[i]}, Ti={Ti[i]}\")\n",
    "plt.legend(loc='upper right', fontsize=14)\n",
    "plt.title(\"Faraday rotation angle per cm per Gauss\")\n",
    "plt.xlabel(\"frequency (GHz)\")\n",
    "plt.ylabel(\"deg/(cm*Gauss)\")\n",
    "plt.tight_layout()"
   ]
  },
  {
   "cell_type": "code",
   "execution_count": null,
   "id": "1dd45a56",
   "metadata": {},
   "outputs": [],
   "source": []
  }
 ],
 "metadata": {
  "kernelspec": {
   "display_name": ".venv",
   "language": "python",
   "name": "python3"
  },
  "language_info": {
   "codemirror_mode": {
    "name": "ipython",
    "version": 3
   },
   "file_extension": ".py",
   "mimetype": "text/x-python",
   "name": "python",
   "nbconvert_exporter": "python",
   "pygments_lexer": "ipython3",
   "version": "3.11.5"
  }
 },
 "nbformat": 4,
 "nbformat_minor": 5
}

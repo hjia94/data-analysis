{
 "cells": [
  {
   "cell_type": "code",
   "execution_count": 1,
   "id": "9d1ae117",
   "metadata": {},
   "outputs": [],
   "source": [
    "import numpy as np\n",
    "import matplotlib.pyplot as plt\n",
    "import CTS as cts\n",
    "from scipy.constants import *\n",
    "from scipy import integrate\n",
    "from scipy import fft\n",
    "from matplotlib.lines import Line2D\n",
    "from plasmapy.formulary.frequencies import plasma_frequency\n",
    "from plasmapy.particles import Particle\n",
    "\n",
    "plt.rcParams.update({'font.size': 20})\n",
    "%matplotlib qt"
   ]
  },
  {
   "cell_type": "code",
   "execution_count": 2,
   "id": "3dd39962",
   "metadata": {},
   "outputs": [],
   "source": [
    "freq_in = [330e9,600e9] # Hz\n",
    "cl = ['r', 'g', 'b']\n",
    "\n",
    "ne = [1e12, 1e13, 5e13]\n",
    "Te = [5,5, 300]\n",
    "Ti = [1,1, 100]"
   ]
  },
  {
   "cell_type": "code",
   "execution_count": null,
   "id": "84c233f8",
   "metadata": {},
   "outputs": [],
   "source": [
    "fig, ax = plt.subplots(figsize=(10, 6))\n",
    "ax.set_xlabel(r\"$\\omega_s - \\omega_i (rad/s)$\")\n",
    "ax.set_ylabel(r\"$S(k, \\omega)$\")\n",
    "\n",
    "for i in range(len(ne)):\n",
    "\n",
    "    lambda_in = c / freq_in[0]\n",
    "    omega_in = 2*np.pi*freq_in[0]\n",
    "\n",
    "    alpha, omega_arr, omega_in, Skw= cts.generate_spectral_density(lambda_in*1e9, Te[i], Ti[i], ne[i], delta_lam=10000, ions=\"He+\")\n",
    "    \n",
    "    ax.plot(omega_arr-omega_in, Skw, label=f\"ne={ne[i]:.1e}, Te={Te[i]}, Ti={Ti[i]}\", color=cl[i])\n",
    "\n",
    "    a =cts.compute_alpha(lambda_in*100, 180, ne[i], Te[i])\n",
    "    print('S integral = ',integrate.simpson(Skw, omega_arr))\n",
    "    print('alpha = ', a)\n",
    "\n",
    "    lambda_in = c / freq_in[1]\n",
    "    omega_in = 2*np.pi*freq_in[1]\n",
    "\n",
    "    alpha, omega_arr, omega_in, Skw = cts.generate_spectral_density(lambda_in*1e9, Te[i], Ti[i], ne[i], delta_lam=1000, ions=\"He+\")\n",
    "    ax.plot(omega_arr-omega_in, Skw, '--', color=cl[i])\n",
    "\n",
    "\n",
    "# Create first legend for the data lines\n",
    "first_legend = ax.legend(loc='upper right', fontsize=16, bbox_to_anchor=(1, 1))\n",
    "# Add the first legend manually to the axes\n",
    "ax.add_artist(first_legend)\n",
    "# Add a second legend for line styles\n",
    "custom_lines = [Line2D([0], [0], color='black', lw=2),\n",
    "                Line2D([0], [0], color='black', lw=2, linestyle='--')]\n",
    "second_legend = ax.legend(custom_lines, [f'{freq_in[0]/1e9:.0f} GHz', f'{freq_in[1]/1e9:.0f} GHz'], \n",
    "                          loc='upper left', fontsize=20, bbox_to_anchor=(0, 1))\n",
    "plt.tight_layout()\n",
    "\n",
    "# fig, ax = plt.subplots(figsize=(16, 6))\n",
    "# ax.set_xlabel(r\"frequency (GHz)\")\n",
    "# ax.set_ylabel(r\"$S(k, \\omega)$\")\n",
    "\n",
    "# for i in range(len(ne)):\n",
    "#     alpha, omega_arr, Skw = cts.generate_spectral_density(lambda_in*1e9, Te[i], Ti[i], ne[i], delta_lam=5000, ions=\"He+\")\n",
    "#     freq_arr = omega_arr/(2*np.pi) *1e-9\n",
    "#     ax.plot(freq_arr, Skw, '--',label=f\"ne={ne[i]:.1e}, Te={Te[i]}, Ti={Ti[i]}\")\n",
    "    \n",
    "# ax.legend(loc='upper left')\n",
    "# ax.set_title(\"Helium\")"
   ]
  },
  {
   "cell_type": "code",
   "execution_count": null,
   "id": "0a63953d",
   "metadata": {},
   "outputs": [],
   "source": [
    "lambda_in = 2*np.pi*c / omega_arr\n",
    "\n",
    "plt.figure(figsize=(8, 6))\n",
    "for i in range(len(ne)):\n",
    "    a_ls =cts.compute_alpha(lambda_in*100, 180, ne[i], Te[i])\n",
    "    plt.plot(omega_arr*1e-9, a_ls, label=f\"ne={ne[i]:.1e}, Te={Te[i]}, Ti={Ti[i]}\")\n",
    "\n",
    "plt.xlabel(r\"frequency (GHz)\")\n",
    "plt.ylabel(r\"$\\alpha=1/k\\lambda_D$\")\n",
    "plt.yticks(fontweight='bold')\n",
    "plt.legend(loc='upper right', fontsize=16)\n",
    "plt.tight_layout()"
   ]
  },
  {
   "cell_type": "code",
   "execution_count": 18,
   "id": "fe2f8439",
   "metadata": {},
   "outputs": [],
   "source": [
    "freq_ls = np.arange(300e9, 600e9, 10e9)\n",
    "plt.figure(figsize=(8, 5))\n",
    "plt.xlabel(\"frequency (GHz)\")\n",
    "plt.ylabel(\"$P_s/P_iL (1/cm) $\")\n",
    "\n",
    "for i in range(len(ne)):\n",
    "    pr_ls = []\n",
    "    for freq in freq_ls:\n",
    "\n",
    "        lambda_in = c / freq\n",
    "        alpha, omega_arr, omega_in, Skw = cts.generate_spectral_density(lambda_in*1e9, Te[i], Ti[i], ne[i], delta_lam=5000, ions=\"H+\")\n",
    "        pr = cts.power_ratio(ne[i], omega_arr, Skw, scattering_angle=180, L=1)\n",
    "        pr_ls.append(pr)\n",
    "\n",
    "    plt.plot(freq_ls*1e-9, pr_ls, label=f\"ne={ne[i]:.1e}, Te={Te[i]}, Ti={Ti[i]}\")\n",
    "plt.legend()\n",
    "plt.tight_layout()"
   ]
  },
  {
   "cell_type": "code",
   "execution_count": 4,
   "id": "64a7388a",
   "metadata": {},
   "outputs": [],
   "source": [
    "plt.figure(figsize=(8, 6))\n",
    "for i in range(len(ne)):\n",
    "    rot_angle = cts.faraday_rotation_angle(freq_ls, ne[i], 1, 1)\n",
    "    plt.plot(freq_ls*1e-9, rot_angle, label=f\"ne={ne[i]:.1e}, Te={Te[i]}, Ti={Ti[i]}\")\n",
    "plt.legend(loc='upper right', fontsize=14)\n",
    "plt.title(\"Faraday rotation angle per cm per Gauss\")\n",
    "plt.xlabel(\"frequency (GHz)\")\n",
    "plt.ylabel(\"deg/(cm*Gauss)\")\n",
    "plt.tight_layout()"
   ]
  },
  {
   "cell_type": "code",
   "execution_count": 3,
   "id": "c0c88c98",
   "metadata": {},
   "outputs": [],
   "source": [
    "# Parameters\n",
    "f0 = 300e9 # GHz\n",
    "n_cycles = 32\n",
    "n_e = 1e13  # cm^-3\n",
    "L = 1\n",
    "mass = Particle(\"e-\").mass.value\n",
    "omega_p = plasma_frequency.lite(n_e*1e6, mass, Z=1, to_hz=False)"
   ]
  },
  {
   "cell_type": "code",
   "execution_count": null,
   "id": "1dd45a56",
   "metadata": {},
   "outputs": [],
   "source": [
    "print(f\"{5.64e4 * np.sqrt(n_e):.2e}\")\n",
    "print(f\"{f0*2*np.pi:.2e}\")"
   ]
  },
  {
   "cell_type": "code",
   "execution_count": null,
   "id": "e87c8b3c",
   "metadata": {},
   "outputs": [],
   "source": []
  }
 ],
 "metadata": {
  "kernelspec": {
   "display_name": ".venv",
   "language": "python",
   "name": "python3"
  },
  "language_info": {
   "codemirror_mode": {
    "name": "ipython",
    "version": 3
   },
   "file_extension": ".py",
   "mimetype": "text/x-python",
   "name": "python",
   "nbconvert_exporter": "python",
   "pygments_lexer": "ipython3",
   "version": "3.11.5"
  }
 },
 "nbformat": 4,
 "nbformat_minor": 5
}

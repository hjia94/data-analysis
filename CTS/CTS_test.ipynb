{
 "cells": [
  {
   "cell_type": "code",
   "execution_count": 2,
   "id": "9d1ae117",
   "metadata": {},
   "outputs": [],
   "source": [
    "import sys\n",
    "import numpy as np\n",
    "import matplotlib.pyplot as plt\n",
    "import CTS as cts\n",
    "from scipy.constants import *\n",
    "from scipy.signal import hilbert\n",
    "from scipy import ndimage\n",
    "\n",
    "sys.path.append(r\"C:\\Users\\hjia9\\Documents\\GitHub\\data-analysis\")\n",
    "from data_analysis_utils import find_all_zerocrossing, hl_envelopes_idx\n",
    "\n",
    "plt.rcParams.update({'font.size': 20})\n",
    "%matplotlib qt"
   ]
  },
  {
   "cell_type": "code",
   "execution_count": 2,
   "id": "3dd39962",
   "metadata": {},
   "outputs": [],
   "source": [
    "freq_in = [330e9,600e9] # Hz\n",
    "cl = ['r', 'g', 'b']\n",
    "\n",
    "ne = [1e12, 1e13, 5e13]\n",
    "Te = [5,5, 300]\n",
    "Ti = [1,1, 100]"
   ]
  },
  {
   "cell_type": "code",
   "execution_count": null,
   "id": "84c233f8",
   "metadata": {},
   "outputs": [],
   "source": [
    "fig, ax = plt.subplots(figsize=(10, 6))\n",
    "ax.set_xlabel(r\"$\\omega_s - \\omega_i (rad/s)$\")\n",
    "ax.set_ylabel(r\"$S(k, \\omega)$\")\n",
    "\n",
    "for i in range(len(ne)):\n",
    "\n",
    "    lambda_in = c / freq_in[0]\n",
    "    omega_in = 2*np.pi*freq_in[0]\n",
    "\n",
    "    alpha, omega_arr, omega_in, Skw= cts.generate_spectral_density(lambda_in*1e9, Te[i], Ti[i], ne[i], delta_lam=10000, ions=\"He+\")\n",
    "    \n",
    "    ax.plot(omega_arr-omega_in, Skw, label=f\"ne={ne[i]:.1e}, Te={Te[i]}, Ti={Ti[i]}\", color=cl[i])\n",
    "\n",
    "    a =cts.compute_alpha(lambda_in*100, 180, ne[i], Te[i])\n",
    "    print('S integral = ',integrate.simpson(Skw, omega_arr))\n",
    "    print('alpha = ', a)\n",
    "\n",
    "    lambda_in = c / freq_in[1]\n",
    "    omega_in = 2*np.pi*freq_in[1]\n",
    "\n",
    "    alpha, omega_arr, omega_in, Skw = cts.generate_spectral_density(lambda_in*1e9, Te[i], Ti[i], ne[i], delta_lam=1000, ions=\"He+\")\n",
    "    ax.plot(omega_arr-omega_in, Skw, '--', color=cl[i])\n",
    "\n",
    "\n",
    "# Create first legend for the data lines\n",
    "first_legend = ax.legend(loc='upper right', fontsize=16, bbox_to_anchor=(1, 1))\n",
    "# Add the first legend manually to the axes\n",
    "ax.add_artist(first_legend)\n",
    "# Add a second legend for line styles\n",
    "custom_lines = [Line2D([0], [0], color='black', lw=2),\n",
    "                Line2D([0], [0], color='black', lw=2, linestyle='--')]\n",
    "second_legend = ax.legend(custom_lines, [f'{freq_in[0]/1e9:.0f} GHz', f'{freq_in[1]/1e9:.0f} GHz'], \n",
    "                          loc='upper left', fontsize=20, bbox_to_anchor=(0, 1))\n",
    "plt.tight_layout()\n",
    "\n",
    "# fig, ax = plt.subplots(figsize=(16, 6))\n",
    "# ax.set_xlabel(r\"frequency (GHz)\")\n",
    "# ax.set_ylabel(r\"$S(k, \\omega)$\")\n",
    "\n",
    "# for i in range(len(ne)):\n",
    "#     alpha, omega_arr, Skw = cts.generate_spectral_density(lambda_in*1e9, Te[i], Ti[i], ne[i], delta_lam=5000, ions=\"He+\")\n",
    "#     freq_arr = omega_arr/(2*np.pi) *1e-9\n",
    "#     ax.plot(freq_arr, Skw, '--',label=f\"ne={ne[i]:.1e}, Te={Te[i]}, Ti={Ti[i]}\")\n",
    "    \n",
    "# ax.legend(loc='upper left')\n",
    "# ax.set_title(\"Helium\")"
   ]
  },
  {
   "cell_type": "code",
   "execution_count": null,
   "id": "0a63953d",
   "metadata": {},
   "outputs": [],
   "source": [
    "lambda_in = 2*np.pi*c / omega_arr\n",
    "\n",
    "plt.figure(figsize=(8, 6))\n",
    "for i in range(len(ne)):\n",
    "    a_ls =cts.compute_alpha(lambda_in*100, 180, ne[i], Te[i])\n",
    "    plt.plot(omega_arr*1e-9, a_ls, label=f\"ne={ne[i]:.1e}, Te={Te[i]}, Ti={Ti[i]}\")\n",
    "\n",
    "plt.xlabel(r\"frequency (GHz)\")\n",
    "plt.ylabel(r\"$\\alpha=1/k\\lambda_D$\")\n",
    "plt.yticks(fontweight='bold')\n",
    "plt.legend(loc='upper right', fontsize=16)\n",
    "plt.tight_layout()"
   ]
  },
  {
   "cell_type": "code",
   "execution_count": 18,
   "id": "fe2f8439",
   "metadata": {},
   "outputs": [],
   "source": [
    "freq_ls = np.arange(300e9, 600e9, 10e9)\n",
    "plt.figure(figsize=(8, 5))\n",
    "plt.xlabel(\"frequency (GHz)\")\n",
    "plt.ylabel(\"$P_s/P_iL (1/cm) $\")\n",
    "\n",
    "for i in range(len(ne)):\n",
    "    pr_ls = []\n",
    "    for freq in freq_ls:\n",
    "\n",
    "        lambda_in = c / freq\n",
    "        alpha, omega_arr, omega_in, Skw = cts.generate_spectral_density(lambda_in*1e9, Te[i], Ti[i], ne[i], delta_lam=5000, ions=\"H+\")\n",
    "        pr = cts.power_ratio(ne[i], omega_arr, Skw, scattering_angle=180, L=1)\n",
    "        pr_ls.append(pr)\n",
    "\n",
    "    plt.plot(freq_ls*1e-9, pr_ls, label=f\"ne={ne[i]:.1e}, Te={Te[i]}, Ti={Ti[i]}\")\n",
    "plt.legend()\n",
    "plt.tight_layout()"
   ]
  },
  {
   "cell_type": "code",
   "execution_count": 4,
   "id": "1dd45a56",
   "metadata": {},
   "outputs": [
    {
     "name": "stdout",
     "output_type": "stream",
     "text": [
      "1.9747118931834046e-12\n"
     ]
    }
   ],
   "source": [
    "# Parameters\n",
    "a = 5 # receiver radius in cm\n",
    "f0 = 300e9 # units: Hz\n",
    "n_cycles = 32\n",
    "dt = 0.2 # units: ps\n",
    "t0 = 5 # units: ps\n",
    "n_e = 1e13  # cm^-3\n",
    "B = 0.1 # Tesla\n",
    "\n",
    "x_0 = 0.5 # units: meter\n",
    "x_pl = 1 # units: meter\n",
    "L_arr = np.arange(x_0, x_0+x_pl, 0.01) # units: meter\n",
    "\n",
    "pr = cts.power_ratio(n_e, L=1, scattering_angle=180) * a**2/4\n",
    "print(pr)\n",
    "\n",
    "tarr, sig_in, x = cts.generate_thz_waveform(f0/1e12, 0.9, n_cycles, dt, t0, 50)"
   ]
  },
  {
   "cell_type": "code",
   "execution_count": 5,
   "id": "a351c1d3",
   "metadata": {},
   "outputs": [],
   "source": [
    "tarr, tot_wave = cts.total_propagation(tarr, sig_in, n_e, L_arr)\n",
    "tot_wave = tot_wave / np.max(np.abs(tot_wave))  # normalize to 1"
   ]
  },
  {
   "cell_type": "code",
   "execution_count": 38,
   "id": "9c7fe338",
   "metadata": {},
   "outputs": [
    {
     "data": {
      "text/plain": [
       "<matplotlib.legend.Legend at 0x211835db490>"
      ]
     },
     "execution_count": 38,
     "metadata": {},
     "output_type": "execute_result"
    }
   ],
   "source": [
    "plt.figure()\n",
    "plt.plot(tarr, sig_in, linewidth=2, label='Input Signal')\n",
    "plt.plot(tarr, tot_wave, linewidth=2, label='Propagated Signal')\n",
    "\n",
    "plt.xlabel('Time (ps)')\n",
    "plt.ylabel('Amplitude')\n",
    "plt.legend()\n",
    "plt.legend()"
   ]
  },
  {
   "cell_type": "code",
   "execution_count": 6,
   "id": "d223c063",
   "metadata": {},
   "outputs": [],
   "source": [
    "zerocrossing_arr = find_all_zerocrossing(tot_wave, dt*1e-12, direction='positive')\n",
    "omega_arr = 2*np.pi / np.diff(zerocrossing_arr)\n",
    "new_Larr = np.linspace(0, x_pl, len(omega_arr))\n",
    "\n",
    "ang_arr = cts.faraday_rotation_angle(omega_arr, n_e*1e6, B, new_Larr)"
   ]
  },
  {
   "cell_type": "code",
   "execution_count": 40,
   "id": "64a7388a",
   "metadata": {},
   "outputs": [],
   "source": [
    "plt.figure(figsize=(8, 6))\n",
    "plt.plot(new_Larr, ang_arr)\n",
    "plt.title(\"Faraday rotation angle\")\n",
    "plt.xlabel(\"Distance (m)\")\n",
    "plt.ylabel(\"deg\")\n",
    "plt.tight_layout()"
   ]
  },
  {
   "cell_type": "code",
   "execution_count": 7,
   "id": "2404bf23",
   "metadata": {},
   "outputs": [
    {
     "data": {
      "text/plain": [
       "[<matplotlib.lines.Line2D at 0x1ea1d5d9390>]"
      ]
     },
     "execution_count": 7,
     "metadata": {},
     "output_type": "execute_result"
    }
   ],
   "source": [
    "# Calculate envelope\n",
    "envelope = np.abs(hilbert(tot_wave))\n",
    "env_filt = ndimage.gaussian_filter1d(envelope, 100)\n",
    "\n",
    "start_idx = np.argwhere(tarr > 250)[0][0]\n",
    "denv = np.gradient(env_filt[start_idx:])\n",
    "\n",
    "fig, ax = plt.subplots(nrows=2, ncols=1)\n",
    "ax[0].plot(tarr[start_idx:], envelope[start_idx:])\n",
    "ax[0].plot(tarr[start_idx:], env_filt[start_idx:])\n",
    "\n",
    "stop_idx = start_idx + np.argmin(denv)\n",
    "start_idx = start_idx + np.argmax(denv)\n",
    "\n",
    "sig_amp = envelope[start_idx:stop_idx]\n",
    "ax[1].plot(tarr[start_idx:stop_idx], sig_amp)"
   ]
  },
  {
   "cell_type": "code",
   "execution_count": 19,
   "id": "df2855cf",
   "metadata": {},
   "outputs": [],
   "source": [
    "L_interp = np.linspace(new_Larr[0], new_Larr[-1], len(sig_amp))\n",
    "ang_interp = np.interp(L_interp, new_Larr, ang_arr)\n",
    "\n",
    "sig_through = pr * (1 - ang_interp / 180)\n",
    "\n",
    "plt.figure()\n",
    "plt.plot(L_interp, sig_amp * sig_through)\n",
    "plt.yscale('log')\n",
    "plt.xlabel('Distance (m)')\n",
    "plt.ylabel('$P_s/P_i$')\n",
    "plt.tight_layout()\n",
    "plt.show()\n"
   ]
  },
  {
   "cell_type": "code",
   "execution_count": null,
   "id": "b2a012b2",
   "metadata": {},
   "outputs": [],
   "source": []
  }
 ],
 "metadata": {
  "kernelspec": {
   "display_name": ".venv",
   "language": "python",
   "name": "python3"
  },
  "language_info": {
   "codemirror_mode": {
    "name": "ipython",
    "version": 3
   },
   "file_extension": ".py",
   "mimetype": "text/x-python",
   "name": "python",
   "nbconvert_exporter": "python",
   "pygments_lexer": "ipython3",
   "version": "3.11.5"
  }
 },
 "nbformat": 4,
 "nbformat_minor": 5
}

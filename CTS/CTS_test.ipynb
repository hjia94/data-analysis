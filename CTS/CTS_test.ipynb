{
 "cells": [
  {
   "cell_type": "code",
   "execution_count": 1,
   "id": "9d1ae117",
   "metadata": {},
   "outputs": [],
   "source": [
    "import numpy as np\n",
    "import matplotlib.pyplot as plt\n",
    "import CTS as cts\n",
    "from scipy.constants import c\n",
    "\n",
    "plt.rcParams.update({'font.size': 16})\n",
    "%matplotlib qt"
   ]
  },
  {
   "cell_type": "code",
   "execution_count": 2,
   "id": "3dd39962",
   "metadata": {},
   "outputs": [],
   "source": [
    "freq_in = 500e9 # Hz\n",
    "lambda_in = c / freq_in\n",
    "ne = [1e13, 1e12]\n",
    "Te = [3,10]\n",
    "Ti = [1,4]"
   ]
  },
  {
   "cell_type": "code",
   "execution_count": 3,
   "id": "84c233f8",
   "metadata": {},
   "outputs": [
    {
     "data": {
      "text/plain": [
       "<matplotlib.legend.Legend at 0x1f793039110>"
      ]
     },
     "execution_count": 3,
     "metadata": {},
     "output_type": "execute_result"
    }
   ],
   "source": [
    "fig, ax = plt.subplots()\n",
    "for i in range(len(ne)):\n",
    "    alpha, omega_arr, Skw = cts.generate_spectral_density(lambda_in*1e9, Te[i], Ti[i], ne[i], delta_lam=500, ions=\"H+\")\n",
    "    ax.plot(omega_arr, Skw, label=f\"ne={ne[i]:.1e}, Te={Te[i]}, Ti={Ti[i]}\")\n",
    "ax.legend()\n",
    "\n",
    "for i in range(len(ne)):\n",
    "    alpha, omega_arr, Skw = cts.generate_spectral_density(lambda_in*1e9, Te[i], Ti[i], ne[i], delta_lam=500, ions=\"He+\")\n",
    "    ax.plot(omega_arr, Skw, '--',label=f\"ne={ne[i]:.1e}, Te={Te[i]}, Ti={Ti[i]}\")\n",
    "ax.legend()"
   ]
  },
  {
   "cell_type": "code",
   "execution_count": null,
   "id": "fe2f8439",
   "metadata": {},
   "outputs": [],
   "source": []
  }
 ],
 "metadata": {
  "kernelspec": {
   "display_name": ".venv",
   "language": "python",
   "name": "python3"
  },
  "language_info": {
   "codemirror_mode": {
    "name": "ipython",
    "version": 3
   },
   "file_extension": ".py",
   "mimetype": "text/x-python",
   "name": "python",
   "nbconvert_exporter": "python",
   "pygments_lexer": "ipython3",
   "version": "3.11.5"
  }
 },
 "nbformat": 4,
 "nbformat_minor": 5
}

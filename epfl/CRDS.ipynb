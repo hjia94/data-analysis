{
 "cells": [
  {
   "cell_type": "code",
   "execution_count": 6,
   "metadata": {},
   "outputs": [],
   "source": [
    "import numpy as np\n",
    "import math\n",
    "import pandas as pd\n",
    "import matplotlib as mpl\n",
    "import matplotlib.pyplot as plt\n",
    "import calibrate_power as cbp\n",
    "\n",
    "from scipy import signal\n",
    "\n",
    "import sys\n",
    "sys.path.append(r\"C:\\Users\\hjia9\\Documents\\GitHub\\data-analysis\\read\")\n",
    "\n",
    "from read_scope_data import read_trc_data\n",
    "\n",
    "%matplotlib widget"
   ]
  },
  {
   "cell_type": "code",
   "execution_count": null,
   "metadata": {},
   "outputs": [],
   "source": [
    "ifn = r\"C:\\data\\epfl\\CRDS\\scope trc\\bdcageAnt\\C1-300W-1mT-00000.trc\"\n",
    "Iant, tarr = read_trc_data(ifn)\n",
    "Iant *= 8 # Pearson 8A/V\n",
    "\n",
    "ifn = r\"C:\\data\\epfl\\CRDS\\scope trc\\solAnt\\C3-500W-36mT-00000.trc\"\n",
    "light, tarr = read_trc_data(ifn)\n",
    "print(tarr.shape, light.shape)\n",
    "\n",
    "ifn = r\"C:\\data\\epfl\\CRDS\\scope trc\\solAnt\\C4-500W-36mT-00000.trc\"\n",
    "Vtrig, tarr = read_trc_data(ifn)"
   ]
  },
  {
   "cell_type": "code",
   "execution_count": null,
   "metadata": {},
   "outputs": [],
   "source": [
    "fig, ax = plt.subplots(nrows=3, sharex=True)\n",
    "ax[0].plot(tarr*1e3, Iant)\n",
    "ax[0].set_ylabel('Iant (A)')\n",
    "\n",
    "ax[1].plot(tarr*1e3, light)\n",
    "ax[1].set_ylabel('Light')\n",
    "\n",
    "ax[2].plot(tarr*1e3, Vtrig)\n",
    "ax[2].set_ylabel('TTL')\n",
    "ax[2].set_xlabel('time (ms)')\n",
    "\n",
    "start = 22000\n",
    "stop = 24000\n",
    "ax[1].plot(tarr[start:stop]*1e3, light[start:stop]) # plot range to take average\n",
    "lavg = numpy.average(light[start:stop]) * 1e3 # take average light signal conver V to mV\n",
    "print(cbp.ltop_solenoid(lavg, 35)) # Calibrated power according to CW light signal"
   ]
  },
  {
   "cell_type": "code",
   "execution_count": null,
   "metadata": {},
   "outputs": [],
   "source": [
    "ifn = r\"C:\\data\\epfl\\CRDS\\solenoid\\20230601_0.5mTorr_0.007lnmin.xlsx\"\n",
    "\n",
    "# xlsx is only supported by openpyxl special package because they saved the excel on a very old version ugh\n",
    "excel_data_df = pd.read_excel(ifn, sheet_name=0, engine='openpyxl', header=[0])\n",
    "\n",
    "hdr_ls = excel_data_df.columns.ravel()\n",
    "print(hdr_ls)"
   ]
  },
  {
   "cell_type": "code",
   "execution_count": null,
   "metadata": {},
   "outputs": [],
   "source": [
    "tarr_crds = excel_data_df[hdr_ls[0]].to_numpy()\n",
    "sig_crds = excel_data_df[hdr_ls[1]].to_numpy()\n",
    "\n",
    "tarr_crds = tarr_crds[~numpy.isnan(sig_crds)]\n",
    "sig_crds = sig_crds[~numpy.isnan(sig_crds)]\n",
    "\n",
    "print(len(sig_crds))"
   ]
  },
  {
   "cell_type": "code",
   "execution_count": null,
   "metadata": {},
   "outputs": [],
   "source": [
    "fig = plt.figure()\n",
    "plt.scatter(tarr_crds, sig_crds)\n",
    "\n",
    "# signal baseline\n",
    "start = 200\n",
    "stop = 240\n",
    "plt.scatter(tarr_crds[start:stop], sig_crds[start:stop])\n",
    "sig_base = numpy.average(sig_crds[start:stop])\n",
    "\n",
    "# signal active-glow equilibrium value\n",
    "start = -70\n",
    "stop = -20\n",
    "plt.scatter(tarr_crds[start:stop], sig_crds[start:stop])\n",
    "sig_val = numpy.average(sig_crds[start:stop])\n",
    "\n",
    "print('%.2e' %(sig_val-sig_base))"
   ]
  },
  {
   "cell_type": "code",
   "execution_count": null,
   "metadata": {},
   "outputs": [],
   "source": [
    "plt.close(fig)"
   ]
  },
  {
   "cell_type": "code",
   "execution_count": null,
   "metadata": {},
   "outputs": [],
   "source": [
    "fig, ax = plt.subplots(nrows=3, sharex=True)\n",
    "fig.suptitle('5mTorr/0.67Pa 580W')\n",
    "\n",
    "ax[0].plot(tarr*1e3, light)\n",
    "ax[0].set_ylabel('Light')\n",
    "\n",
    "ax[1].plot(tarr*1e3, Vtrig)\n",
    "ax[1].set_ylabel('TTL')\n",
    "\n",
    "tarr_fake = tarr_crds + tarr_crds[-1]\n",
    "tarr_crds_mod = numpy.hstack((tarr_crds, tarr_fake)) #+tarr_crds[100]\n",
    "sig_crds_mod = numpy.tile(sig_crds , 2) #numpy.roll(sig_crds,-100)\n",
    "\n",
    "ax[2].plot(tarr_crds_mod*1e3, sig_crds_mod)\n",
    "ax[2].set_ylabel('crds signal')\n",
    "ax[2].set_xlabel('time (ms)')"
   ]
  },
  {
   "cell_type": "code",
   "execution_count": null,
   "metadata": {},
   "outputs": [],
   "source": []
  }
 ],
 "metadata": {
  "kernelspec": {
   "display_name": "base",
   "language": "python",
   "name": "python3"
  },
  "language_info": {
   "codemirror_mode": {
    "name": "ipython",
    "version": 3
   },
   "file_extension": ".py",
   "mimetype": "text/x-python",
   "name": "python",
   "nbconvert_exporter": "python",
   "pygments_lexer": "ipython3",
   "version": "3.11.5"
  },
  "orig_nbformat": 4
 },
 "nbformat": 4,
 "nbformat_minor": 2
}

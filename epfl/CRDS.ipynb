{
 "cells": [
  {
   "cell_type": "code",
   "execution_count": 1,
   "metadata": {},
   "outputs": [],
   "source": [
    "import sys\n",
    "sys.path.append(r\"C:\\Users\\hjia9\\Documents\\GitHub\\data-analysis\")\n",
    "sys.path.append(r\"C:\\Users\\hjia9\\Documents\\GitHub\\data-analysis\\read\")\n",
    "\n",
    "import numpy as np\n",
    "import pandas as pd\n",
    "import os\n",
    "import matplotlib as mpl\n",
    "import matplotlib.pyplot as plt\n",
    "\n",
    "import data_analysis_utils as utils\n",
    "import calibrate_power as cbp\n",
    "from read_scope_data import read_trc_data\n",
    "from crds_tools import read_excel_sheets\n",
    "\n",
    "%matplotlib qt"
   ]
  },
  {
   "cell_type": "code",
   "execution_count": 2,
   "metadata": {},
   "outputs": [
    {
     "name": "stdout",
     "output_type": "stream",
     "text": [
      "Reading data...\n",
      "Done\n",
      "Reading data...\n",
      "Done\n",
      "Reading data...\n",
      "Done\n",
      "Reading data...\n",
      "Done\n"
     ]
    }
   ],
   "source": [
    "path = r\"C:\\data\\epfl\\diagnostic-source\\CRDS\\scope-trc\\solAnt\"\n",
    "ifn = r\"C:\\data\\epfl\\diagnostic-source\\CRDS\\solenoid\\20230601_5mTorr_0.06lnmin.xlsx\"\n",
    "start = 115000\n",
    "stop = 125000\n",
    "pressure = 5\n",
    "\n",
    "# Plot light signal and range of CW to take average for calibrating power later\n",
    "file_ls = utils.get_files_in_folder(path, modified_date='2023-06-01', omit_keyword='water')\n",
    "for file in file_ls:\n",
    "    if \"C3\" in file and '-'+str(pressure)+'mT' in file:\n",
    "        light, tarr = read_trc_data(file)\n",
    "        plt.figure()\n",
    "        plt.plot(tarr*1e3, light)\n",
    "        plt.plot(tarr[start:stop]*1e3, light[start:stop])# plot range to take average\n",
    "        plt.title(file)"
   ]
  },
  {
   "cell_type": "code",
   "execution_count": 3,
   "metadata": {},
   "outputs": [
    {
     "name": "stdout",
     "output_type": "stream",
     "text": [
      "['420W-10W', '500W-7W', '590W-12W']\n",
      "Reading data...\n",
      "Done\n",
      "Power = 429.8599521313596 W\n",
      "Reading data...\n",
      "Done\n",
      "Power = 535.7907114679839 W\n",
      "Reading data...\n",
      "Done\n",
      "Power = 595.5503834020199 W\n",
      "Reading data...\n",
      "Done\n",
      "Power = 594.1751460009277 W\n",
      "[[400.         429.85995213]\n",
      " [500.         535.79071147]\n",
      " [580.         595.5503834 ]\n",
      " [580.         594.175146  ]]\n"
     ]
    }
   ],
   "source": [
    "dic = read_excel_sheets(ifn)\n",
    "pwr_ls = cbp.get_power_solenoid(pressure, start, stop)\n",
    "\n",
    "print(pwr_ls)"
   ]
  },
  {
   "cell_type": "code",
   "execution_count": 4,
   "metadata": {},
   "outputs": [
    {
     "name": "stdout",
     "output_type": "stream",
     "text": [
      "420W-10W\n",
      "Density: 8.16e+10\n",
      "500W-7W\n",
      "Density: 9.17e+10\n",
      "590W-12W\n",
      "Density: 9.84e+10\n"
     ]
    }
   ],
   "source": [
    "converted_dic = {}\n",
    "for i, key in enumerate(dic.keys()):\n",
    "    print(key)\n",
    "    data = dic[key]\n",
    "    tarr_crds = data[:,0]\n",
    "    sig_crds = data[:,1]\n",
    "    plt.figure()\n",
    "    plt.plot(tarr_crds, sig_crds)\n",
    "    plt.title(pwr_ls[i,1])\n",
    "    plt.xlabel('Time (s)')\n",
    "\n",
    "    # signal baseline\n",
    "    start = 20\n",
    "    stop = 95\n",
    "    plt.scatter(tarr_crds[start:stop], sig_crds[start:stop], c='r')\n",
    "    sig_base = np.average(sig_crds[start:stop])\n",
    "\n",
    "    # signal active-glow equilibrium value\n",
    "    start = 850\n",
    "    stop = 950\n",
    "    plt.scatter(tarr_crds[start:stop], sig_crds[start:stop], c='g')\n",
    "    sig_val = np.average(sig_crds[start:stop])\n",
    "\n",
    "    n = (sig_val-sig_base) / 5.8e-18 # convert CRDS to O- density\n",
    "\n",
    "    converted_dic[str(int(pwr_ls[i,1]))+'W'] = n\n",
    "\n",
    "    print(f\"Density: {format(n, '.2e')}\")"
   ]
  },
  {
   "cell_type": "code",
   "execution_count": 5,
   "metadata": {},
   "outputs": [
    {
     "name": "stdout",
     "output_type": "stream",
     "text": [
      "Data saved to C:\\data\\epfl\\diagnostic-source\\CRDS\\solenoid\\5mTorr.npy\n"
     ]
    }
   ],
   "source": [
    "npy_file_path = r\"C:\\data\\epfl\\diagnostic-source\\CRDS\\solenoid\\{}mTorr.npy\".format(pressure)\n",
    "utils.save_to_npy([converted_dic,dic], npy_file_path)"
   ]
  },
  {
   "cell_type": "code",
   "execution_count": 8,
   "metadata": {},
   "outputs": [
    {
     "name": "stdout",
     "output_type": "stream",
     "text": [
      "dict_keys(['429W', '535W', '595W'])\n",
      "dict_keys(['420W-10W', '500W-7W', '590W-12W'])\n",
      "(9601, 2)\n"
     ]
    }
   ],
   "source": [
    "data = utils.read_from_npy(npy_file_path)\n",
    "print(data[0].keys())\n",
    "print(data[1].keys())\n",
    "print(list(data[1].values())[0].shape)"
   ]
  },
  {
   "cell_type": "code",
   "execution_count": null,
   "metadata": {},
   "outputs": [],
   "source": [
    "# Some C1 records antenna current, code commented out included as needed\n",
    "ifn = r\"C:\\data\\epfl\\CRDS\\scope trc\\bdcageAnt\\C1-300W-1mT-00000.trc\"\n",
    "Iant, tarr = read_trc_data(ifn)\n",
    "Iant *= 8 # Pearson 8A/V\n",
    "\n",
    "if \"C4\" in file:\n",
    "    Vtrig, tarr = read_trc_data(file)\n",
    "    plt.figure(2)\n",
    "    plt.plot(tarr*1e3, Vtrig, label = str(power) + \"W\")\n",
    "    plt.ylabel('TTL')\n",
    "    plt.xlabel('time (ms)')\n",
    "    plt.legend()"
   ]
  },
  {
   "cell_type": "code",
   "execution_count": null,
   "metadata": {},
   "outputs": [],
   "source": [
    "fig, ax = plt.subplots(nrows=3, sharex=True)\n",
    "fig.suptitle('5mTorr/0.67Pa 580W')\n",
    "\n",
    "ax[0].plot(tarr*1e3, light)\n",
    "ax[0].set_ylabel('Light')\n",
    "\n",
    "ax[1].plot(tarr*1e3, Vtrig)\n",
    "ax[1].set_ylabel('TTL')\n",
    "\n",
    "tarr_fake = tarr_crds + tarr_crds[-1]\n",
    "tarr_crds_mod = np.hstack((tarr_crds, tarr_fake)) #+tarr_crds[100]\n",
    "sig_crds_mod = np.tile(sig_crds , 2) #numpy.roll(sig_crds,-100)\n",
    "\n",
    "ax[2].plot(tarr_crds_mod*1e3, sig_crds_mod)\n",
    "ax[2].set_ylabel('crds signal')\n",
    "ax[2].set_xlabel('time (ms)')"
   ]
  },
  {
   "cell_type": "code",
   "execution_count": null,
   "metadata": {},
   "outputs": [],
   "source": []
  }
 ],
 "metadata": {
  "kernelspec": {
   "display_name": "base",
   "language": "python",
   "name": "python3"
  },
  "language_info": {
   "codemirror_mode": {
    "name": "ipython",
    "version": 3
   },
   "file_extension": ".py",
   "mimetype": "text/x-python",
   "name": "python",
   "nbconvert_exporter": "python",
   "pygments_lexer": "ipython3",
   "version": "3.11.5"
  },
  "orig_nbformat": 4
 },
 "nbformat": 4,
 "nbformat_minor": 2
}

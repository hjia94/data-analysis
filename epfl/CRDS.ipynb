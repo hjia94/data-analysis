{
 "cells": [
  {
   "cell_type": "code",
   "execution_count": 1,
   "metadata": {},
   "outputs": [],
   "source": [
    "import sys\n",
    "sys.path.append(r\"C:\\Users\\hjia9\\Documents\\GitHub\\data-analysis\")\n",
    "sys.path.append(r\"C:\\Users\\hjia9\\Documents\\GitHub\\data-analysis\\read\")\n",
    "\n",
    "import numpy as np\n",
    "import math\n",
    "import pandas as pd\n",
    "import tempfile\n",
    "import matplotlib as mpl\n",
    "import matplotlib.pyplot as plt\n",
    "from scipy import signal\n",
    "\n",
    "import data_analysis_utils as utils\n",
    "import calibrate_power as cbp\n",
    "from read_scope_data import read_trc_data\n",
    "from crds_tools import read_excel_sheets, get_power_solenoid\n",
    "\n",
    "%matplotlib qt"
   ]
  },
  {
   "cell_type": "code",
   "execution_count": 15,
   "metadata": {},
   "outputs": [
    {
     "name": "stdout",
     "output_type": "stream",
     "text": [
      "['330W-20W', '400W-20W', '510W-10W', '590W-10W']\n"
     ]
    }
   ],
   "source": [
    "ifn = r\"C:\\data\\epfl\\diagnostic source\\CRDS\\solenoid\\20230601_15mTorr_0.15lnmin.xlsx\"\n",
    "dic_15mT = read_excel_sheets(ifn)"
   ]
  },
  {
   "cell_type": "code",
   "execution_count": 2,
   "metadata": {},
   "outputs": [
    {
     "name": "stdout",
     "output_type": "stream",
     "text": [
      "Reading data...\n",
      "Done\n",
      "Power = 307.1471836497802 W\n",
      "Reading data...\n",
      "Done\n",
      "Power = 378.32275259060384 W\n",
      "Reading data...\n",
      "Done\n",
      "Power = 495.4730699544068 W\n",
      "Reading data...\n",
      "Done\n",
      "Power = 574.3750972509141 W\n"
     ]
    }
   ],
   "source": [
    "start = 115000\n",
    "stop = 125000\n",
    "pressure = 15\n",
    "\n",
    "pwr_ls = get_power_solenoid(pressure, start, stop)"
   ]
  },
  {
   "cell_type": "code",
   "execution_count": 4,
   "metadata": {},
   "outputs": [
    {
     "name": "stdout",
     "output_type": "stream",
     "text": [
      "300.0\n"
     ]
    }
   ],
   "source": [
    "print(pwr_ls[0])"
   ]
  },
  {
   "cell_type": "code",
   "execution_count": 18,
   "metadata": {},
   "outputs": [],
   "source": [
    "def get_real_power(path, pressure):\n",
    "\n",
    "    file_ls = utils.get_files_in_folder(path)\n",
    "    for file in file_ls:\n",
    "        if f\"{pressure}mT\" in file:\n",
    "            \n",
    "    \n",
    "    ifn_light = path + f\"C3-{power}W-{pressure}mT-00000.trc\"\n",
    "    light, tarr = read_trc_data(ifn_light)\n",
    "\n",
    "    ifn_Vtrig = path + f\"C4-{power}W-{pressure}mT-00000.trc\"\n",
    "    Vtrig, tarr = read_trc_data(ifn_Vtrig)\n",
    "\n",
    "    fig, ax = plt.subplots(nrows=2, sharex=True)\n",
    "\n",
    "    ax[0].plot(tarr*1e3, light)\n",
    "    ax[0].set_ylabel('Light')\n",
    "\n",
    "    ax[1].plot(tarr*1e3, Vtrig)\n",
    "    ax[1].set_ylabel('TTL')\n",
    "    ax[1].set_xlabel('time (ms)')\n",
    "\n",
    "    start = 20000\n",
    "    stop = 24000\n",
    "    ax[0].plot(tarr[start:stop]*1e3, light[start:stop]) # plot range to take average\n",
    "    lavg = np.average(light[start:stop]) * 1e3 # take average light signal conver V to mV\n",
    "    pwr = cbp.ltop_solenoid(lavg, pressure) # Calibrated power according to CW light signal\n",
    "    print(f'Power = {pwr} W')\n",
    "\n",
    "    return pwr\n",
    "\n",
    "\n",
    "pressure = 15\n",
    "power = 300\n",
    "real_power = get_real_power(path, pressure, 0.15)"
   ]
  },
  {
   "cell_type": "code",
   "execution_count": null,
   "metadata": {},
   "outputs": [],
   "source": [
    "\n",
    "def save_to_npy(filepath, columns, skip_rows=0):\n",
    "    # Check if the .npy file already exists\n",
    "    npy_file_path = f\"{sheet_name}.npy\"\n",
    "    if os.path.exists(npy_file_path):\n",
    "        # Load the existing data dictionary from the .npy file\n",
    "        existing_data_dict = np.load(npy_file_path, allow_pickle=True).item()\n",
    "        # Append the selected columns to the existing data dictionary\n",
    "        existing_data_dict[sheet_name] = pd.to_numeric(selected_columns, errors='coerce').dropna()\n",
    "        # Save the updated data dictionary back to the .npy file\n",
    "        np.save(npy_file_path, existing_data_dict)\n",
    "    else:\n",
    "        # Create a new data dictionary and save it as a .npy file\n",
    "        data_dict[sheet_name] = pd.to_numeric(selected_columns, errors='coerce').dropna()\n",
    "        np.save(npy_file_path, data_dict)\n",
    "\n",
    "    return npy_file_path\n",
    "\n",
    "\n",
    "\n",
    "# Some C1 records antenna current, code commented out included as needed\n",
    "ifn = r\"C:\\data\\epfl\\CRDS\\scope trc\\bdcageAnt\\C1-300W-1mT-00000.trc\"\n",
    "Iant, tarr = read_trc_data(ifn)\n",
    "Iant *= 8 # Pearson 8A/V\n",
    "\n",
    "if \"C4\" in file:\n",
    "    Vtrig, tarr = read_trc_data(file)\n",
    "    plt.figure(2)\n",
    "    plt.plot(tarr*1e3, Vtrig, label = str(power) + \"W\")\n",
    "    plt.ylabel('TTL')\n",
    "    plt.xlabel('time (ms)')\n",
    "    plt.legend()"
   ]
  },
  {
   "cell_type": "code",
   "execution_count": null,
   "metadata": {},
   "outputs": [],
   "source": [
    "fig = plt.figure()\n",
    "plt.scatter(tarr_crds, sig_crds)\n",
    "\n",
    "# signal baseline\n",
    "start = 200\n",
    "stop = 240\n",
    "plt.scatter(tarr_crds[start:stop], sig_crds[start:stop])\n",
    "sig_base = np.average(sig_crds[start:stop])\n",
    "\n",
    "# signal active-glow equilibrium value\n",
    "start = -70\n",
    "stop = -20\n",
    "plt.scatter(tarr_crds[start:stop], sig_crds[start:stop])\n",
    "sig_val = np.average(sig_crds[start:stop])\n",
    "\n",
    "print('%.2e' %(sig_val-sig_base))"
   ]
  },
  {
   "cell_type": "code",
   "execution_count": null,
   "metadata": {},
   "outputs": [],
   "source": [
    "fig, ax = plt.subplots(nrows=3, sharex=True)\n",
    "fig.suptitle('5mTorr/0.67Pa 580W')\n",
    "\n",
    "ax[0].plot(tarr*1e3, light)\n",
    "ax[0].set_ylabel('Light')\n",
    "\n",
    "ax[1].plot(tarr*1e3, Vtrig)\n",
    "ax[1].set_ylabel('TTL')\n",
    "\n",
    "tarr_fake = tarr_crds + tarr_crds[-1]\n",
    "tarr_crds_mod = np.hstack((tarr_crds, tarr_fake)) #+tarr_crds[100]\n",
    "sig_crds_mod = np.tile(sig_crds , 2) #numpy.roll(sig_crds,-100)\n",
    "\n",
    "ax[2].plot(tarr_crds_mod*1e3, sig_crds_mod)\n",
    "ax[2].set_ylabel('crds signal')\n",
    "ax[2].set_xlabel('time (ms)')"
   ]
  },
  {
   "cell_type": "code",
   "execution_count": null,
   "metadata": {},
   "outputs": [],
   "source": []
  }
 ],
 "metadata": {
  "kernelspec": {
   "display_name": "base",
   "language": "python",
   "name": "python3"
  },
  "language_info": {
   "codemirror_mode": {
    "name": "ipython",
    "version": 3
   },
   "file_extension": ".py",
   "mimetype": "text/x-python",
   "name": "python",
   "nbconvert_exporter": "python",
   "pygments_lexer": "ipython3",
   "version": "3.11.5"
  },
  "orig_nbformat": 4
 },
 "nbformat": 4,
 "nbformat_minor": 2
}

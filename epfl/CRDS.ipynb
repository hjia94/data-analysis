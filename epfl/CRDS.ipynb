{
 "cells": [
  {
   "cell_type": "code",
   "execution_count": null,
   "metadata": {},
   "outputs": [],
   "source": [
    "import sys\n",
    "sys.path.append(r\"C:\\Users\\hjia9\\Documents\\GitHub\\data-analysis\")\n",
    "sys.path.append(r\"C:\\Users\\hjia9\\Documents\\GitHub\\data-analysis\\read\")\n",
    "\n",
    "import numpy as np\n",
    "import pandas as pd\n",
    "import os\n",
    "import matplotlib as mpl\n",
    "import matplotlib.pyplot as plt\n",
    "\n",
    "import data_analysis_utils as utils\n",
    "import calibrate_power as cbp\n",
    "from read_scope_data import read_trc_data\n",
    "from crds_tools import read_excel_sheets, get_sheet_names\n",
    "\n",
    "%matplotlib qt"
   ]
  },
  {
   "cell_type": "code",
   "execution_count": null,
   "metadata": {},
   "outputs": [],
   "source": [
    "path = r\"C:\\data\\epfl\\diagnostic-source\\CRDS\\scope-trc\\solAnt\"\n",
    "ifn = r\"C:\\data\\epfl\\diagnostic-source\\CRDS\\solenoid\\20230601_26mTorr_0.21lnmin_2.xlsx\"\n",
    "start = 113000\n",
    "stop = 123000\n",
    "pressure = 26\n",
    "\n",
    "# Plot light signal and range of CW to take average for calibrating power later\n",
    "file_ls = utils.get_files_in_folder(path, modified_date='2023-06-01', omit_keyword='water')\n",
    "for file in file_ls:\n",
    "    if \"C3\" in file and '-'+str(pressure)+'mT' in file:\n",
    "        light, tarr = read_trc_data(file)\n",
    "        plt.figure()\n",
    "        plt.plot(tarr*1e3, light)\n",
    "        plt.plot(tarr[start:stop]*1e3, light[start:stop])# plot range to take average\n",
    "        plt.title(file)"
   ]
  },
  {
   "cell_type": "code",
   "execution_count": null,
   "metadata": {},
   "outputs": [],
   "source": [
    "pwr_ls = cbp.get_power_solenoid(pressure, start, stop)\n",
    "name_ls = get_sheet_names(ifn)\n",
    "\n",
    "if False:\n",
    "    raw_dat_arr_0 = read_excel_sheets(ifn, name_ls[-1], [0,1])\n",
    "    raw_dat_arr_1 = read_excel_sheets(ifn, name_ls[-1], [11,12])\n",
    "\n",
    "    plt.figure()\n",
    "    plt.plot(raw_dat_arr_0[:,0], raw_dat_arr_0[:,1])\n",
    "    plt.plot(raw_dat_arr_1[:,0], raw_dat_arr_1[:,1])"
   ]
  },
  {
   "cell_type": "code",
   "execution_count": null,
   "metadata": {},
   "outputs": [],
   "source": [
    "dic = {}\n",
    "for i, name in enumerate(name_ls):\n",
    "    if i==0 or i==1:\n",
    "       dic[name] = read_excel_sheets(ifn, name, [0,1])\n",
    "    # if i==2:\n",
    "    #     dic[name] = read_excel_sheets(ifn, name, [11,12])\n",
    "\n",
    "print(dic.keys())"
   ]
  },
  {
   "cell_type": "code",
   "execution_count": null,
   "metadata": {},
   "outputs": [],
   "source": [
    "converted_dic = {}\n",
    "for i, key in enumerate(dic.keys()):\n",
    "    print(key)\n",
    "    data = dic[key]\n",
    "    tarr_crds = data[:,0]\n",
    "    sig_crds = data[:,1]\n",
    "    plt.figure()\n",
    "    plt.plot(tarr_crds, sig_crds)\n",
    "    plt.title(pwr_ls[i,1])\n",
    "    plt.xlabel('Time (s)')\n",
    "\n",
    "    # signal baseline\n",
    "    start = 10\n",
    "    if i==0:\n",
    "        stop = 20\n",
    "    if i==1:\n",
    "        stop = 18\n",
    "    if i==2:\n",
    "        stop = 20\n",
    "    plt.scatter(tarr_crds[start:stop], sig_crds[start:stop], c='r')\n",
    "    sig_base = np.average(sig_crds[start:stop])\n",
    "\n",
    "    # signal active-glow equilibrium value\n",
    "    start = 850\n",
    "    stop = 950\n",
    "    plt.scatter(tarr_crds[start:stop], sig_crds[start:stop], c='g')\n",
    "    sig_val = np.average(sig_crds[start:stop])\n",
    "\n",
    "    n = (sig_val-sig_base) / 5.8e-18 # convert CRDS to O- density\n",
    "\n",
    "    converted_dic[str(int(pwr_ls[i,1]))+'W'] = n\n",
    "\n",
    "    print(f\"Density: {format(n, '.2e')}\")"
   ]
  },
  {
   "cell_type": "code",
   "execution_count": null,
   "metadata": {},
   "outputs": [],
   "source": [
    "'''\n",
    ".npy file with the following format:\n",
    "    [converted_dic, dic]\n",
    "    converted_dic: dictionary with power as key and O- density as value\n",
    "    dic: dictionary with sheet name as key and 2D array of time(s) and 1/c.tau(1/cm) from Excel as value\n",
    "'''\n",
    "npy_file_path = r\"C:\\data\\epfl\\diagnostic-source\\CRDS\\solenoid\\{}mTorr.npy\".format(pressure)\n",
    "utils.save_to_npy([converted_dic,dic], npy_file_path)"
   ]
  },
  {
   "cell_type": "code",
   "execution_count": null,
   "metadata": {},
   "outputs": [],
   "source": [
    "data = utils.read_from_npy(npy_file_path)\n",
    "print(data[0].keys())\n",
    "print(data[1].keys())\n",
    "print(list(data[1].values())[0].shape)"
   ]
  },
  {
   "cell_type": "code",
   "execution_count": null,
   "metadata": {},
   "outputs": [],
   "source": [
    "# Some C1 records antenna current, code commented out included as needed\n",
    "ifn = r\"C:\\data\\epfl\\CRDS\\scope trc\\bdcageAnt\\C1-300W-1mT-00000.trc\"\n",
    "Iant, tarr = read_trc_data(ifn)\n",
    "Iant *= 8 # Pearson 8A/V\n",
    "\n",
    "if \"C4\" in file:\n",
    "    Vtrig, tarr = read_trc_data(file)\n",
    "    plt.figure(2)\n",
    "    plt.plot(tarr*1e3, Vtrig, label = str(power) + \"W\")\n",
    "    plt.ylabel('TTL')\n",
    "    plt.xlabel('time (ms)')\n",
    "    plt.legend()"
   ]
  },
  {
   "cell_type": "code",
   "execution_count": null,
   "metadata": {},
   "outputs": [],
   "source": [
    "fig, ax = plt.subplots(nrows=3, sharex=True)\n",
    "fig.suptitle('5mTorr/0.67Pa 580W')\n",
    "\n",
    "ax[0].plot(tarr*1e3, light)\n",
    "ax[0].set_ylabel('Light')\n",
    "\n",
    "ax[1].plot(tarr*1e3, Vtrig)\n",
    "ax[1].set_ylabel('TTL')\n",
    "\n",
    "tarr_fake = tarr_crds + tarr_crds[-1]\n",
    "tarr_crds_mod = np.hstack((tarr_crds, tarr_fake)) #+tarr_crds[100]\n",
    "sig_crds_mod = np.tile(sig_crds , 2) #numpy.roll(sig_crds,-100)\n",
    "\n",
    "ax[2].plot(tarr_crds_mod*1e3, sig_crds_mod)\n",
    "ax[2].set_ylabel('crds signal')\n",
    "ax[2].set_xlabel('time (ms)')"
   ]
  },
  {
   "cell_type": "code",
   "execution_count": null,
   "metadata": {},
   "outputs": [],
   "source": []
  }
 ],
 "metadata": {
  "kernelspec": {
   "display_name": "base",
   "language": "python",
   "name": "python3"
  },
  "language_info": {
   "codemirror_mode": {
    "name": "ipython",
    "version": 3
   },
   "file_extension": ".py",
   "mimetype": "text/x-python",
   "name": "python",
   "nbconvert_exporter": "python",
   "pygments_lexer": "ipython3",
   "version": "3.11.5"
  },
  "orig_nbformat": 4
 },
 "nbformat": 4,
 "nbformat_minor": 2
}

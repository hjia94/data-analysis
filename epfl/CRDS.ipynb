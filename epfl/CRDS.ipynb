{
 "cells": [
  {
   "cell_type": "code",
   "execution_count": 6,
   "metadata": {},
   "outputs": [],
   "source": [
    "import sys\n",
    "sys.path.append(r\"C:\\Users\\hjia9\\Documents\\GitHub\\data-analysis\\read\")\n",
    "\n",
    "import numpy as np\n",
    "import math\n",
    "import pandas as pd\n",
    "import tempfile\n",
    "import matplotlib as mpl\n",
    "import matplotlib.pyplot as plt\n",
    "import calibrate_power as cbp\n",
    "\n",
    "from scipy import signal\n",
    "from read_scope_data import read_trc_data\n",
    "\n",
    "%matplotlib widget"
   ]
  },
  {
   "cell_type": "code",
   "execution_count": 7,
   "metadata": {},
   "outputs": [
    {
     "name": "stdout",
     "output_type": "stream",
     "text": [
      "(13616, 6)\n",
      "(9535, 6)\n",
      "(11630, 6)\n",
      "(25142, 15)\n",
      "(9856, 6)\n"
     ]
    },
    {
     "data": {
      "text/plain": [
       "'\\ndef save_to_npy(filepath, columns, skip_rows=0):\\n    # Check if the .npy file already exists\\n    npy_file_path = f\"{sheet_name}.npy\"\\n    if os.path.exists(npy_file_path):\\n        # Load the existing data dictionary from the .npy file\\n        existing_data_dict = np.load(npy_file_path, allow_pickle=True).item()\\n        # Append the selected columns to the existing data dictionary\\n        existing_data_dict[sheet_name] = pd.to_numeric(selected_columns, errors=\\'coerce\\').dropna()\\n        # Save the updated data dictionary back to the .npy file\\n        np.save(npy_file_path, existing_data_dict)\\n    else:\\n        # Create a new data dictionary and save it as a .npy file\\n        data_dict[sheet_name] = pd.to_numeric(selected_columns, errors=\\'coerce\\').dropna()\\n        np.save(npy_file_path, data_dict)\\n\\n    return npy_file_path\\n'"
      ]
     },
     "execution_count": 7,
     "metadata": {},
     "output_type": "execute_result"
    }
   ],
   "source": [
    "def read_excel_sheets(filepath):\n",
    "    \"\"\"\n",
    "    Read an Excel file and extract columns with non-zero values from each sheet.\n",
    "\n",
    "    Parameters:\n",
    "    filepath (str): The path to the Excel file.\n",
    "\n",
    "    Returns:\n",
    "    dict: A dictionary containing the sheet names as keys and the columns with non-zero values as values.\n",
    "    \"\"\"\n",
    "    data_dict = {}\n",
    "\n",
    "    # Read the Excel file\n",
    "    xls = pd.ExcelFile(filepath)\n",
    "\n",
    "    # Iterate over each sheet in the Excel file\n",
    "    for sheet_name in xls.sheet_names:\n",
    "        # Read the sheet into a DataFrame\n",
    "        df = pd.read_excel(filepath, sheet_name=sheet_name)\n",
    "\n",
    "        # Select the columns with non-zero values from the DataFrame\n",
    "        non_zero_columns = df.loc[:, (df != 0).any(axis=0)].values\n",
    "        print (non_zero_columns.shape)\n",
    "        # Add the non-zero columns to the data dictionary\n",
    "        #data_dict[sheet_name] = non_zero_columns\n",
    "\n",
    "    xls.close()\n",
    "\n",
    "    return data_dict\n",
    "\n",
    "ifn = r\"C:\\data\\epfl\\diagnostic source\\CRDS\\solenoid\\20230531_1mTorr_0.012lnmin.xlsx\"\n",
    "data = read_excel_sheets(ifn)\n",
    "\n",
    "'''\n",
    "def save_to_npy(filepath, columns, skip_rows=0):\n",
    "    # Check if the .npy file already exists\n",
    "    npy_file_path = f\"{sheet_name}.npy\"\n",
    "    if os.path.exists(npy_file_path):\n",
    "        # Load the existing data dictionary from the .npy file\n",
    "        existing_data_dict = np.load(npy_file_path, allow_pickle=True).item()\n",
    "        # Append the selected columns to the existing data dictionary\n",
    "        existing_data_dict[sheet_name] = pd.to_numeric(selected_columns, errors='coerce').dropna()\n",
    "        # Save the updated data dictionary back to the .npy file\n",
    "        np.save(npy_file_path, existing_data_dict)\n",
    "    else:\n",
    "        # Create a new data dictionary and save it as a .npy file\n",
    "        data_dict[sheet_name] = pd.to_numeric(selected_columns, errors='coerce').dropna()\n",
    "        np.save(npy_file_path, data_dict)\n",
    "\n",
    "    return npy_file_path\n",
    "'''"
   ]
  },
  {
   "cell_type": "code",
   "execution_count": null,
   "metadata": {},
   "outputs": [],
   "source": [
    "'''\n",
    "Some C1 records antenna current, code commented out included as needed\n",
    "ifn = r\"C:\\data\\epfl\\CRDS\\scope trc\\bdcageAnt\\C1-300W-1mT-00000.trc\"\n",
    "Iant, tarr = read_trc_data(ifn)\n",
    "Iant *= 8 # Pearson 8A/V\n",
    "'''\n",
    "\n",
    "def read_crds_data(ifn):\n",
    "    ifn_light = r\"C:\\data\\epfl\\CRDS\\scope trc\\solAnt\\C3-500W-36mT-00000.trc\"\n",
    "\n",
    "    light, tarr = read_trc_data(ifn)\n",
    "    print(tarr.shape, light.shape)\n",
    "\n",
    "    ifn_Vtrig = r\"C:\\data\\epfl\\CRDS\\scope trc\\solAnt\\C4-500W-36mT-00000.trc\"\n",
    "    Vtrig, tarr = read_trc_data(ifn)\n",
    "\n",
    "    fig, ax = plt.subplots(nrows=3, sharex=True)\n",
    "\n",
    "    ax[1].plot(tarr*1e3, light)\n",
    "    ax[1].set_ylabel('Light')\n",
    "\n",
    "    ax[2].plot(tarr*1e3, Vtrig)\n",
    "    ax[2].set_ylabel('TTL')\n",
    "    ax[2].set_xlabel('time (ms)')\n",
    "\n",
    "    start = 22000\n",
    "    stop = 24000\n",
    "    ax[1].plot(tarr[start:stop]*1e3, light[start:stop]) # plot range to take average\n",
    "    lavg = np.average(light[start:stop]) * 1e3 # take average light signal conver V to mV\n",
    "    print(cbp.ltop_solenoid(lavg, 35)) # Calibrated power according to CW light signal\n",
    "\n",
    "    ifn_crds =  #r\"C:\\data\\epfl\\CRDS\\solenoid\\20230601_0.5mTorr_0.007lnmin.xlsx\"\n",
    "\n",
    "    # xlsx is only supported by openpyxl special package because they saved the excel on a very old version ugh\n",
    "    excel_data_df = pd.read_excel(ifn, sheet_name=0, engine='openpyxl', header=[0])\n",
    "\n",
    "    hdr_ls = excel_data_df.columns.ravel()\n",
    "    print(hdr_ls)\n",
    "    tarr_crds = excel_data_df[hdr_ls[0]].to_numpy()\n",
    "    sig_crds = excel_data_df[hdr_ls[1]].to_numpy()\n",
    "\n",
    "    tarr_crds = tarr_crds[~np.isnan(sig_crds)]\n",
    "    sig_crds = sig_crds[~np.isnan(sig_crds)]\n",
    "\n",
    "    print(len(sig_crds))\n",
    "\n",
    "    return tarr_crds, sig_crds"
   ]
  },
  {
   "cell_type": "code",
   "execution_count": null,
   "metadata": {},
   "outputs": [],
   "source": [
    "fig = plt.figure()\n",
    "plt.scatter(tarr_crds, sig_crds)\n",
    "\n",
    "# signal baseline\n",
    "start = 200\n",
    "stop = 240\n",
    "plt.scatter(tarr_crds[start:stop], sig_crds[start:stop])\n",
    "sig_base = np.average(sig_crds[start:stop])\n",
    "\n",
    "# signal active-glow equilibrium value\n",
    "start = -70\n",
    "stop = -20\n",
    "plt.scatter(tarr_crds[start:stop], sig_crds[start:stop])\n",
    "sig_val = np.average(sig_crds[start:stop])\n",
    "\n",
    "print('%.2e' %(sig_val-sig_base))"
   ]
  },
  {
   "cell_type": "code",
   "execution_count": null,
   "metadata": {},
   "outputs": [],
   "source": [
    "plt.close(fig)"
   ]
  },
  {
   "cell_type": "code",
   "execution_count": null,
   "metadata": {},
   "outputs": [],
   "source": [
    "fig, ax = plt.subplots(nrows=3, sharex=True)\n",
    "fig.suptitle('5mTorr/0.67Pa 580W')\n",
    "\n",
    "ax[0].plot(tarr*1e3, light)\n",
    "ax[0].set_ylabel('Light')\n",
    "\n",
    "ax[1].plot(tarr*1e3, Vtrig)\n",
    "ax[1].set_ylabel('TTL')\n",
    "\n",
    "tarr_fake = tarr_crds + tarr_crds[-1]\n",
    "tarr_crds_mod = np.hstack((tarr_crds, tarr_fake)) #+tarr_crds[100]\n",
    "sig_crds_mod = np.tile(sig_crds , 2) #numpy.roll(sig_crds,-100)\n",
    "\n",
    "ax[2].plot(tarr_crds_mod*1e3, sig_crds_mod)\n",
    "ax[2].set_ylabel('crds signal')\n",
    "ax[2].set_xlabel('time (ms)')"
   ]
  },
  {
   "cell_type": "code",
   "execution_count": null,
   "metadata": {},
   "outputs": [],
   "source": []
  }
 ],
 "metadata": {
  "kernelspec": {
   "display_name": "base",
   "language": "python",
   "name": "python3"
  },
  "language_info": {
   "codemirror_mode": {
    "name": "ipython",
    "version": 3
   },
   "file_extension": ".py",
   "mimetype": "text/x-python",
   "name": "python",
   "nbconvert_exporter": "python",
   "pygments_lexer": "ipython3",
   "version": "3.11.5"
  },
  "orig_nbformat": 4
 },
 "nbformat": 4,
 "nbformat_minor": 2
}

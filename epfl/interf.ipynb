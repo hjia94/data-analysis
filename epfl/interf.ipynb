{
 "cells": [
  {
   "cell_type": "code",
   "execution_count": 3,
   "metadata": {},
   "outputs": [],
   "source": [
    "import sys\n",
    "sys.path.append(r\"C:\\Users\\hjia9\\Documents\\GitHub\\data-analysis\\read\")\n",
    "\n",
    "import numpy\n",
    "import math\n",
    "import pandas as pd\n",
    "import matplotlib as mpl\n",
    "import matplotlib.pyplot as plt\n",
    "import calibrate_power as cbp\n",
    "\n",
    "from scipy import signal, optimize, ndimage\n",
    "from read_scope_data import read_trc_data, read_txt_data\n",
    "\n",
    "%matplotlib widget"
   ]
  },
  {
   "cell_type": "code",
   "execution_count": 3,
   "metadata": {},
   "outputs": [
    {
     "name": "stdout",
     "output_type": "stream",
     "text": [
      "dt = 8.000000106811456e-10\n",
      "t0 = -1.0004389373219374e-06\n",
      "vertical_gain = 200 mV per div\n",
      "timebase = 200 ns per div\n",
      "Input =  DC 1 MOhm\n",
      "Reading data...\n",
      "Done\n",
      "Reading data...\n",
      "Done\n",
      "(100002,)\n"
     ]
    }
   ],
   "source": [
    "ifn = r\"C:\\data\\epfl\\interferometer\\birdcage\\C1--800W-5mT--00000.trc\"\n",
    "phase_raw, tarr_ne = read_trc_data(ifn, True)\n",
    "\n",
    "ifn = r\"C:\\data\\epfl\\interferometer\\birdcage\\C2--800W-5mT--00000.trc\"\n",
    "amp_raw, tarr_ne = read_trc_data(ifn)\n",
    "\n",
    "print(tarr_ne.shape)"
   ]
  },
  {
   "cell_type": "code",
   "execution_count": 5,
   "metadata": {},
   "outputs": [
    {
     "data": {
      "application/vnd.jupyter.widget-view+json": {
       "model_id": "71e15df0ea05482b9d995d88d60f9a5d",
       "version_major": 2,
       "version_minor": 0
      },
      "text/plain": [
       "Canvas(toolbar=Toolbar(toolitems=[('Home', 'Reset original view', 'home', 'home'), ('Back', 'Back to previous …"
      ]
     },
     "metadata": {},
     "output_type": "display_data"
    },
    {
     "name": "stdout",
     "output_type": "stream",
     "text": [
      "voltage difference =  0.6378672680966434\n"
     ]
    }
   ],
   "source": [
    "step_a = 1000\n",
    "step_b = 20000\n",
    "step_c = -20000\n",
    "step_d = -1000\n",
    "\n",
    "fig = plt.figure()\n",
    "plt.plot(tarr_ne, phase_raw)\n",
    "plt.plot(tarr_ne[step_a:step_b], phase_raw[step_a:step_b])\n",
    "plt.plot(tarr_ne[step_c:step_d], phase_raw[step_c:step_d])\n",
    "\n",
    "delV = numpy.average(phase_raw[step_c:step_d]) - numpy.average(phase_raw[step_a:step_b])\n",
    "print(\"voltage difference = \", delV)"
   ]
  },
  {
   "cell_type": "code",
   "execution_count": 7,
   "metadata": {},
   "outputs": [
    {
     "name": "stdout",
     "output_type": "stream",
     "text": [
      "4.3416150547122627e+18\n",
      "6.909894969596462e+17\n"
     ]
    }
   ],
   "source": [
    "plt.close(fig)\n",
    "\n",
    "phase = (delV) / 1.8 * numpy.pi / (2*numpy.pi) # 1.8V => pi; in units of 2pi (number of fringes)\n",
    "ne = phase/1.34e-16 * 100 / 0.3 # f0=100GHz; path length 30cm; assume uniform density profile\n",
    "\n",
    "print(ne)"
   ]
  },
  {
   "cell_type": "code",
   "execution_count": null,
   "metadata": {},
   "outputs": [],
   "source": [
    "ifn = r\"C:\\data\\epfl\\CRDS\\scope trc\\solAnt\\C3-500W-15mT-00000.trc\"\n",
    "light, tarr = read_trc_data(ifn)\n",
    "print(tarr.shape, light.shape)\n",
    "\n",
    "ifn = r\"C:\\data\\epfl\\CRDS\\solenoid\\20230601_15mTorr_0.15lnmin.xlsx\"\n",
    "\n",
    "# xlsx is only supported by openpyxl special package because they saved the excel on a very old version ugh\n",
    "excel_data_df = pd.read_excel(ifn, sheet_name=2, engine='openpyxl', header=[0])\n",
    "\n",
    "hdr_ls = excel_data_df.columns.ravel()\n",
    "\n",
    "tarr_crds = excel_data_df[hdr_ls[0]].to_numpy()\n",
    "sig_crds = excel_data_df[hdr_ls[1]].to_numpy()\n",
    "\n",
    "tarr_crds = tarr_crds[~numpy.isnan(sig_crds)]\n",
    "sig_crds = sig_crds[~numpy.isnan(sig_crds)]"
   ]
  },
  {
   "cell_type": "code",
   "execution_count": null,
   "metadata": {},
   "outputs": [],
   "source": [
    "#-----------normalized ne-------------------------\n",
    "ne_arr = (numpy.max(phase_raw) - phase_raw) / numpy.max(phase_raw)\n",
    "ne_arr /= numpy.max(ne_arr)\n",
    "\n",
    "plt.figure()\n",
    "plt.plot((tarr_ne-tarr_ne[60000])*1e3, ne_arr) #74500\n",
    "\n",
    "#-----------normalized light-------------------------\n",
    "light_norm = light / numpy.max(light)\n",
    "\n",
    "plt.plot(tarr*1e3, light_norm)\n",
    "\n",
    "#-----------normalized CRDS-------------------------\n",
    "tarr_fake = tarr_crds - tarr_crds[-551]\n",
    "sig_crds_mod = (numpy.roll(sig_crds,-550) - numpy.average(sig_crds[90:100]))\n",
    "sig_crds_mod /= numpy.max(sig_crds_mod)\n",
    "\n",
    "plt.plot(tarr_fake*1e3, sig_crds_mod)"
   ]
  },
  {
   "cell_type": "code",
   "execution_count": null,
   "metadata": {},
   "outputs": [],
   "source": []
  }
 ],
 "metadata": {
  "kernelspec": {
   "display_name": "base",
   "language": "python",
   "name": "python3"
  },
  "language_info": {
   "codemirror_mode": {
    "name": "ipython",
    "version": 3
   },
   "file_extension": ".py",
   "mimetype": "text/x-python",
   "name": "python",
   "nbconvert_exporter": "python",
   "pygments_lexer": "ipython3",
   "version": "3.11.5"
  },
  "orig_nbformat": 4
 },
 "nbformat": 4,
 "nbformat_minor": 2
}

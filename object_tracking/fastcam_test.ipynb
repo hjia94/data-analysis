{
 "cells": [
  {
   "cell_type": "code",
   "execution_count": 1,
   "metadata": {},
   "outputs": [],
   "source": [
    "import cv2\n",
    "import numpy as np\n",
    "import struct\n",
    "import time\n",
    "import matplotlib.pyplot as plt\n",
    "import os\n",
    "import re\n",
    "import sys\n",
    "from pathlib import Path\n",
    "\n",
    "from read_cine import read_cine, convert_cine_to_avi\n",
    "from track_object import track_object\n",
    "from main import extract_calibration, detect_chamber"
   ]
  },
  {
   "cell_type": "code",
   "execution_count": null,
   "metadata": {},
   "outputs": [],
   "source": [
    "cine_path = r\"E:\\good_data\\He3kA_B250G500G_pl0t20_uw15t35_P30\\Y20241102_P30_z13_x200_y0@-90_014.cine\"\n",
    "avi_path = os.path.join(os.getcwd(), \"temp_video.avi\")\n",
    "\n",
    "tarr, frarr, dt = read_cine(cine_path)\n",
    "\n",
    "convert_cine_to_avi(frarr, avi_path)\n",
    "\n",
    "# Extract calibration from filename\n",
    "calibration = extract_calibration(cine_path)"
   ]
  },
  {
   "cell_type": "code",
   "execution_count": null,
   "metadata": {},
   "outputs": [],
   "source": [
    "frame_num = 410\n",
    "\n",
    "cap = cv2.VideoCapture(avi_path)\n",
    "cap.set(cv2.CAP_PROP_POS_FRAMES, frame_num)\n",
    "ret, frame = cap.read()\n",
    "if not ret:\n",
    "    raise ValueError(f\"Could not read frame\")\n",
    "\n",
    "# Detect chamber\n",
    "(cx, cy), chamber_radius = detect_chamber(frame, calibration)\n",
    "\n",
    "total_frames = int(cap.get(cv2.CAP_PROP_FRAME_COUNT))\n",
    "\n",
    "# Draw chamber\n",
    "drawing = frame.copy()\n",
    "cv2.circle(drawing, (cx, cy), chamber_radius, (0, 255, 0), 2)\n",
    "\n",
    "# Display the original frame\n",
    "plt.figure(figsize=(15, 5))\n",
    "plt.imshow(cv2.cvtColor(frame, cv2.COLOR_BGR2RGB))\n",
    "\n",
    "# Draw the chamber as a circle\n",
    "chamber_circle = plt.Circle((cx, cy), chamber_radius, fill=False, color='green', linewidth=2)\n",
    "plt.gca().add_patch(chamber_circle)\n",
    "\n",
    "plt.title(f\"t={tarr[frame_num] * 1e3:.3f}ms\")\n",
    "plt.axis('off')\n",
    "\n",
    "cap.release()"
   ]
  },
  {
   "cell_type": "code",
   "execution_count": null,
   "metadata": {},
   "outputs": [],
   "source": [
    "v = 9.8*np.sqrt(2*1/9.8) # velocity at center of chamber in m/s\n",
    "\n",
    "t1 = 0.027 - tarr[frame_num]\n",
    "t2 = 0.037 - tarr[frame_num]\n",
    "print(t1)\n",
    "print(t2)\n",
    "\n",
    "x1 = v*t1 + 0.5*9.8*t1**2\n",
    "x2 = v*t2 + 0.5*9.8*t2**2\n",
    "\n",
    "print(x1)\n",
    "print(x2)"
   ]
  },
  {
   "cell_type": "code",
   "execution_count": null,
   "metadata": {},
   "outputs": [],
   "source": []
  }
 ],
 "metadata": {
  "kernelspec": {
   "display_name": ".venv",
   "language": "python",
   "name": "python3"
  },
  "language_info": {
   "codemirror_mode": {
    "name": "ipython",
    "version": 3
   },
   "file_extension": ".py",
   "mimetype": "text/x-python",
   "name": "python",
   "nbconvert_exporter": "python",
   "pygments_lexer": "ipython3",
   "version": "3.11.5"
  }
 },
 "nbformat": 4,
 "nbformat_minor": 2
}

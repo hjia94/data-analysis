{
 "cells": [
  {
   "cell_type": "code",
   "execution_count": null,
   "metadata": {},
   "outputs": [],
   "source": [
    "import cv2\n",
    "import numpy as np\n",
    "import struct\n",
    "import time\n",
    "import matplotlib.pyplot as plt\n",
    "import os\n",
    "import re\n",
    "import sys\n",
    "from pathlib import Path\n",
    "\n",
    "from read_cine import read_cine, convert_cine_to_avi\n",
    "from track_object import track_object, detect_chamber, update_tracking_result, show_tracking_results"
   ]
  },
  {
   "cell_type": "code",
   "execution_count": 6,
   "metadata": {},
   "outputs": [
    {
     "name": "stdout",
     "output_type": "stream",
     "text": [
      "Reading .cine file...\n",
      "starting frame number: 0\n",
      "total frames: 2001\n",
      "frame rate: 20000\n",
      "Done reading .cine file (10.0 s)\n",
      "Converting to F:\\AUG2025\\P24\\00_He1kG430G_5800A_K-25_shot007.avi...\n",
      "Progress: 100/2001 frames\n",
      "Progress: 200/2001 frames\n",
      "Progress: 300/2001 frames\n",
      "Progress: 400/2001 frames\n",
      "Progress: 500/2001 frames\n",
      "Progress: 600/2001 frames\n",
      "Progress: 700/2001 frames\n",
      "Progress: 800/2001 frames\n",
      "Progress: 900/2001 frames\n",
      "Progress: 1000/2001 frames\n",
      "Progress: 1100/2001 frames\n",
      "Progress: 1200/2001 frames\n",
      "Progress: 1300/2001 frames\n",
      "Progress: 1400/2001 frames\n",
      "Progress: 1500/2001 frames\n",
      "Progress: 1600/2001 frames\n",
      "Progress: 1700/2001 frames\n",
      "Progress: 1800/2001 frames\n",
      "Progress: 1900/2001 frames\n",
      "Progress: 2000/2001 frames\n",
      "Progress: 2001/2001 frames\n",
      "Conversion complete. Saved to F:\\AUG2025\\P24\\00_He1kG430G_5800A_K-25_shot007.avi\n"
     ]
    }
   ],
   "source": [
    "cine_path = r\"F:\\AUG2025\\P24\\00_He1kG430G_5800A_K-25_shot007.cine\"\n",
    "avi_path = cine_path.replace('.cine', '.avi')\n",
    "\n",
    "tarr, frarr, dt = read_cine(cine_path)\n",
    "\n",
    "convert_cine_to_avi(frarr, avi_path)"
   ]
  },
  {
   "cell_type": "code",
   "execution_count": null,
   "metadata": {},
   "outputs": [],
   "source": [
    "parr, frarr, cf = track_object(avi_path)"
   ]
  },
  {
   "cell_type": "code",
   "execution_count": null,
   "metadata": {},
   "outputs": [],
   "source": [
    "frame_num = 1861\n",
    "\n",
    "cap = cv2.VideoCapture(avi_path)\n",
    "cap.set(cv2.CAP_PROP_POS_FRAMES, frame_num)\n",
    "ret, frame = cap.read()\n",
    "if not ret:\n",
    "    raise ValueError(f\"Could not read frame\")\n",
    "\n",
    "# Detect chamber\n",
    "(cx, cy), chamber_radius = detect_chamber(frame)\n",
    "\n",
    "total_frames = int(cap.get(cv2.CAP_PROP_FRAME_COUNT))\n",
    "\n",
    "# Display the original frame\n",
    "plt.figure(figsize=(15, 5))\n",
    "plt.imshow(cv2.cvtColor(frame, cv2.COLOR_BGR2RGB))\n",
    "\n",
    "# Draw the chamber as a circle\n",
    "chamber_circle = plt.Circle((cx, cy), chamber_radius, fill=False, color='green', linewidth=2)\n",
    "plt.gca().add_patch(chamber_circle)\n",
    "\n",
    "plt.title(f\"t={tarr[frame_num] * 1e3:.3f}ms\")\n",
    "plt.axis('off')\n",
    "\n",
    "cap.release()\n",
    "\n",
    "print(tarr[frame_num])"
   ]
  },
  {
   "cell_type": "code",
   "execution_count": null,
   "metadata": {},
   "outputs": [],
   "source": [
    "v = 9.8*np.sqrt(2*1/9.8) # velocity at center of chamber in m/s\n",
    "\n",
    "t1 = 0.027 - tarr[cf]\n",
    "t2 = 0.037 - tarr[cf]\n",
    "print(t1)\n",
    "print(t2)\n",
    "\n",
    "x1 = v*t1 + 0.5*9.8*t1**2\n",
    "x2 = v*t2 + 0.5*9.8*t2**2\n",
    "\n",
    "print(x1)\n",
    "print(x2)"
   ]
  },
  {
   "cell_type": "code",
   "execution_count": null,
   "metadata": {},
   "outputs": [],
   "source": [
    "tr_ifn = r\"E:\\good_data\\kapton\\He3kA_B380G800G_pl0t20_uw15t35\\tracking_results.npy\"\n",
    "show_tracking_results(tr_ifn)"
   ]
  },
  {
   "cell_type": "code",
   "execution_count": null,
   "metadata": {},
   "outputs": [],
   "source": [
    "update_tracking_result(tr_ifn, cine_path, cf_new=frame_num, ct_new=tarr[frame_num])"
   ]
  },
  {
   "cell_type": "code",
   "execution_count": null,
   "metadata": {},
   "outputs": [],
   "source": []
  }
 ],
 "metadata": {
  "kernelspec": {
   "display_name": ".venv (3.11.5)",
   "language": "python",
   "name": "python3"
  },
  "language_info": {
   "codemirror_mode": {
    "name": "ipython",
    "version": 3
   },
   "file_extension": ".py",
   "mimetype": "text/x-python",
   "name": "python",
   "nbconvert_exporter": "python",
   "pygments_lexer": "ipython3",
   "version": "3.11.5"
  }
 },
 "nbformat": 4,
 "nbformat_minor": 2
}

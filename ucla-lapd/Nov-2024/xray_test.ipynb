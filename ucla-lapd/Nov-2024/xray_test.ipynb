{
 "cells": [
  {
   "cell_type": "code",
   "execution_count": 2,
   "metadata": {},
   "outputs": [],
   "source": [
    "import sys\n",
    "sys.path.append(r\"C:\\Users\\hjia9\\Documents\\GitHub\\data-analysis\\read\")\n",
    "sys.path.append(r\"C:\\Users\\hjia9\\Documents\\GitHub\\data-analysis\")\n",
    "\n",
    "import numpy as np\n",
    "\n",
    "from read_scope_data import read_trc_data\n",
    "from data_analysis_utils import Photons, PhotonPulse\n",
    "from plot_utils import plot_counts_per_bin\n",
    "\n",
    "import matplotlib.pyplot as plt\n",
    "\n",
    "%matplotlib qt"
   ]
  },
  {
   "cell_type": "code",
   "execution_count": 3,
   "metadata": {},
   "outputs": [
    {
     "name": "stdout",
     "output_type": "stream",
     "text": [
      "Reading data...\n",
      "Done\n"
     ]
    }
   ],
   "source": [
    "shot = 0\n",
    "data_path = fr\"E:\\x-ray\\20241029\\C3--E-ring-wt-Tungsten2mm-xray--{shot:05d}.trc\"\n",
    "data, tarr = read_trc_data(data_path, False)"
   ]
  },
  {
   "cell_type": "code",
   "execution_count": 4,
   "metadata": {},
   "outputs": [
    {
     "name": "stdout",
     "output_type": "stream",
     "text": [
      "\n",
      "Detected 94503 pulses\n",
      "Average pulse area: 0.95\n",
      "Signal baseline: -0.04\n",
      "Detection threshold: 0.02\n"
     ]
    }
   ],
   "source": [
    "# Convert time array from seconds to milliseconds\n",
    "tarr_ms = tarr * 1000\n",
    "\n",
    "# Create Photons detector object\n",
    "detector = Photons(tarr_ms, -data, threshold_multiplier=5.0, negative_pulses=False)\n",
    "\n",
    "# Reduce pulses to get pulse properties\n",
    "detector.reduce_pulses()\n",
    "\n",
    "# Get pulse arrays\n",
    "pulse_times, pulse_areas = detector.get_pulse_arrays()\n",
    "\n",
    "# Plot original signal with detected pulses\n",
    "plt.figure(figsize=(10,6))\n",
    "plt.plot(tarr_ms, -data, 'b-', label='Signal')\n",
    "plt.plot(pulse_times, [detector.threshold + detector.offset]*len(pulse_times), \n",
    "         'r.', label='Detected Pulses')\n",
    "plt.xlabel('Time (ms)')\n",
    "plt.ylabel('Signal')\n",
    "plt.title(f'Detected {detector.pulse_count} pulses')\n",
    "plt.legend()\n",
    "plt.grid(True)\n",
    "plt.show()\n",
    "\n",
    "# Print some statistics\n",
    "print(f\"\\nDetected {detector.pulse_count} pulses\")\n",
    "print(f\"Average pulse area: {np.mean(pulse_areas):.2f}\")\n",
    "print(f\"Signal baseline: {detector.offset:.2f}\")\n",
    "print(f\"Detection threshold: {detector.threshold:.2f}\")\n"
   ]
  },
  {
   "cell_type": "code",
   "execution_count": 9,
   "metadata": {},
   "outputs": [],
   "source": [
    "# Using the pulse_times you already have from the Photons object\n",
    "bin_centers, counts = plot_counts_per_bin(\n",
    "    pulse_times=pulse_times,\n",
    "    bin_width_ms= 0.1  # This will give you counts in 5ms sections\n",
    ")"
   ]
  },
  {
   "cell_type": "code",
   "execution_count": 5,
   "metadata": {},
   "outputs": [],
   "source": [
    "# Create histogram of raw signal data\n",
    "plt.figure(figsize=(10,6))\n",
    "plt.hist(data, bins=1000, density=True)\n",
    "plt.xlabel('Signal Amplitude (V)') \n",
    "plt.ylabel('Density')\n",
    "plt.title('Histogram of X-ray Signal Amplitudes')\n",
    "plt.grid(True)\n",
    "plt.show()"
   ]
  },
  {
   "cell_type": "code",
   "execution_count": null,
   "metadata": {},
   "outputs": [],
   "source": [
    "# Create histogram of pulses over time with adjustable bin width\n",
    "bin_width = 0.1\n",
    "\n",
    "plt.figure(figsize=(10,6))\n",
    "bins = np.arange(min(pulse_times), max(pulse_times) + bin_width, bin_width)\n",
    "hist, bins = np.histogram(pulse_times, bins=bins)\n",
    "bin_centers = (bins[:-1] + bins[1:])/2\n",
    "\n",
    "plt.plot(bin_centers, hist)\n",
    "plt.xlabel('Time (ms)')\n",
    "plt.ylabel('Counts') \n",
    "plt.title(f'Photon Counts vs Time')\n",
    "plt.grid(True)\n",
    "plt.show()\n"
   ]
  },
  {
   "cell_type": "code",
   "execution_count": null,
   "metadata": {},
   "outputs": [],
   "source": [
    "# Save histogram data, bin centers and time array to npz file\n",
    "np.savez('photon_histogram.npz',\n",
    "         counts=hist,\n",
    "         bin_centers=bin_centers, \n",
    "         bin_width=bin_width,\n",
    "         time_array=tarr_ms)\n",
    "print(\"Saved histogram data to photon_histogram.npz\")"
   ]
  },
  {
   "cell_type": "code",
   "execution_count": null,
   "metadata": {},
   "outputs": [],
   "source": []
  }
 ],
 "metadata": {
  "kernelspec": {
   "display_name": ".venv",
   "language": "python",
   "name": "python3"
  },
  "language_info": {
   "codemirror_mode": {
    "name": "ipython",
    "version": 3
   },
   "file_extension": ".py",
   "mimetype": "text/x-python",
   "name": "python",
   "nbconvert_exporter": "python",
   "pygments_lexer": "ipython3",
   "version": "3.11.5"
  }
 },
 "nbformat": 4,
 "nbformat_minor": 2
}

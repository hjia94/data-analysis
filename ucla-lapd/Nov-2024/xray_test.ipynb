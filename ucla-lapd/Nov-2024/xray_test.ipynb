{
 "cells": [
  {
   "cell_type": "code",
   "execution_count": 1,
   "metadata": {},
   "outputs": [],
   "source": [
    "import sys\n",
    "sys.path.append(r\"C:\\Users\\hjia9\\Documents\\GitHub\\data-analysis\\read\")\n",
    "sys.path.append(r\"C:\\Users\\hjia9\\Documents\\GitHub\\data-analysis\")\n",
    "\n",
    "import numpy as np\n",
    "import time\n",
    "import os\n",
    "\n",
    "from read_scope_data import read_trc_data\n",
    "from data_analysis_utils import Photons, hl_envelopes_idx\n",
    "\n",
    "import matplotlib.pyplot as plt\n",
    "from scipy.ndimage import gaussian_filter1d\n",
    "from scipy.signal import fftconvolve, savgol_filter, find_peaks, find_peaks_cwt\n",
    "\n",
    "%matplotlib qt"
   ]
  },
  {
   "cell_type": "code",
   "execution_count": 2,
   "metadata": {},
   "outputs": [
    {
     "name": "stdout",
     "output_type": "stream",
     "text": [
      "Reading data...\n",
      "Done\n",
      "Applying Savitzky-Golay filter...\n",
      "Analyzing optimal downsample rate...\n",
      "Downsample rate: 2\n",
      "Computing baseline...\n",
      "Computing thresholds...\n",
      "Detecting pulses...\n"
     ]
    }
   ],
   "source": [
    "ifn = r\"E:\\good_data\\He3kA_B250G500G_pl0t20_uw15t35_P30\\C3--E-ring-p30-z13-x200-xray--00011.trc\"\n",
    "xray_data, tarr_x = read_trc_data(ifn)\n",
    "\n",
    "detector = Photons(tarr_x, xray_data, min_timescale=1e-6, distance_mult=1, tsh_mult=[9, 150], debug=False)        \n",
    "detector.reduce_pulses()"
   ]
  },
  {
   "cell_type": "code",
   "execution_count": 6,
   "metadata": {},
   "outputs": [],
   "source": [
    "min_threshold = 0.05\n",
    "max_threshold = 0.3\n",
    "t_bin = 1\n",
    "bin_centers, counts = detector.counts_per_bin(t_bin, amplitude_min=min_threshold, amplitude_max=max_threshold)\n",
    "\n",
    "fig, ax = plt.subplots(figsize=(10, 6))\n",
    "ax.plot(bin_centers, counts, 'b-', label='Photon Counts')\n",
    "\n",
    "ax_twin = ax.twinx()\n",
    "ax_twin.plot(detector.tarr_ds, detector.baseline_subtracted, c='r', label='X-ray signal', alpha=0.5)\n",
    "ax_twin.set_yticks([])\n",
    "\n",
    "ax_twin.axhline(y=min_threshold, color='g', linestyle='--', label='Min Threshold')\n",
    "ax_twin.axhline(y=max_threshold, color='g', linestyle='--', label='Max Threshold')\n",
    "\n",
    "plt.xlabel('Time (ms)')\n",
    "plt.ylabel(f'Counts per {t_bin}ms bin')\n",
    "plt.grid(True)\n",
    "plt.legend(loc='upper right')  # Added legend location\n",
    "plt.tight_layout()  # Added tight layout to prevent label cutoff"
   ]
  },
  {
   "cell_type": "code",
   "execution_count": 4,
   "metadata": {},
   "outputs": [],
   "source": [
    "time_ms = tarr_x * 1000\n",
    "filtered_xray_data = savgol_filter(xray_data, window_length=31, polyorder=3)\n",
    "\n",
    "start_idx = 10000000\n",
    "end_idx = 10500000\n",
    "\n",
    "plt.figure(0)\n",
    "plt.plot(time_ms[start_idx:end_idx], xray_data[start_idx:end_idx], label='Original')\n",
    "plt.plot(time_ms[start_idx:end_idx], filtered_xray_data[start_idx:end_idx], label='Filtered')\n",
    "plt.legend(loc='upper right')\n",
    "plt.show()"
   ]
  },
  {
   "cell_type": "code",
   "execution_count": 8,
   "metadata": {},
   "outputs": [
    {
     "name": "stdout",
     "output_type": "stream",
     "text": [
      "62\n"
     ]
    }
   ],
   "source": [
    "min_ts = 0.5e-3\n",
    "downsample_rate = 4\n",
    "\n",
    "# Create downsampled arrays\n",
    "time_ds = time_ms[::downsample_rate]\n",
    "data_ds = filtered_xray_data[::downsample_rate]\n",
    "\n",
    "# Calculate minimum distance between peaks based on min_timescale\n",
    "sample_period = (time_ds[1] - time_ds[0])  # Time between samples\n",
    "min_distance = int(min_ts / sample_period)\n",
    "print(min_distance)\n",
    "\n",
    "# Plot comparison\n",
    "plt.figure(figsize=(10,6))\n",
    "plt.plot(time_ms, -filtered_xray_data, label='Original')\n",
    "plt.plot(time_ds, -data_ds, '--',label='Downsampled', alpha=0.5)\n",
    "plt.xlabel('Time (ms)')\n",
    "plt.ylabel('Signal (V)')\n",
    "plt.title(f'Original vs Downsampled Data (rate={downsample_rate})')\n",
    "plt.legend(loc='upper right')\n",
    "plt.grid(True)\n",
    "plt.show()"
   ]
  },
  {
   "cell_type": "code",
   "execution_count": 16,
   "metadata": {},
   "outputs": [],
   "source": [
    "larr, harr = hl_envelopes_idx(data_ds, dmin=1, dmax=min_distance, split=False)\n",
    "\n",
    "plt.figure()\n",
    "plt.plot(time_ds, data_ds)\n",
    "plt.plot(time_ds[larr], data_ds[larr], label='Lower Envelope')\n",
    "plt.plot(time_ds[harr], data_ds[harr], label='Upper Envelope')\n",
    "plt.xlabel('Time (ms)')\n",
    "plt.ylabel('Signal')\n",
    "plt.legend(loc='upper right')\n",
    "plt.show()"
   ]
  },
  {
   "cell_type": "code",
   "execution_count": 15,
   "metadata": {},
   "outputs": [],
   "source": [
    "noise_sample = data_ds[:int(len(data_ds)*0.001)]\n",
    "noise_amplitude = (np.max(np.abs(noise_sample)) - np.min(np.abs(noise_sample))) / 2\n",
    "\n",
    "# Interpolate baseline using upper envelope points\n",
    "baseline = np.interp(np.arange(len(data_ds)), harr, data_ds[harr]) - noise_amplitude\n",
    "baseline_subtracted = data_ds - baseline\n",
    "\n",
    "plt.figure()\n",
    "plt.plot(time_ds, data_ds, label='Original')\n",
    "plt.plot(time_ds, baseline, label='Baseline')\n",
    "plt.plot(time_ds, baseline_subtracted, label='Baseline Subtracted')\n",
    "plt.legend(loc='upper right')\n",
    "plt.show()"
   ]
  },
  {
   "cell_type": "code",
   "execution_count": 7,
   "metadata": {},
   "outputs": [
    {
     "ename": "NameError",
     "evalue": "name 'baseline_subtracted' is not defined",
     "output_type": "error",
     "traceback": [
      "\u001b[1;31m---------------------------------------------------------------------------\u001b[0m",
      "\u001b[1;31mNameError\u001b[0m                                 Traceback (most recent call last)",
      "Cell \u001b[1;32mIn[7], line 1\u001b[0m\n\u001b[1;32m----> 1\u001b[0m data \u001b[38;5;241m=\u001b[39m \u001b[38;5;241m-\u001b[39m\u001b[43mbaseline_subtracted\u001b[49m\n\u001b[0;32m      2\u001b[0m \u001b[38;5;66;03m# Use first 5% of data as noise sample for threshold determination\u001b[39;00m\n\u001b[0;32m      3\u001b[0m noise_sample \u001b[38;5;241m=\u001b[39m data[:\u001b[38;5;28mint\u001b[39m(\u001b[38;5;28mlen\u001b[39m(data)\u001b[38;5;241m*\u001b[39m\u001b[38;5;241m0.05\u001b[39m)]\n",
      "\u001b[1;31mNameError\u001b[0m: name 'baseline_subtracted' is not defined"
     ]
    }
   ],
   "source": [
    "data = -baseline_subtracted\n",
    "# Use first 5% of data as noise sample for threshold determination\n",
    "noise_sample = data[:int(len(data)*0.05)]\n",
    "noise_mean = np.mean(noise_sample)\n",
    "noise_std = np.std(noise_sample)\n",
    "\n",
    "lower_threshold = noise_mean + 6*noise_std\n",
    "upper_threshold = noise_mean + 100*noise_std\n",
    "\n",
    "# Find peaks above lower threshold with minimum distance constraint\n",
    "peak_indices, _ = find_peaks(data, height=lower_threshold, distance=min_distance)\n",
    "\n",
    "# Remove peaks that exceed upper threshold and nearby peaks\n",
    "mask = np.ones(len(peak_indices), dtype=bool)\n",
    "for i, idx in enumerate(peak_indices):\n",
    "    if data[idx] > upper_threshold:\n",
    "        # Find all peaks within min_distance of this large peak\n",
    "        nearby_mask = np.abs(peak_indices - idx) <= min_distance*20\n",
    "        mask[nearby_mask] = False\n",
    "\n",
    "# Apply mask to keep only valid peaks\n",
    "peak_indices = peak_indices[mask]\n",
    "\n",
    "# Convert peak indices back to original time coordinates\n",
    "pulse_times = time_ds[peak_indices]\n",
    "pulse_amplitudes = data[peak_indices]\n",
    "\n",
    "plt.figure()\n",
    "plt.plot(time_ds, data)\n",
    "plt.axhline(y=lower_threshold, color='g', linestyle='--', label='Lower Threshold')\n",
    "plt.axhline(y=upper_threshold, color='r', linestyle='--', label='Upper Threshold')\n",
    "plt.scatter(pulse_times, pulse_amplitudes, color='red')\n",
    "plt.xlabel('Time (ms)')\n",
    "plt.ylabel('Signal')\n",
    "plt.title('Detected Pulses')\n",
    "plt.legend()\n",
    "plt.show()\n"
   ]
  },
  {
   "cell_type": "code",
   "execution_count": 5,
   "metadata": {},
   "outputs": [],
   "source": [
    "# Create histogram of raw signal data\n",
    "plt.figure(figsize=(10,6))\n",
    "plt.hist(xray_data, bins=1000, density=True)\n",
    "plt.xlabel('Signal Amplitude (V)') \n",
    "plt.ylabel('Density')\n",
    "plt.title('Histogram of X-ray Signal Amplitudes')\n",
    "plt.grid(True)\n",
    "plt.show()"
   ]
  },
  {
   "cell_type": "code",
   "execution_count": null,
   "metadata": {},
   "outputs": [],
   "source": []
  }
 ],
 "metadata": {
  "kernelspec": {
   "display_name": ".venv",
   "language": "python",
   "name": "python3"
  },
  "language_info": {
   "codemirror_mode": {
    "name": "ipython",
    "version": 3
   },
   "file_extension": ".py",
   "mimetype": "text/x-python",
   "name": "python",
   "nbconvert_exporter": "python",
   "pygments_lexer": "ipython3",
   "version": "3.11.5"
  }
 },
 "nbformat": 4,
 "nbformat_minor": 2
}

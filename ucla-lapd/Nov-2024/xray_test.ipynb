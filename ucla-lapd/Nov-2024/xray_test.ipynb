{
 "cells": [
  {
   "cell_type": "code",
   "execution_count": 5,
   "metadata": {},
   "outputs": [],
   "source": [
    "import sys\n",
    "sys.path.append(r\"C:\\Users\\hjia9\\Documents\\GitHub\\data-analysis\\read\")\n",
    "sys.path.append(r\"C:\\Users\\hjia9\\Documents\\GitHub\\data-analysis\")\n",
    "\n",
    "import numpy as np\n",
    "import time\n",
    "\n",
    "from read_scope_data import read_trc_data\n",
    "from data_analysis_utils import Photons, PhotonPulse\n",
    "from plot_utils import plot_counts_per_bin\n",
    "\n",
    "import matplotlib.pyplot as plt\n",
    "from scipy.ndimage import gaussian_filter1d\n",
    "from scipy.signal import fftconvolve\n",
    "\n",
    "from plot_utils import plot_original_and_baseline, plot_subtracted_signal\n",
    "%matplotlib qt"
   ]
  },
  {
   "cell_type": "code",
   "execution_count": 6,
   "metadata": {},
   "outputs": [
    {
     "name": "stdout",
     "output_type": "stream",
     "text": [
      "Reading data...\n",
      "Done\n"
     ]
    }
   ],
   "source": [
    "ifn = r\"E:\\x-ray\\20241102\\C3--E-ring-p30-z13-x200-xray--00011.trc\"\n",
    "xray_data, tarr_x = read_trc_data(ifn)"
   ]
  },
  {
   "cell_type": "code",
   "execution_count": 11,
   "metadata": {},
   "outputs": [],
   "source": [
    "time_ms = tarr_x * 1000\n",
    "filtered_xray_data = - gaussian_filter1d(xray_data, sigma=10)\n",
    "\n",
    "detector = Photons(time_ms,\n",
    "                    filtered_xray_data,\n",
    "                    threshold_multiplier=2,\n",
    "                    filter_type='butterworth',\n",
    "                    filter_value=0.000005)\n",
    "detector.reduce_pulses()\n",
    "pulse_times, pulse_areas = detector.get_pulse_arrays()\n"
   ]
  },
  {
   "cell_type": "code",
   "execution_count": 12,
   "metadata": {},
   "outputs": [
    {
     "data": {
      "text/plain": [
       "[<matplotlib.lines.Line2D at 0x2000b33a6d0>]"
      ]
     },
     "execution_count": 12,
     "metadata": {},
     "output_type": "execute_result"
    }
   ],
   "source": [
    "# Plot 0:\n",
    "plt.figure(0)\n",
    "plt.plot(time_ms, -xray_data)\n",
    "plt.plot(time_ms, filtered_xray_data)"
   ]
  },
  {
   "cell_type": "code",
   "execution_count": 13,
   "metadata": {},
   "outputs": [],
   "source": [
    "fig, ax = plt.subplots(1, 1, figsize=(10, 8))\n",
    "plot_original_and_baseline(time_ms, -xray_data, detector, ax)\n",
    "\n",
    "fig, ax = plt.subplots(1, 1, figsize=(10, 8))\n",
    "plot_subtracted_signal(time_ms, -xray_data, pulse_times, detector, ax)"
   ]
  },
  {
   "cell_type": "code",
   "execution_count": 5,
   "metadata": {},
   "outputs": [],
   "source": [
    "# Create histogram of raw signal data\n",
    "plt.figure(figsize=(10,6))\n",
    "plt.hist(xray_data, bins=1000, density=True)\n",
    "plt.xlabel('Signal Amplitude (V)') \n",
    "plt.ylabel('Density')\n",
    "plt.title('Histogram of X-ray Signal Amplitudes')\n",
    "plt.grid(True)\n",
    "plt.show()"
   ]
  },
  {
   "cell_type": "code",
   "execution_count": null,
   "metadata": {},
   "outputs": [],
   "source": [
    "# Create histogram of pulses over time with adjustable bin width\n",
    "bin_width = 0.1\n",
    "\n",
    "plt.figure(figsize=(10,6))\n",
    "bins = np.arange(min(pulse_times), max(pulse_times) + bin_width, bin_width)\n",
    "hist, bins = np.histogram(pulse_times, bins=bins)\n",
    "bin_centers = (bins[:-1] + bins[1:])/2\n",
    "\n",
    "plt.plot(bin_centers, hist)\n",
    "plt.xlabel('Time (ms)')\n",
    "plt.ylabel('Counts') \n",
    "plt.title(f'Photon Counts vs Time')\n",
    "plt.grid(True)\n",
    "plt.show()\n"
   ]
  },
  {
   "cell_type": "code",
   "execution_count": null,
   "metadata": {},
   "outputs": [],
   "source": []
  }
 ],
 "metadata": {
  "kernelspec": {
   "display_name": ".venv",
   "language": "python",
   "name": "python3"
  },
  "language_info": {
   "codemirror_mode": {
    "name": "ipython",
    "version": 3
   },
   "file_extension": ".py",
   "mimetype": "text/x-python",
   "name": "python",
   "nbconvert_exporter": "python",
   "pygments_lexer": "ipython3",
   "version": "3.11.5"
  }
 },
 "nbformat": 4,
 "nbformat_minor": 2
}

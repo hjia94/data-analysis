{
 "cells": [
  {
   "cell_type": "code",
   "execution_count": 1,
   "metadata": {},
   "outputs": [],
   "source": [
    "import sys\n",
    "sys.path.append(r\"C:\\Users\\hjia9\\Documents\\GitHub\\data-analysis\\read\")\n",
    "sys.path.append(r\"C:\\Users\\hjia9\\Documents\\GitHub\\data-analysis\")\n",
    "\n",
    "import numpy as np\n",
    "import time\n",
    "\n",
    "from read_scope_data import read_trc_data\n",
    "from data_analysis_utils import analyze_downsample_options, Photons, hl_envelopes_idx\n",
    "\n",
    "import matplotlib.pyplot as plt\n",
    "from scipy.ndimage import gaussian_filter1d\n",
    "from scipy.signal import fftconvolve, savgol_filter, find_peaks, find_peaks_cwt\n",
    "\n",
    "%matplotlib qt"
   ]
  },
  {
   "cell_type": "code",
   "execution_count": 12,
   "metadata": {},
   "outputs": [
    {
     "name": "stdout",
     "output_type": "stream",
     "text": [
      "Reading data...\n",
      "Done\n"
     ]
    }
   ],
   "source": [
    "ifn = r\"F:\\x-ray\\20241102\\C3--E-ring-p24-z13-x40-xray--00036.trc\"\n",
    "xray_data, tarr_x = read_trc_data(ifn)"
   ]
  },
  {
   "cell_type": "code",
   "execution_count": 13,
   "metadata": {},
   "outputs": [
    {
     "name": "stdout",
     "output_type": "stream",
     "text": [
      "Applying Savitzky-Golay filter...\n",
      "Min distance: 312\n",
      "Computing baseline...\n",
      "Computing thresholds...\n",
      "Detecting pulses...\n"
     ]
    }
   ],
   "source": [
    "detector = Photons(tarr_x, xray_data,savgol_window=31, tsh_mult=[9, 100], downsample_rate=8)\n",
    "                 \n",
    "detector.reduce_pulses()\n",
    "pulse_times, pulse_areas = detector.get_pulse_arrays()"
   ]
  },
  {
   "cell_type": "code",
   "execution_count": 9,
   "metadata": {},
   "outputs": [],
   "source": [
    "time_ms = tarr_x * 1000\n",
    "filtered_xray_data = savgol_filter(xray_data, window_length=31, polyorder=3)\n",
    "\n",
    "start_idx = 10000000\n",
    "end_idx = 10500000\n",
    "\n",
    "plt.figure(0)\n",
    "plt.plot(time_ms[start_idx:end_idx], xray_data[start_idx:end_idx], label='Original')\n",
    "plt.plot(time_ms[start_idx:end_idx], filtered_xray_data[start_idx:end_idx], label='Filtered')\n",
    "plt.legend(loc='upper right')\n",
    "plt.show()"
   ]
  },
  {
   "cell_type": "code",
   "execution_count": 6,
   "metadata": {},
   "outputs": [],
   "source": [
    "min_ts = 0.5e-3\n",
    "# analyze_downsample_options(filtered_xray_data, time_ms, window_length=51, polyorder=3, min_timescale_ms=min_ts)"
   ]
  },
  {
   "cell_type": "code",
   "execution_count": 7,
   "metadata": {},
   "outputs": [
    {
     "name": "stdout",
     "output_type": "stream",
     "text": [
      "312\n"
     ]
    }
   ],
   "source": [
    "# Downsample data using recommended rate of 2\n",
    "downsample_rate = 8\n",
    "\n",
    "# Create downsampled arrays\n",
    "time_ds = time_ms[::downsample_rate]\n",
    "data_ds = filtered_xray_data[::downsample_rate]\n",
    "\n",
    "# Calculate minimum distance between peaks based on min_timescale\n",
    "sample_period = (time_ds[1] - time_ds[0])  # Time between samples\n",
    "min_distance = int(min_ts / sample_period * 10)\n",
    "print(min_distance)\n",
    "\n",
    "# Plot comparison\n",
    "plt.figure(figsize=(12,6))\n",
    "plt.plot(time_ms, -filtered_xray_data, 'b-', label='Original', alpha=0.5)\n",
    "plt.plot(time_ds, -data_ds, 'r-', label='Downsampled', linewidth=2)\n",
    "plt.xlabel('Time (ms)')\n",
    "plt.ylabel('Signal (V)')\n",
    "plt.title(f'Original vs Downsampled Data (rate={downsample_rate})')\n",
    "plt.legend(loc='upper right')\n",
    "plt.grid(True)\n",
    "plt.show()"
   ]
  },
  {
   "cell_type": "code",
   "execution_count": 14,
   "metadata": {},
   "outputs": [],
   "source": [
    "larr, harr = hl_envelopes_idx(data_ds, dmin=1, dmax=min_distance, split=False)\n",
    "\n",
    "plt.figure()\n",
    "plt.plot(time_ds, data_ds)\n",
    "plt.plot(time_ds[larr], data_ds[larr], label='Lower Envelope')\n",
    "plt.plot(time_ds[harr], data_ds[harr], label='Upper Envelope')\n",
    "plt.xlabel('Time (ms)')\n",
    "plt.ylabel('Signal')\n",
    "plt.legend(loc='upper right')\n",
    "plt.show()"
   ]
  },
  {
   "cell_type": "code",
   "execution_count": 15,
   "metadata": {},
   "outputs": [],
   "source": [
    "noise_sample = data_ds[:int(len(data_ds)*0.001)]\n",
    "noise_amplitude = (np.max(np.abs(noise_sample)) - np.min(np.abs(noise_sample))) / 2\n",
    "\n",
    "# Interpolate baseline using upper envelope points\n",
    "baseline = np.interp(np.arange(len(data_ds)), harr, data_ds[harr]) - noise_amplitude\n",
    "baseline_subtracted = data_ds - baseline\n",
    "\n",
    "plt.figure()\n",
    "plt.plot(time_ds, data_ds, label='Original')\n",
    "plt.plot(time_ds, baseline, label='Baseline')\n",
    "plt.plot(time_ds, baseline_subtracted, label='Baseline Subtracted')\n",
    "plt.legend(loc='upper right')\n",
    "plt.show()"
   ]
  },
  {
   "cell_type": "code",
   "execution_count": 125,
   "metadata": {},
   "outputs": [],
   "source": [
    "data = -baseline_subtracted\n",
    "# Use first 5% of data as noise sample for threshold determination\n",
    "noise_sample = data[:int(len(data)*0.05)]\n",
    "noise_mean = np.mean(noise_sample)\n",
    "noise_std = np.std(noise_sample)\n",
    "\n",
    "lower_threshold = noise_mean + 6*noise_std\n",
    "upper_threshold = noise_mean + 100*noise_std\n",
    "\n",
    "# Find peaks above lower threshold with minimum distance constraint\n",
    "peak_indices, _ = find_peaks(data, height=lower_threshold, distance=min_distance)\n",
    "\n",
    "# Remove peaks that exceed upper threshold and nearby peaks\n",
    "mask = np.ones(len(peak_indices), dtype=bool)\n",
    "for i, idx in enumerate(peak_indices):\n",
    "    if data[idx] > upper_threshold:\n",
    "        # Find all peaks within min_distance of this large peak\n",
    "        nearby_mask = np.abs(peak_indices - idx) <= min_distance*20\n",
    "        mask[nearby_mask] = False\n",
    "\n",
    "# Apply mask to keep only valid peaks\n",
    "peak_indices = peak_indices[mask]\n",
    "\n",
    "# Convert peak indices back to original time coordinates\n",
    "pulse_times = time_ds[peak_indices]\n",
    "pulse_amplitudes = data[peak_indices]\n",
    "\n",
    "plt.figure()\n",
    "plt.plot(time_ds, data)\n",
    "plt.axhline(y=lower_threshold, color='g', linestyle='--', label='Lower Threshold')\n",
    "plt.axhline(y=upper_threshold, color='r', linestyle='--', label='Upper Threshold')\n",
    "plt.scatter(pulse_times, pulse_amplitudes, color='red')\n",
    "plt.xlabel('Time (ms)')\n",
    "plt.ylabel('Signal')\n",
    "plt.title('Detected Pulses')\n",
    "plt.legend()\n",
    "plt.show()\n"
   ]
  },
  {
   "cell_type": "code",
   "execution_count": 5,
   "metadata": {},
   "outputs": [],
   "source": [
    "# Create histogram of raw signal data\n",
    "plt.figure(figsize=(10,6))\n",
    "plt.hist(xray_data, bins=1000, density=True)\n",
    "plt.xlabel('Signal Amplitude (V)') \n",
    "plt.ylabel('Density')\n",
    "plt.title('Histogram of X-ray Signal Amplitudes')\n",
    "plt.grid(True)\n",
    "plt.show()"
   ]
  },
  {
   "cell_type": "code",
   "execution_count": null,
   "metadata": {},
   "outputs": [],
   "source": [
    "# Create histogram of pulses over time with adjustable bin width\n",
    "bin_width = 0.1\n",
    "\n",
    "plt.figure(figsize=(10,6))\n",
    "bins = np.arange(min(pulse_times), max(pulse_times) + bin_width, bin_width)\n",
    "hist, bins = np.histogram(pulse_times, bins=bins)\n",
    "bin_centers = (bins[:-1] + bins[1:])/2\n",
    "\n",
    "plt.plot(bin_centers, hist)\n",
    "plt.xlabel('Time (ms)')\n",
    "plt.ylabel('Counts') \n",
    "plt.title(f'Photon Counts vs Time')\n",
    "plt.grid(True)\n",
    "plt.show()\n"
   ]
  },
  {
   "cell_type": "code",
   "execution_count": null,
   "metadata": {},
   "outputs": [],
   "source": [
    "print(min_distance)"
   ]
  },
  {
   "cell_type": "code",
   "execution_count": null,
   "metadata": {},
   "outputs": [],
   "source": []
  }
 ],
 "metadata": {
  "kernelspec": {
   "display_name": ".venv",
   "language": "python",
   "name": "python3"
  },
  "language_info": {
   "codemirror_mode": {
    "name": "ipython",
    "version": 3
   },
   "file_extension": ".py",
   "mimetype": "text/x-python",
   "name": "python",
   "nbconvert_exporter": "python",
   "pygments_lexer": "ipython3",
   "version": "3.11.5"
  }
 },
 "nbformat": 4,
 "nbformat_minor": 2
}

{
 "cells": [
  {
   "cell_type": "code",
   "execution_count": 18,
   "metadata": {},
   "outputs": [],
   "source": [
    "import sys\n",
    "sys.path.append(r\"C:\\Users\\hjia9\\Documents\\GitHub\\data-analysis\\read\")\n",
    "sys.path.append(r\"C:\\Users\\hjia9\\Documents\\GitHub\\data-analysis\")\n",
    "\n",
    "import numpy as np\n",
    "import time\n",
    "\n",
    "from read_scope_data import read_trc_data\n",
    "from data_analysis_utils import Photons, PhotonPulse, hl_envelopes_idx\n",
    "from plot_utils import plot_counts_per_bin\n",
    "\n",
    "import matplotlib.pyplot as plt\n",
    "from scipy.ndimage import gaussian_filter1d\n",
    "from scipy.signal import fftconvolve, savgol_filter, find_peaks, find_peaks_cwt\n",
    "\n",
    "from plot_utils import plot_original_and_baseline, plot_subtracted_signal\n",
    "%matplotlib qt"
   ]
  },
  {
   "cell_type": "code",
   "execution_count": 37,
   "metadata": {},
   "outputs": [
    {
     "name": "stdout",
     "output_type": "stream",
     "text": [
      "Reading data...\n",
      "Done\n",
      "(25000002,)\n"
     ]
    }
   ],
   "source": [
    "ifn = r\"E:\\x-ray\\20241102\\C3--E-ring-p24-z13-x40-xray--00034.trc\"\n",
    "xray_data, tarr_x = read_trc_data(ifn)\n",
    "print(xray_data.shape)"
   ]
  },
  {
   "cell_type": "code",
   "execution_count": 42,
   "metadata": {},
   "outputs": [],
   "source": [
    "time_ms = tarr_x * 1000\n",
    "filtered_xray_data = savgol_filter(xray_data, window_length=51, polyorder=3)\n",
    "\n",
    "start_idx = 10000000\n",
    "end_idx = 10500000\n",
    "\n",
    "plt.figure(0)\n",
    "plt.plot(time_ms[start_idx:end_idx], xray_data[start_idx:end_idx], label='Original')\n",
    "plt.plot(time_ms[start_idx:end_idx], filtered_xray_data[start_idx:end_idx], label='Filtered')\n",
    "plt.legend(loc='upper right')\n",
    "plt.show()"
   ]
  },
  {
   "cell_type": "code",
   "execution_count": 52,
   "metadata": {},
   "outputs": [],
   "source": [
    "def analyze_downsample_options(data, tarr, window_length=51, polyorder=3, min_timescale_ms=1e-3):\n",
    "    \"\"\"\n",
    "    Analyze different downsample rates and their effect on filtered data.\n",
    "    \n",
    "    Args:\n",
    "        data: Input signal array\n",
    "        times: Time array in milliseconds\n",
    "        window_length: Savitzky-Golay filter window length\n",
    "        polyorder: Savitzky-Golay filter polynomial order\n",
    "        min_timescale_ms: Minimum timescale to preserve in milliseconds\n",
    "    \n",
    "    Returns:\n",
    "        int: Recommended downsample rate\n",
    "    \"\"\"\n",
    "    # Calculate sampling rate\n",
    "    dt = tarr[1] - tarr[0]\n",
    "    min_samples = min_timescale_ms / dt  # minimum samples needed\n",
    "    \n",
    "    # Original filtered data\n",
    "    filtered_orig = savgol_filter(data, window_length, polyorder)\n",
    "    \n",
    "    # Try different downsample rates\n",
    "    rates = [2, 5, 10, 20, 50]\n",
    "    errors = []\n",
    "    \n",
    "    print(f\"\\nAnalyzing downsample rates (minimum {min_samples:.1e} samples needed for {min_timescale_ms:.1e} ms features):\")\n",
    "\n",
    "\n",
    "    \n",
    "    for rate in rates:\n",
    "        # Skip rates that would undersample the minimum timescale\n",
    "        if rate > min_samples/2:  # Nyquist criterion\n",
    "            print(f\"Rate {rate:2d}: Too high for {min_timescale_ms:.1e} ms features\")\n",
    "            continue\n",
    "            \n",
    "        # Downsample, filter, then upsample\n",
    "        downsampled = data[::rate]\n",
    "        filtered_down = savgol_filter(downsampled, \n",
    "                                    max(3, window_length//rate), \n",
    "                                    min(polyorder, (window_length//rate)-1))\n",
    "        # Interpolate back to original size\n",
    "        filtered_up = np.interp(np.arange(len(data)), \n",
    "                              np.arange(len(downsampled))*rate, \n",
    "                              filtered_down)\n",
    "        \n",
    "        # Compare with original\n",
    "        error = np.abs(filtered_orig - filtered_up).mean()\n",
    "        errors.append((rate, error))\n",
    "        print(f\"Rate {rate:2d}: Mean error = {error:.2e}, Samples in min_timescale = {min_samples/rate:.1f}\")\n",
    "    \n",
    "    if errors:\n",
    "        # Find best rate that preserves features\n",
    "        best_rate = min(errors, key=lambda x: x[1])[0]\n",
    "        print(f\"\\nRecommended downsample rate: {best_rate}\")\n",
    "        return best_rate\n",
    "    else:\n",
    "        print(\"\\nNo suitable downsample rates found for given timescale\")\n",
    "        return 1"
   ]
  },
  {
   "cell_type": "code",
   "execution_count": 90,
   "metadata": {},
   "outputs": [
    {
     "name": "stdout",
     "output_type": "stream",
     "text": [
      "\n",
      "Analyzing downsample rates (minimum 2.5e+02 samples needed for 5.0e-04 ms features):\n",
      "Rate  2: Mean error = 1.55e-05, Samples in min_timescale = 125.0\n",
      "Rate  5: Mean error = 2.40e-04, Samples in min_timescale = 50.0\n",
      "Rate 10: Mean error = 1.59e-04, Samples in min_timescale = 25.0\n",
      "Rate 20: Mean error = 8.44e-04, Samples in min_timescale = 12.5\n",
      "Rate 50: Mean error = 1.31e-03, Samples in min_timescale = 5.0\n",
      "\n",
      "Recommended downsample rate: 2\n"
     ]
    },
    {
     "data": {
      "text/plain": [
       "2"
      ]
     },
     "execution_count": 90,
     "metadata": {},
     "output_type": "execute_result"
    }
   ],
   "source": [
    "min_ts = 0.5e-3\n",
    "analyze_downsample_options(filtered_xray_data, time_ms, window_length=51, polyorder=3, min_timescale_ms=min_ts)"
   ]
  },
  {
   "cell_type": "code",
   "execution_count": 120,
   "metadata": {},
   "outputs": [],
   "source": [
    "# Downsample data using recommended rate of 2\n",
    "downsample_rate = 8\n",
    "\n",
    "# Create downsampled arrays\n",
    "time_ds = time_ms[::downsample_rate]\n",
    "data_ds = filtered_xray_data[::downsample_rate]\n",
    "\n",
    "# Calculate minimum distance between peaks based on min_timescale\n",
    "sample_period = (time_ds[1] - time_ds[0])  # Time between samples\n",
    "min_distance = int(min_ts / sample_period * 10)\n",
    "\n",
    "# Plot comparison\n",
    "plt.figure(figsize=(12,6))\n",
    "plt.plot(time_ms, -filtered_xray_data, 'b-', label='Original', alpha=0.5)\n",
    "plt.plot(time_ds, -data_ds, 'r-', label='Downsampled', linewidth=2)\n",
    "plt.xlabel('Time (ms)')\n",
    "plt.ylabel('Signal (V)')\n",
    "plt.title(f'Original vs Downsampled Data (rate={downsample_rate})')\n",
    "plt.legend(loc='upper right')\n",
    "plt.grid(True)\n",
    "plt.show()"
   ]
  },
  {
   "cell_type": "code",
   "execution_count": 121,
   "metadata": {},
   "outputs": [],
   "source": [
    "larr, harr = hl_envelopes_idx(data_ds, dmin=1, dmax=min_distance, split=False)\n",
    "\n",
    "plt.figure()\n",
    "plt.plot(time_ds, data_ds)\n",
    "plt.plot(time_ds[larr], data_ds[larr], label='Lower Envelope')\n",
    "plt.plot(time_ds[harr], data_ds[harr], label='Upper Envelope')\n",
    "plt.xlabel('Time (ms)')\n",
    "plt.ylabel('Signal')\n",
    "plt.legend(loc='upper right')\n",
    "plt.show()"
   ]
  },
  {
   "cell_type": "code",
   "execution_count": 122,
   "metadata": {},
   "outputs": [],
   "source": [
    "noise_sample = data_ds[:int(len(data_ds)*0.001)]\n",
    "noise_amplitude = (np.max(np.abs(noise_sample)) - np.min(np.abs(noise_sample))) / 2\n",
    "\n",
    "# Interpolate baseline using upper envelope points\n",
    "baseline = np.interp(np.arange(len(data_ds)), harr, data_ds[harr]) - noise_amplitude\n",
    "baseline_subtracted = data_ds - baseline\n",
    "\n",
    "plt.figure()\n",
    "plt.plot(time_ds, data_ds, label='Original')\n",
    "plt.plot(time_ds, baseline, label='Baseline')\n",
    "plt.plot(time_ds, baseline_subtracted, label='Baseline Subtracted')\n",
    "plt.legend(loc='upper right')\n",
    "plt.show()"
   ]
  },
  {
   "cell_type": "code",
   "execution_count": 125,
   "metadata": {},
   "outputs": [],
   "source": [
    "data = -baseline_subtracted\n",
    "# Use first 5% of data as noise sample for threshold determination\n",
    "noise_sample = data[:int(len(data)*0.05)]\n",
    "noise_mean = np.mean(noise_sample)\n",
    "noise_std = np.std(noise_sample)\n",
    "\n",
    "lower_threshold = noise_mean + 6*noise_std\n",
    "upper_threshold = noise_mean + 100*noise_std\n",
    "\n",
    "# Find peaks above lower threshold with minimum distance constraint\n",
    "peak_indices, _ = find_peaks(data, height=lower_threshold, distance=min_distance)\n",
    "\n",
    "# Remove peaks that exceed upper threshold and nearby peaks\n",
    "mask = np.ones(len(peak_indices), dtype=bool)\n",
    "for i, idx in enumerate(peak_indices):\n",
    "    if data[idx] > upper_threshold:\n",
    "        # Find all peaks within min_distance of this large peak\n",
    "        nearby_mask = np.abs(peak_indices - idx) <= min_distance*20\n",
    "        mask[nearby_mask] = False\n",
    "\n",
    "# Apply mask to keep only valid peaks\n",
    "peak_indices = peak_indices[mask]\n",
    "\n",
    "# Convert peak indices back to original time coordinates\n",
    "pulse_times = time_ds[peak_indices]\n",
    "pulse_amplitudes = data[peak_indices]\n",
    "\n",
    "plt.figure()\n",
    "plt.plot(time_ds, data)\n",
    "plt.axhline(y=lower_threshold, color='g', linestyle='--', label='Lower Threshold')\n",
    "plt.axhline(y=upper_threshold, color='r', linestyle='--', label='Upper Threshold')\n",
    "plt.scatter(pulse_times, pulse_amplitudes, color='red')\n",
    "plt.xlabel('Time (ms)')\n",
    "plt.ylabel('Signal')\n",
    "plt.title('Detected Pulses')\n",
    "plt.legend()\n",
    "plt.show()\n"
   ]
  },
  {
   "cell_type": "code",
   "execution_count": 5,
   "metadata": {},
   "outputs": [],
   "source": [
    "# Create histogram of raw signal data\n",
    "plt.figure(figsize=(10,6))\n",
    "plt.hist(xray_data, bins=1000, density=True)\n",
    "plt.xlabel('Signal Amplitude (V)') \n",
    "plt.ylabel('Density')\n",
    "plt.title('Histogram of X-ray Signal Amplitudes')\n",
    "plt.grid(True)\n",
    "plt.show()"
   ]
  },
  {
   "cell_type": "code",
   "execution_count": null,
   "metadata": {},
   "outputs": [],
   "source": [
    "# Create histogram of pulses over time with adjustable bin width\n",
    "bin_width = 0.1\n",
    "\n",
    "plt.figure(figsize=(10,6))\n",
    "bins = np.arange(min(pulse_times), max(pulse_times) + bin_width, bin_width)\n",
    "hist, bins = np.histogram(pulse_times, bins=bins)\n",
    "bin_centers = (bins[:-1] + bins[1:])/2\n",
    "\n",
    "plt.plot(bin_centers, hist)\n",
    "plt.xlabel('Time (ms)')\n",
    "plt.ylabel('Counts') \n",
    "plt.title(f'Photon Counts vs Time')\n",
    "plt.grid(True)\n",
    "plt.show()\n"
   ]
  },
  {
   "cell_type": "code",
   "execution_count": 119,
   "metadata": {},
   "outputs": [
    {
     "name": "stdout",
     "output_type": "stream",
     "text": [
      "31\n"
     ]
    }
   ],
   "source": [
    "print(min_distance)"
   ]
  },
  {
   "cell_type": "code",
   "execution_count": null,
   "metadata": {},
   "outputs": [],
   "source": []
  }
 ],
 "metadata": {
  "kernelspec": {
   "display_name": ".venv",
   "language": "python",
   "name": "python3"
  },
  "language_info": {
   "codemirror_mode": {
    "name": "ipython",
    "version": 3
   },
   "file_extension": ".py",
   "mimetype": "text/x-python",
   "name": "python",
   "nbconvert_exporter": "python",
   "pygments_lexer": "ipython3",
   "version": "3.11.5"
  }
 },
 "nbformat": 4,
 "nbformat_minor": 2
}

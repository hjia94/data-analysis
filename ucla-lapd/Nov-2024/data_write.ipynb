{
 "cells": [
  {
   "cell_type": "code",
   "execution_count": 1,
   "metadata": {},
   "outputs": [],
   "source": [
    "import os\n",
    "import sys\n",
    "sys.path.append(r\"C:\\Users\\hjia9\\Documents\\GitHub\\data-analysis\\read\")\n",
    "sys.path.append(r\"C:\\Users\\hjia9\\Documents\\GitHub\\data-analysis\")\n",
    "\n",
    "import numpy as np\n",
    "import matplotlib.pyplot as plt\n",
    "import scipy\n",
    "\n",
    "from read_scope_data import read_trc_data\n",
    "from data_analysis_utils import Photons\n",
    "from plot_utils import plot_stft, plot_counts_per_bin, plot_photon_detection\n",
    "\n",
    "%matplotlib qt"
   ]
  },
  {
   "cell_type": "code",
   "execution_count": 7,
   "metadata": {},
   "outputs": [
    {
     "name": "stdout",
     "output_type": "stream",
     "text": [
      "Looking for files with p30-z13-x200, shot: 00012\n",
      "Reading x-ray data from C2--E-ring-p30-z13-x200-xray--00012.trc\n",
      "Reading data...\n",
      "Done\n",
      "Reading x-ray data from C3--E-ring-p30-z13-x200-xray--00012.trc\n",
      "Reading data...\n",
      "Done\n",
      "Reading Bdot data from C1--E-ring-p30-z13-x200-Bdot--00012.trc\n",
      "Reading data...\n",
      "Done\n",
      "Reading Bdot data from C2--E-ring-p30-z13-x200-Bdot--00012.trc\n",
      "Reading data...\n",
      "Done\n",
      "Reading Bdot data from C3--E-ring-p30-z13-x200-Bdot--00012.trc\n",
      "Reading data...\n",
      "Done\n",
      "\n",
      "Data loading complete\n"
     ]
    }
   ],
   "source": [
    "# Define parameters for file selection\n",
    "date = \"20241102\"\n",
    "file_number = \"00012\"\n",
    "position = \"p30-z13-x200\"  # Change this for different positions\n",
    "\n",
    "# Define base pattern for file names\n",
    "xray_pattern = f\"C{{channel}}--E-ring-{position}-xray--{file_number}.trc\"\n",
    "bdot_pattern = f\"C{{channel}}--E-ring-{position}-Bdot--{file_number}.trc\"\n",
    "\n",
    "print(f\"Looking for files with {position}, shot: {file_number}\")\n",
    "\n",
    "# read data from xray detector scope\n",
    "base_dir = os.path.join(r\"E:\\x-ray\", date)\n",
    "for channel in [\"2\", \"3\"]:  # C2 and C3 for x-ray\n",
    "    filename = xray_pattern.format(channel=channel)\n",
    "    filepath = os.path.join(base_dir, filename)\n",
    "    if os.path.exists(filepath):\n",
    "        print(f\"Reading x-ray data from {filename}\")\n",
    "        if channel == \"2\":\n",
    "            dipole_data, tarr_x = read_trc_data(filepath)\n",
    "        elif channel == \"3\":\n",
    "            xray_data, tarr_x = read_trc_data(filepath)\n",
    "    else:\n",
    "        print(f\"Warning: Could not find {filename}\")\n",
    "\n",
    "# read data from Bdot scope\n",
    "base_dir = os.path.join(r\"E:\\Bdot\", date)\n",
    "for channel in [\"1\", \"2\", \"3\"]:  # C1, C2, and C3 for Bdot\n",
    "    filename = bdot_pattern.format(channel=channel)\n",
    "    filepath = os.path.join(base_dir, filename)\n",
    "    if os.path.exists(filepath):\n",
    "        print(f\"Reading Bdot data from {filename}\")\n",
    "        if channel == \"1\":\n",
    "            By_P21, tarr_B = read_trc_data(filepath)\n",
    "        elif channel == \"2\":\n",
    "            Bx_P20, tarr_B = read_trc_data(filepath)\n",
    "        elif channel == \"3\":\n",
    "            By_P20, tarr_B = read_trc_data(filepath)\n",
    "    else:\n",
    "        print(f\"Warning: Could not find {filename}\")\n",
    "\n",
    "print(\"\\nData loading complete\")"
   ]
  },
  {
   "cell_type": "code",
   "execution_count": 8,
   "metadata": {},
   "outputs": [
    {
     "name": "stdout",
     "output_type": "stream",
     "text": [
      "\n",
      "Detected 133379 pulses\n",
      "Signal baseline: -0.04\n",
      "Detection threshold: 0.03\n"
     ]
    }
   ],
   "source": [
    "# Create Photons detector object\n",
    "detector = Photons(tarr_x * 1000, -xray_data, threshold_multiplier=5.0, negative_pulses=False)\n",
    "\n",
    "# Reduce pulses to get pulse properties\n",
    "detector.reduce_pulses()\n",
    "\n",
    "# Get pulse arrays\n",
    "pulse_times, pulse_areas = detector.get_pulse_arrays()\n",
    "\n",
    "plot_photon_detection(\n",
    "    time_array=tarr_x,\n",
    "    signal_data=xray_data,\n",
    "    pulse_times=pulse_times,\n",
    "    threshold_level=detector.threshold,\n",
    "    offset=detector.offset\n",
    ")"
   ]
  },
  {
   "cell_type": "code",
   "execution_count": 16,
   "metadata": {},
   "outputs": [],
   "source": [
    "bin_centers, counts = plot_counts_per_bin(\n",
    "    pulse_times=pulse_times,\n",
    "    pulse_areas=pulse_areas,\n",
    "    bin_width_ms=0.2)\n",
    "    # amplitude_min=0.01,\n",
    "    # amplitude_max=0.3\n",
    "\n",
    "\n",
    "times, frequencies, stft_result = plot_stft(\n",
    "    time_array=tarr_B,\n",
    "    signal=By_P21,\n",
    "    samples_per_fft=500000,\n",
    "    overlap_fraction=0.01,\n",
    "    window='hanning',\n",
    "    freq_min=150, # MHz\n",
    "    freq_max=1000 # MHz\n",
    ")"
   ]
  },
  {
   "cell_type": "code",
   "execution_count": 17,
   "metadata": {},
   "outputs": [],
   "source": [
    "# Create a new figure with a specific size\n",
    "fig, ax1 = plt.subplots(figsize=(12, 8))\n",
    "\n",
    "# Get the time limits from STFT data\n",
    "t_min = times[0]*1000  # Convert to ms\n",
    "t_max = times[-1]*1000  # Convert to ms\n",
    "\n",
    "# Plot STFT spectrogram\n",
    "im = ax1.imshow(stft_result.T, \n",
    "                aspect='auto',\n",
    "                origin='lower',\n",
    "                extent=[t_min, t_max, frequencies[0], frequencies[-1]],\n",
    "                interpolation='nearest',\n",
    "                cmap='jet')\n",
    "\n",
    "# Add colorbar for STFT\n",
    "cbar = plt.colorbar(im, ax=ax1)\n",
    "cbar.set_label('Magnitude')\n",
    "\n",
    "# Set labels for frequency axis\n",
    "ax1.set_xlabel('Time (ms)')\n",
    "ax1.set_ylabel('Frequency (MHz)')\n",
    "\n",
    "# Create second y-axis for counts\n",
    "ax2 = ax1.twinx()\n",
    "\n",
    "# Filter counts data to match STFT time range\n",
    "mask = (bin_centers >= t_min) & (bin_centers <= t_max)\n",
    "filtered_centers = bin_centers[mask]\n",
    "filtered_counts = counts[mask]\n",
    "\n",
    "# Plot filtered counts data\n",
    "ax2.plot(filtered_centers, filtered_counts, 'w-', linewidth=2, alpha=0.7, label='Photon Counts')\n",
    "\n",
    "# Set axis limits\n",
    "ax1.set_xlim(t_min, t_max)\n",
    "\n",
    "# Set labels for counts axis\n",
    "ax2.set_ylabel('Counts per Bin', color='w')\n",
    "ax2.tick_params(axis='y', labelcolor='w')\n",
    "\n",
    "# Add title\n",
    "plt.title('STFT Spectrogram with Photon Counts Overlay')\n",
    "\n",
    "# Add legend for counts plot\n",
    "ax2.legend(loc='upper right')\n",
    "\n",
    "plt.show()\n"
   ]
  },
  {
   "cell_type": "code",
   "execution_count": 5,
   "metadata": {},
   "outputs": [
    {
     "name": "stdout",
     "output_type": "stream",
     "text": [
      "\n",
      "Dictionary keys: dict_keys(['metadata', 'Freq(Hz)', 'S22', 'S23', 'S24', 'S32', 'S33', 'S34', 'S42', 'S43', 'S44'])\n"
     ]
    }
   ],
   "source": [
    "# filepath = r\"C:\\data\\LAPD\\Bdot_calibration\\BDOT-2C-1T-RB1\\Raw Cal Data 3Ghz 10-24\\bdot-2c-1-bypy-2g.csv\"\n",
    "# data_dict = read_NA_data(filepath)"
   ]
  },
  {
   "cell_type": "code",
   "execution_count": null,
   "metadata": {},
   "outputs": [],
   "source": []
  }
 ],
 "metadata": {
  "kernelspec": {
   "display_name": ".venv",
   "language": "python",
   "name": "python3"
  },
  "language_info": {
   "codemirror_mode": {
    "name": "ipython",
    "version": 3
   },
   "file_extension": ".py",
   "mimetype": "text/x-python",
   "name": "python",
   "nbconvert_exporter": "python",
   "pygments_lexer": "ipython3",
   "version": "3.11.5"
  }
 },
 "nbformat": 4,
 "nbformat_minor": 2
}

{
 "cells": [
  {
   "cell_type": "code",
   "execution_count": 1,
   "metadata": {},
   "outputs": [],
   "source": [
    "import os\n",
    "import sys\n",
    "sys.path.append(r\"C:\\Users\\hjia9\\Documents\\GitHub\\data-analysis\\read\")\n",
    "sys.path.append(r\"C:\\Users\\hjia9\\Documents\\GitHub\\data-analysis\")\n",
    "\n",
    "import numpy as np\n",
    "import matplotlib.pyplot as plt\n",
    "import scipy\n",
    "\n",
    "from read_scope_data import read_trc_data\n",
    "from plot_utils import plot_stft\n",
    "\n",
    "%matplotlib qt"
   ]
  },
  {
   "cell_type": "code",
   "execution_count": 4,
   "metadata": {},
   "outputs": [
    {
     "name": "stdout",
     "output_type": "stream",
     "text": [
      "Reading data...\n",
      "Done\n",
      "Reading data...\n",
      "Done\n",
      "Reading data...\n",
      "Done\n",
      "Reading data...\n",
      "Done\n",
      "Reading data...\n",
      "Done\n",
      "Reading data...\n",
      "Done\n"
     ]
    }
   ],
   "source": [
    "date = \"20241029\"\n",
    "file_number = \"00001\"\n",
    "\n",
    "# # read data from xray detector scope\n",
    "# base_dir = os.path.join(r\"D:\\x-ray\", date)\n",
    "# for ifn in os.listdir(base_dir):\n",
    "#     if ifn.endswith(f\"{file_number}.trc\"):\n",
    "#         if \"C1\" in ifn:\n",
    "#             dipole_data, tarr_x = read_trc_data(os.path.join(base_dir, ifn))\n",
    "#         if \"C3\" in ifn:\n",
    "#             vis_data, tarr_x = read_trc_data(os.path.join(base_dir, ifn))\n",
    "#         if \"C4\" in ifn:\n",
    "#             xray_data, tarr_x = read_trc_data(os.path.join(base_dir, ifn))\n",
    "\n",
    "# read data from Bdot scope\n",
    "base_dir = os.path.join(r\"E:\\Bdot\", date)\n",
    "for ifn in os.listdir(base_dir):\n",
    "    if ifn.endswith(f\"{file_number}.trc\"):\n",
    "        if \"C1\" in ifn:\n",
    "            By_P21, tarr_B = read_trc_data(os.path.join(base_dir, ifn))\n",
    "        if \"C2\" in ifn:\n",
    "            Bx_P20, tarr_B = read_trc_data(os.path.join(base_dir, ifn))\n",
    "        if \"C3\" in ifn:\n",
    "            By_P20, tarr_B = read_trc_data(os.path.join(base_dir, ifn))\n",
    "\n",
    "# # read data from magnetron scope\n",
    "# base_dir = os.path.join(r\"D:\\magnetron\", date)\n",
    "# for ifn in os.listdir(base_dir):\n",
    "#     if ifn.endswith(f\"{file_number}.trc\"):\n",
    "#         if \"C1\" in ifn:\n",
    "#             V1, tarr = read_trc_data(os.path.join(base_dir, ifn))\n",
    "#             V_bank = np.average(V1)\n",
    "#             print(f\"Bank voltage = {V_bank}\")\n",
    "#         if \"C2\" in ifn:\n",
    "#             I_mag, tarr = read_trc_data(os.path.join(base_dir, ifn))\n",
    "            \n",
    "#         if \"C3\" in ifn:\n",
    "#             P_ref, tarr = read_trc_data(os.path.join(base_dir, ifn))\n",
    "#             print(f\"Read P_ref from {ifn}\")\n",
    "\n",
    "#         if \"C4\" in ifn:\n",
    "#             V_mag, tarr = read_trc_data(os.path.join(base_dir, ifn))\n",
    "        \n",
    "#         if 'I_mag' in locals() and 'V_mag' in locals():\n",
    "#             P_mag = -I_mag*0.25*V_mag # 1V = 0.25A; magnetron is negatively biased\n"
   ]
  },
  {
   "cell_type": "code",
   "execution_count": 5,
   "metadata": {},
   "outputs": [],
   "source": [
    "times, frequencies, stft_result = plot_stft(\n",
    "    time_array=tarr_B,\n",
    "    signal=By_P21,\n",
    "    samples_per_fft=500000,\n",
    "    overlap_fraction=0.01,\n",
    "    window='hanning',\n",
    "    freq_min=150, # MHz\n",
    "    freq_max=1000 # MHz\n",
    ")"
   ]
  },
  {
   "cell_type": "code",
   "execution_count": 8,
   "metadata": {},
   "outputs": [],
   "source": [
    "plt.figure()\n",
    "plt.plot(tarr_B*1000, By_P21)\n",
    "plt.show()\n"
   ]
  },
  {
   "cell_type": "code",
   "execution_count": 5,
   "metadata": {},
   "outputs": [
    {
     "name": "stdout",
     "output_type": "stream",
     "text": [
      "\n",
      "Dictionary keys: dict_keys(['metadata', 'Freq(Hz)', 'S22', 'S23', 'S24', 'S32', 'S33', 'S34', 'S42', 'S43', 'S44'])\n"
     ]
    }
   ],
   "source": [
    "filepath = r\"C:\\data\\LAPD\\Bdot_calibration\\BDOT-2C-1T-RB1\\Raw Cal Data 3Ghz 10-24\\bdot-2c-1-bypy-2g.csv\"\n",
    "data_dict = read_NA_data(filepath)"
   ]
  },
  {
   "cell_type": "code",
   "execution_count": null,
   "metadata": {},
   "outputs": [],
   "source": []
  }
 ],
 "metadata": {
  "kernelspec": {
   "display_name": ".venv",
   "language": "python",
   "name": "python3"
  },
  "language_info": {
   "codemirror_mode": {
    "name": "ipython",
    "version": 3
   },
   "file_extension": ".py",
   "mimetype": "text/x-python",
   "name": "python",
   "nbconvert_exporter": "python",
   "pygments_lexer": "ipython3",
   "version": "3.11.5"
  }
 },
 "nbformat": 4,
 "nbformat_minor": 2
}

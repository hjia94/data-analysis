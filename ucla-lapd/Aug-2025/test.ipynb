{
 "cells": [
  {
   "cell_type": "code",
   "execution_count": 22,
   "id": "d33476b7",
   "metadata": {},
   "outputs": [],
   "source": [
    "import h5py\n",
    "import sys\n",
    "import os\n",
    "\n",
    "import numpy as np\n",
    "import matplotlib.pyplot as plt\n",
    "from scipy.ndimage import gaussian_filter1d\n",
    "\n",
    "# Find the repo root (parent of current folder)\n",
    "repo_root = os.path.abspath(os.path.join(os.path.dirname(os.getcwd()), '..')) if '__file__' not in globals() else os.path.abspath(os.path.join(os.path.dirname(__file__), '..'))\n",
    "sys.path.append(repo_root)\n",
    "\n",
    "# Add only immediate subfolders of the repo root to sys.path (much faster)\n",
    "for item in os.listdir(repo_root):\n",
    "    item_path = os.path.join(repo_root, item)\n",
    "    if os.path.isdir(item_path):\n",
    "        sys.path.append(item_path)\n",
    "\n",
    "from read_scope_data import read_hdf5_scope_data, read_hdf5_scope_tarr, read_hdf5_all_scopes_channels, read_scope_channel_descriptions\n",
    "from read_hdf5 import print_hdf5_info, print_scope_channel_descriptions\n",
    "from process_xray_bdot_hdf5 import get_xray_data, process_shot_xray\n",
    "from data_analysis_utils import counts_per_bin\n",
    "\n",
    "%matplotlib qt"
   ]
  },
  {
   "cell_type": "code",
   "execution_count": 9,
   "id": "815468eb",
   "metadata": {},
   "outputs": [],
   "source": [
    "ifn = r\"F:\\AUG2025\\P24\\10_He1kG430G_5800A_K-25_2025-08-12.hdf5\"\n",
    "# print_hdf5_info(ifn)"
   ]
  },
  {
   "cell_type": "code",
   "execution_count": 13,
   "id": "3053718a",
   "metadata": {},
   "outputs": [
    {
     "name": "stdout",
     "output_type": "stream",
     "text": [
      "Applying Savitzky-Golay filter...\n",
      "Analyzing optimal downsample rate...\n",
      "\n",
      "Analyzing downsample rates (minimum 2.0e+02 samples needed for 8.0e-04 ms features):\n",
      "Rate  2: Mean error = 3.53e-05, Samples in min_timescale = 100.0\n",
      "Rate  5: Mean error = 1.33e-04, Samples in min_timescale = 40.0\n",
      "Rate 10: Mean error = 3.20e-04, Samples in min_timescale = 20.0\n",
      "Rate 20: Mean error = 7.25e-04, Samples in min_timescale = 10.0\n",
      "Rate 50: Mean error = 1.26e-03, Samples in min_timescale = 4.0\n",
      "\n",
      "Recommended downsample rate: 2\n",
      "Downsample rate: 2\n",
      "Computing baseline...\n",
      "Computing thresholds...\n",
      "Detecting pulses...\n"
     ]
    }
   ],
   "source": [
    "shot_num = 1\n",
    "with h5py.File(ifn, 'r') as f:\n",
    "    result = read_hdf5_all_scopes_channels(f, shot_num)\n",
    "    tarr_x, xray_data = get_xray_data(result)\n",
    "    threshold = [5, 60]\n",
    "    min_ts = 0.8e-6\n",
    "    d = 0.1\n",
    "    pulse_tarr, pulse_amp = process_shot_xray(tarr_x, xray_data, min_ts, d, threshold, debug=True)"
   ]
  },
  {
   "cell_type": "code",
   "execution_count": 19,
   "id": "99b28f5d",
   "metadata": {},
   "outputs": [
    {
     "name": "stdout",
     "output_type": "stream",
     "text": [
      "b'00'\n"
     ]
    }
   ],
   "source": [
    "with h5py.File(ifn, 'r') as f:\n",
    "    cine_name_arr = f['Control/FastCam/cine file name'][()]\n",
    "    print(cine_name_arr[0][:2])"
   ]
  },
  {
   "cell_type": "code",
   "execution_count": 7,
   "id": "4d818975",
   "metadata": {},
   "outputs": [
    {
     "name": "stdout",
     "output_type": "stream",
     "text": [
      "00_He1kG430G_5800A_K-25_shot001.cine\n"
     ]
    }
   ],
   "source": [
    "shot_num = 1\n",
    "with h5py.File(ifn, 'r') as f:\n",
    "    cine_narr = f['Control/FastCam/cine file name'][()]\n",
    "    cam_file = cine_narr[shot_num-1]\n",
    "    if shot_num != int(cam_file[-8:-5]):\n",
    "        print(f\"Warning: shot number {shot_num} does not match {cam_file}\")\n",
    "    print(cam_file.decode('utf-8'))"
   ]
  },
  {
   "cell_type": "code",
   "execution_count": null,
   "id": "a40914c1",
   "metadata": {},
   "outputs": [],
   "source": [
    "scope_name = 'xrayscope'\n",
    "channel_name = 'C2'\n",
    "shot_number = 1\n",
    "data = read_hdf5_scope_data(ifn, scope_name, channel_name, shot_number)\n",
    "tarr = read_hdf5_scope_tarr(ifn, scope_name)"
   ]
  },
  {
   "cell_type": "code",
   "execution_count": null,
   "id": "1d2564da",
   "metadata": {},
   "outputs": [],
   "source": [
    "# Test the updated process_shot_bdot function\n",
    "from process_xray_bdot_hdf5 import process_shot_bdot\n",
    "\n",
    "# Test the function with the HDF5 file\n",
    "stft_time, freq, stft_matrix1, stft_matrix2, stft_matrix3, channel_info = process_shot_bdot(ifn, shot_number=1, debug=True)\n",
    "\n",
    "# Print channel information\n",
    "print(\"\\n=== Channel Information ===\")\n",
    "for channel, info in channel_info.items():\n",
    "    field_comp = info['field_component']\n",
    "    position = info['position']\n",
    "    desc = info['description']\n",
    "    print(f\"{channel}: {field_comp} at {position} - {desc}\")\n",
    "\n",
    "# Check if data was successfully read\n",
    "print(f\"\\nSTFT matrices availability:\")\n",
    "print(f\"Matrix 1 (C1): {'Available' if stft_matrix1 is not None else 'None'}\")\n",
    "print(f\"Matrix 2 (C2): {'Available' if stft_matrix2 is not None else 'None'}\")\n",
    "print(f\"Matrix 3 (C3): {'Available' if stft_matrix3 is not None else 'None'}\")\n",
    "\n",
    "if stft_time is not None:\n",
    "    print(f\"STFT time array shape: {stft_time.shape}\")\n",
    "    print(f\"Frequency array shape: {freq.shape}\")"
   ]
  },
  {
   "cell_type": "code",
   "execution_count": 23,
   "id": "a4c1110f",
   "metadata": {},
   "outputs": [
    {
     "name": "stdout",
     "output_type": "stream",
     "text": [
      "Processing 00 shot 1\n",
      "0 0 0.09305000000000001\n",
      "Processing 00 shot 2\n",
      "0 0 0.09115000000000001\n",
      "Processing 00 shot 3\n",
      "0 0 [[0.000e+00 5.000e-05 1.000e-04 ... 9.990e-02 9.995e-02 1.000e-01]]\n",
      "Processing 00 shot 8\n",
      "0 0 0.0937\n",
      "Processing 02 shot 2\n",
      "2098 2098 0.09965\n",
      "Processing 02 shot 3\n",
      "1914 1914 0.0979\n",
      "Processing 04 shot 2\n",
      "1678 1678 0.0969\n",
      "Processing 04 shot 3\n",
      "1360 1360 0.09145\n",
      "Processing 04 shot 5\n",
      "1060 1060 0.08030000000000001\n",
      "Processing 06 shot 1\n",
      "1450 1450 0.0945\n",
      "Processing 06 shot 2\n",
      "798 798 0.08945\n",
      "Processing 06 shot 5\n",
      "3214 3214 0.09945000000000001\n",
      "Processing 07 shot 2\n",
      "854 854 0.0644\n",
      "Processing 08 shot 2\n",
      "4823 4823 0.09955\n",
      "Processing 08 shot 3\n",
      "1306 1306 0.09605000000000001\n",
      "Processing 08 shot 4\n",
      "1790 1790 0.0984\n",
      "Processing 09 shot 1\n",
      "1355 1355 0.09240000000000001\n",
      "Processing 09 shot 2\n",
      "1942 1942 0.09945000000000001\n",
      "Processing 09 shot 3\n",
      "806 806 0.07555\n",
      "Processing 09 shot 5\n",
      "984 984 0.06235\n",
      "Processing 11 shot 1\n",
      "0 0 0.07329999999999999\n",
      "Processing 12 shot 1\n",
      "4373 4373 0.13715\n",
      "Processing 12 shot 2\n",
      "4495 4495 0.12605\n",
      "Processing 12 shot 3\n",
      "4080 4080 0.14049999999999999\n",
      "Processing 12 shot 5\n",
      "4494 4494 0.13115\n",
      "Processing 13 shot 1\n",
      "4870 4870 0.12769999999999998\n",
      "Processing 14 shot 2\n",
      "4210 4210 0.14509999999999998\n",
      "Processing 14 shot 3\n",
      "4372 4372 0.1366\n",
      "Processing 14 shot 5\n",
      "4437 4437 0.14315\n",
      "Processing 15 shot 1\n",
      "4006 4006 0.14989999999999998\n",
      "Processing 15 shot 2\n",
      "4323 4323 0.1359\n",
      "Processing 15 shot 4\n",
      "4935 4935 0.12669999999999998\n",
      "Processing 15 shot 5\n",
      "3841 3841 0.14645\n",
      "Processing 16 shot 1\n",
      "4468 4468 0.11445\n",
      "Processing 16 shot 3\n",
      "4836 4836 0.11284999999999999\n",
      "Processing 16 shot 4\n",
      "2294 2294 0.09079999999999999\n",
      "Processing 16 shot 5\n",
      "1439 1439 0.08604999999999999\n",
      "Processing 17 shot 1\n",
      "5025 5025 0.12525\n",
      "Processing 17 shot 2\n",
      "4495 4495 0.1156\n",
      "Processing 17 shot 3\n",
      "4674 4674 0.1122\n",
      "Processing 17 shot 4\n",
      "4046 4046 0.12004999999999999\n",
      "Processing 17 shot 5\n",
      "5705 5705 0.13815\n",
      "Processing 18 shot 1\n",
      "6138 6138 0.13535\n",
      "Processing 18 shot 2\n",
      "6204 6204 0.1487\n",
      "Processing 18 shot 3\n",
      "7859 7859 0.15\n",
      "Processing 18 shot 4\n",
      "4074 4074 0.1006\n",
      "Processing 18 shot 5\n",
      "3531 3531 0.09824999999999999\n",
      "Processing 19 shot 1\n",
      "4559 4559 0.11639999999999999\n",
      "Processing 19 shot 2\n",
      "4823 4823 0.14995\n",
      "Processing 19 shot 3\n",
      "4854 4854 0.12334999999999999\n",
      "Processing 19 shot 4\n",
      "4491 4491 0.11624999999999999\n",
      "Processing 19 shot 5\n",
      "5610 5610 0.13635\n",
      "Processing 20 shot 1\n",
      "6529 6529 0.1498\n",
      "Processing 20 shot 2\n",
      "2874 2874 0.09764999999999999\n",
      "Processing 20 shot 3\n",
      "5976 5976 0.12434999999999999\n",
      "Processing 20 shot 4\n",
      "6044 6044 0.12439999999999998\n",
      "Processing 20 shot 5\n",
      "6031 6031 0.12174999999999998\n",
      "Processing 21 shot 1\n",
      "3665 3665 0.09739999999999999\n"
     ]
    }
   ],
   "source": [
    "analysis_file = r\"F:\\AUG2025\\P24\\analysis_results.npy\"\n",
    "tracking_file = r\"F:\\AUG2025\\P24\\tracking_result.npy\"\n",
    "\n",
    "analysis_dict = np.load(analysis_file, allow_pickle=True).item()\n",
    "tracking_dict = np.load(tracking_file, allow_pickle=True).item()\n",
    "\n",
    "for key, item in tracking_dict.items():\n",
    "    if item[1] is None:\n",
    "        continue\n",
    "    prefixes = os.path.basename(key)[:2]\n",
    "    shot_numbers = int(os.path.basename(key).split('_shot')[1][:3])\n",
    "    t0 = item[1]\n",
    "    print(f\"Processing {prefixes} shot {shot_numbers}\")\n",
    "\n",
    "    analysis_key = f\"{prefixes}_{shot_numbers:03d}\"\n",
    "    pulse_tarr, pulse_amp = analysis_dict.get(analysis_key, ([], []))\n",
    "    print(len(pulse_tarr), len(pulse_amp), t0)"
   ]
  },
  {
   "cell_type": "code",
   "execution_count": null,
   "id": "6a19aab9",
   "metadata": {},
   "outputs": [],
   "source": []
  }
 ],
 "metadata": {
  "kernelspec": {
   "display_name": ".venv (3.11.5)",
   "language": "python",
   "name": "python3"
  },
  "language_info": {
   "codemirror_mode": {
    "name": "ipython",
    "version": 3
   },
   "file_extension": ".py",
   "mimetype": "text/x-python",
   "name": "python",
   "nbconvert_exporter": "python",
   "pygments_lexer": "ipython3",
   "version": "3.11.5"
  }
 },
 "nbformat": 4,
 "nbformat_minor": 5
}

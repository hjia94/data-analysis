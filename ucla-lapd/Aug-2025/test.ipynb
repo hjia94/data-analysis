{
 "cells": [
  {
   "cell_type": "code",
   "execution_count": 1,
   "id": "d33476b7",
   "metadata": {},
   "outputs": [],
   "source": [
    "import h5py\n",
    "import sys\n",
    "import os\n",
    "\n",
    "import numpy as np\n",
    "import matplotlib.pyplot as plt\n",
    "from scipy.ndimage import gaussian_filter1d\n",
    "\n",
    "# Find the repo root (parent of current folder)\n",
    "repo_root = os.path.abspath(os.path.join(os.path.dirname(os.getcwd()), '..')) if '__file__' not in globals() else os.path.abspath(os.path.join(os.path.dirname(__file__), '..'))\n",
    "sys.path.append(repo_root)\n",
    "\n",
    "# Add only immediate subfolders of the repo root to sys.path (much faster)\n",
    "for item in os.listdir(repo_root):\n",
    "    item_path = os.path.join(repo_root, item)\n",
    "    if os.path.isdir(item_path):\n",
    "        sys.path.append(item_path)\n",
    "\n",
    "from read_scope_data import read_hdf5_scope_data, read_hdf5_scope_tarr, read_hdf5_all_scopes_channels\n",
    "from read_hdf5 import print_hdf5_info, print_scope_channel_descriptions\n",
    "from process_xray_bdot_hdf5 import get_xray_data, process_shot_xray\n",
    "from data_analysis_utils import counts_per_bin\n",
    "\n",
    "%matplotlib qt"
   ]
  },
  {
   "cell_type": "code",
   "execution_count": 8,
   "id": "815468eb",
   "metadata": {},
   "outputs": [],
   "source": [
    "ifn = r\"F:\\AUG2025\\P23\\42_He1kG430G_5450A_P23_K25_2025-08-14.hdf5\"\n",
    "# print_hdf5_info(ifn)"
   ]
  },
  {
   "cell_type": "code",
   "execution_count": 9,
   "id": "3053718a",
   "metadata": {},
   "outputs": [
    {
     "name": "stdout",
     "output_type": "stream",
     "text": [
      "5000001 5000001\n",
      "Applying Savitzky-Golay filter...\n",
      "Analyzing optimal downsample rate...\n",
      "\n",
      "Analyzing downsample rates (minimum 2.0e+02 samples needed for 8.0e-04 ms features):\n",
      "Rate  2: Mean error = 2.93e-05, Samples in min_timescale = 100.0\n",
      "Rate  5: Mean error = 1.26e-04, Samples in min_timescale = 40.0\n",
      "Rate 10: Mean error = 3.07e-04, Samples in min_timescale = 20.0\n",
      "Rate 20: Mean error = 6.95e-04, Samples in min_timescale = 10.0\n",
      "Rate 50: Mean error = 1.23e-03, Samples in min_timescale = 4.0\n",
      "\n",
      "Recommended downsample rate: 2\n",
      "Downsample rate: 2\n",
      "Computing baseline...\n",
      "Computing thresholds...\n",
      "Detecting pulses...\n"
     ]
    }
   ],
   "source": [
    "shot_num = 2\n",
    "with h5py.File(ifn, 'r') as f:\n",
    "    result = read_hdf5_all_scopes_channels(f, shot_num)\n",
    "    tarr_x, xray_data = get_xray_data(result)\n",
    "    print(len(tarr_x), len(xray_data))\n",
    "    threshold = [5, 60]\n",
    "    min_ts = 0.8e-6\n",
    "    d = 0.1\n",
    "    pulse_tarr, pulse_amp = process_shot_xray(tarr_x, xray_data, min_ts, d, threshold, debug=True)"
   ]
  },
  {
   "cell_type": "code",
   "execution_count": 19,
   "id": "99b28f5d",
   "metadata": {},
   "outputs": [
    {
     "name": "stdout",
     "output_type": "stream",
     "text": [
      "b'00'\n"
     ]
    }
   ],
   "source": [
    "with h5py.File(ifn, 'r') as f:\n",
    "    cine_name_arr = f['Control/FastCam/cine file name'][()]\n",
    "    print(cine_name_arr[0][:2])"
   ]
  },
  {
   "cell_type": "code",
   "execution_count": 7,
   "id": "4d818975",
   "metadata": {},
   "outputs": [
    {
     "name": "stdout",
     "output_type": "stream",
     "text": [
      "00_He1kG430G_5800A_K-25_shot001.cine\n"
     ]
    }
   ],
   "source": [
    "shot_num = 1\n",
    "with h5py.File(ifn, 'r') as f:\n",
    "    cine_narr = f['Control/FastCam/cine file name'][()]\n",
    "    cam_file = cine_narr[shot_num-1]\n",
    "    if shot_num != int(cam_file[-8:-5]):\n",
    "        print(f\"Warning: shot number {shot_num} does not match {cam_file}\")\n",
    "    print(cam_file.decode('utf-8'))"
   ]
  },
  {
   "cell_type": "code",
   "execution_count": null,
   "id": "a40914c1",
   "metadata": {},
   "outputs": [],
   "source": [
    "scope_name = 'xrayscope'\n",
    "channel_name = 'C2'\n",
    "shot_number = 1\n",
    "data = read_hdf5_scope_data(ifn, scope_name, channel_name, shot_number)\n",
    "tarr = read_hdf5_scope_tarr(ifn, scope_name)"
   ]
  },
  {
   "cell_type": "code",
   "execution_count": null,
   "id": "1d2564da",
   "metadata": {},
   "outputs": [],
   "source": [
    "# Test the updated process_shot_bdot function\n",
    "from process_xray_bdot_hdf5 import process_shot_bdot\n",
    "\n",
    "# Test the function with the HDF5 file\n",
    "stft_time, freq, stft_matrix1, stft_matrix2, stft_matrix3, channel_info = process_shot_bdot(ifn, shot_number=1, debug=True)\n",
    "\n",
    "# Print channel information\n",
    "print(\"\\n=== Channel Information ===\")\n",
    "for channel, info in channel_info.items():\n",
    "    field_comp = info['field_component']\n",
    "    position = info['position']\n",
    "    desc = info['description']\n",
    "    print(f\"{channel}: {field_comp} at {position} - {desc}\")\n",
    "\n",
    "# Check if data was successfully read\n",
    "print(f\"\\nSTFT matrices availability:\")\n",
    "print(f\"Matrix 1 (C1): {'Available' if stft_matrix1 is not None else 'None'}\")\n",
    "print(f\"Matrix 2 (C2): {'Available' if stft_matrix2 is not None else 'None'}\")\n",
    "print(f\"Matrix 3 (C3): {'Available' if stft_matrix3 is not None else 'None'}\")\n",
    "\n",
    "if stft_time is not None:\n",
    "    print(f\"STFT time array shape: {stft_time.shape}\")\n",
    "    print(f\"Frequency array shape: {freq.shape}\")"
   ]
  },
  {
   "cell_type": "code",
   "execution_count": 2,
   "id": "a4c1110f",
   "metadata": {},
   "outputs": [],
   "source": [
    "analysis_file = r\"F:\\AUG2025\\P24\\analysis_results.npy\"\n",
    "tracking_file = r\"F:\\AUG2025\\P24\\tracking_result.npy\"\n",
    "\n",
    "analysis_dict = np.load(analysis_file, allow_pickle=True).item()\n",
    "tracking_dict = np.load(tracking_file, allow_pickle=True).item()"
   ]
  },
  {
   "cell_type": "code",
   "execution_count": 3,
   "id": "29566334",
   "metadata": {},
   "outputs": [
    {
     "name": "stdout",
     "output_type": "stream",
     "text": [
      "1\n",
      "2\n",
      "3\n",
      "4\n",
      "5\n",
      "02_002\n",
      "02_003\n",
      "04_002\n",
      "04_003\n",
      "04_005\n",
      "06_001\n",
      "06_002\n",
      "06_004\n",
      "06_005\n",
      "07_002\n",
      "08_002\n",
      "08_003\n",
      "08_004\n",
      "09_001\n",
      "09_002\n",
      "09_003\n",
      "09_005\n",
      "12_001\n",
      "12_002\n",
      "12_003\n",
      "12_005\n",
      "13_001\n",
      "14_002\n",
      "14_003\n",
      "14_005\n",
      "15_001\n",
      "15_002\n",
      "15_004\n",
      "15_005\n",
      "16_001\n",
      "16_003\n",
      "16_004\n",
      "16_005\n",
      "17_001\n",
      "17_002\n",
      "17_003\n",
      "17_004\n",
      "17_005\n",
      "18_001\n",
      "18_002\n",
      "18_003\n",
      "18_004\n",
      "18_005\n",
      "19_001\n",
      "19_002\n",
      "19_003\n",
      "19_004\n",
      "19_005\n",
      "20_001\n",
      "20_002\n",
      "20_003\n",
      "20_004\n",
      "20_005\n",
      "21_001\n",
      "00_002\n",
      "00_008\n"
     ]
    }
   ],
   "source": [
    "for key in analysis_dict.keys():\n",
    "    print(key)"
   ]
  },
  {
   "cell_type": "code",
   "execution_count": null,
   "id": "1b382fe7",
   "metadata": {},
   "outputs": [],
   "source": [
    "for key, item in tracking_dict.items():\n",
    "    if item[1] is None:\n",
    "        continue\n",
    "    prefixes = os.path.basename(key)[:2]\n",
    "    shot_numbers = int(os.path.basename(key).split('_shot')[1][:3])\n",
    "    t0 = item[1]\n",
    "    print(f\"Processing {prefixes} shot {shot_numbers}\")\n",
    "\n",
    "    analysis_key = f\"{prefixes}_{shot_numbers:03d}\"\n",
    "    pulse_tarr, pulse_amp = analysis_dict.get(analysis_key, ([], []))\n",
    "    print(len(pulse_tarr), len(pulse_amp), t0)"
   ]
  },
  {
   "cell_type": "code",
   "execution_count": null,
   "id": "6a19aab9",
   "metadata": {},
   "outputs": [],
   "source": []
  }
 ],
 "metadata": {
  "kernelspec": {
   "display_name": ".venv (3.11.5)",
   "language": "python",
   "name": "python3"
  },
  "language_info": {
   "codemirror_mode": {
    "name": "ipython",
    "version": 3
   },
   "file_extension": ".py",
   "mimetype": "text/x-python",
   "name": "python",
   "nbconvert_exporter": "python",
   "pygments_lexer": "ipython3",
   "version": "3.11.5"
  }
 },
 "nbformat": 4,
 "nbformat_minor": 5
}

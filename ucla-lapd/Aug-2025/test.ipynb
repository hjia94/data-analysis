{
 "cells": [
  {
   "cell_type": "code",
   "execution_count": 5,
   "id": "d33476b7",
   "metadata": {},
   "outputs": [],
   "source": [
    "import h5py\n",
    "import sys\n",
    "import os\n",
    "\n",
    "import numpy as np\n",
    "import matplotlib.pyplot as plt\n",
    "from scipy.ndimage import gaussian_filter1d\n",
    "\n",
    "# Find the repo root (parent of current folder)\n",
    "repo_root = os.path.abspath(os.path.join(os.path.dirname(os.getcwd()), '..')) if '__file__' not in globals() else os.path.abspath(os.path.join(os.path.dirname(__file__), '..'))\n",
    "sys.path.append(repo_root)\n",
    "\n",
    "# Add only immediate subfolders of the repo root to sys.path (much faster)\n",
    "for item in os.listdir(repo_root):\n",
    "    item_path = os.path.join(repo_root, item)\n",
    "    if os.path.isdir(item_path):\n",
    "        sys.path.append(item_path)\n",
    "\n",
    "from read_scope_data import read_hdf5_scope_data, read_hdf5_scope_tarr\n",
    "from read_hdf5 import print_hdf5_info\n",
    "from process_xray_bdot_hdf5 import get_magnetron_power_data\n",
    "\n",
    "\n",
    "%matplotlib qt"
   ]
  },
  {
   "cell_type": "code",
   "execution_count": 2,
   "id": "815468eb",
   "metadata": {},
   "outputs": [],
   "source": [
    "ifn = r\"F:\\AUG2025\\P24\\00_He1kG430G_5800A_K-25_2025-08-12.hdf5\"\n",
    "# print_hdf5_info(ifn)"
   ]
  },
  {
   "cell_type": "code",
   "execution_count": 3,
   "id": "4d818975",
   "metadata": {},
   "outputs": [
    {
     "name": "stdout",
     "output_type": "stream",
     "text": [
      "Found current channel: C2 - magnetron current 0.25A/V\n",
      "Found reflected power channel: C3 - reflected power (diode + 26dB)\n",
      "Found voltage channel: C4 - magnetron voltage (X1000 probe)\n",
      "Applying current scaling factor: 0.25 A/V\n",
      "Magnetron power calculated for shot 1\n"
     ]
    }
   ],
   "source": [
    "P_data, tarr, I_data, V_data, Pref_data = get_magnetron_power_data(ifn, 1)"
   ]
  },
  {
   "cell_type": "code",
   "execution_count": null,
   "id": "441ffb25",
   "metadata": {},
   "outputs": [
    {
     "data": {
      "text/plain": [
       "[<matplotlib.lines.Line2D at 0x228aa359a90>]"
      ]
     },
     "execution_count": 7,
     "metadata": {},
     "output_type": "execute_result"
    }
   ],
   "source": [
    "plt.figure()\n",
    "plt.plot(tarr*1e6, P_data)"
   ]
  },
  {
   "cell_type": "code",
   "execution_count": null,
   "id": "a40914c1",
   "metadata": {},
   "outputs": [],
   "source": [
    "scope_name = 'xrayscope'\n",
    "channel_name = 'C2'\n",
    "shot_number = 1\n",
    "data = read_hdf5_scope_data(ifn, scope_name, channel_name, shot_number)\n",
    "tarr = read_hdf5_scope_tarr(ifn, scope_name)"
   ]
  },
  {
   "cell_type": "code",
   "execution_count": null,
   "id": "6164e84b",
   "metadata": {},
   "outputs": [],
   "source": [
    "plt.figure()\n",
    "plt.plot(tarr*1e3, data)"
   ]
  },
  {
   "cell_type": "code",
   "execution_count": null,
   "id": "e2b4a925",
   "metadata": {},
   "outputs": [],
   "source": []
  }
 ],
 "metadata": {
  "kernelspec": {
   "display_name": ".venv (3.11.5)",
   "language": "python",
   "name": "python3"
  },
  "language_info": {
   "codemirror_mode": {
    "name": "ipython",
    "version": 3
   },
   "file_extension": ".py",
   "mimetype": "text/x-python",
   "name": "python",
   "nbconvert_exporter": "python",
   "pygments_lexer": "ipython3",
   "version": "3.11.5"
  }
 },
 "nbformat": 4,
 "nbformat_minor": 5
}

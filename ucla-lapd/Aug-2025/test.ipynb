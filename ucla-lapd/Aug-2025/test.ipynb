{
 "cells": [
  {
   "cell_type": "code",
   "execution_count": null,
   "id": "d33476b7",
   "metadata": {},
   "outputs": [],
   "source": [
    "import h5py\n",
    "import sys\n",
    "import os\n",
    "\n",
    "import numpy as np\n",
    "import matplotlib.pyplot as plt\n",
    "from scipy.ndimage import gaussian_filter1d\n",
    "\n",
    "# Find the repo root (parent of current folder)\n",
    "repo_root = os.path.abspath(os.path.join(os.path.dirname(os.getcwd()), '..')) if '__file__' not in globals() else os.path.abspath(os.path.join(os.path.dirname(__file__), '..'))\n",
    "sys.path.append(repo_root)\n",
    "\n",
    "# Add only immediate subfolders of the repo root to sys.path (much faster)\n",
    "for item in os.listdir(repo_root):\n",
    "    item_path = os.path.join(repo_root, item)\n",
    "    if os.path.isdir(item_path):\n",
    "        sys.path.append(item_path)\n",
    "\n",
    "from read_scope_data import read_hdf5_scope_data, read_hdf5_scope_tarr, read_hdf5_all_scopes_channels, read_scope_channel_descriptions\n",
    "from read_hdf5 import print_hdf5_info, print_scope_channel_descriptions\n",
    "from process_xray_bdot_hdf5 import get_magnetron_power_data\n",
    "\n",
    "%matplotlib qt"
   ]
  },
  {
   "cell_type": "code",
   "execution_count": null,
   "id": "815468eb",
   "metadata": {},
   "outputs": [],
   "source": [
    "ifn = r\"F:\\AUG2025\\P24\\00_He1kG430G_5800A_K-25_2025-08-12.hdf5\"\n",
    "print_hdf5_info(ifn)"
   ]
  },
  {
   "cell_type": "code",
   "execution_count": null,
   "id": "3053718a",
   "metadata": {},
   "outputs": [],
   "source": [
    "scope = 'xrayscope'\n",
    "with h5py.File(ifn, 'r') as f:\n",
    "    result = read_hdf5_all_scopes_channels(f, 1)\n",
    "    descriptions = read_scope_channel_descriptions(f, scope)\n",
    "    scp_data = result[scope]"
   ]
  },
  {
   "cell_type": "code",
   "execution_count": null,
   "id": "99b28f5d",
   "metadata": {},
   "outputs": [],
   "source": [
    "for ch, desc in scp_data['channels'].items():\n",
    "    print(ch)"
   ]
  },
  {
   "cell_type": "code",
   "execution_count": null,
   "id": "4d818975",
   "metadata": {},
   "outputs": [],
   "source": [
    "P_data, tarr, I_data, V_data, Pref_data = get_magnetron_power_data(ifn, 1)\n",
    "plt.figure()\n",
    "plt.plot(tarr*1e6, P_data)"
   ]
  },
  {
   "cell_type": "code",
   "execution_count": null,
   "id": "441ffb25",
   "metadata": {},
   "outputs": [],
   "source": [
    "print_scope_channel_descriptions(ifn, scope_name='bdotscope')"
   ]
  },
  {
   "cell_type": "code",
   "execution_count": null,
   "id": "a40914c1",
   "metadata": {},
   "outputs": [],
   "source": [
    "scope_name = 'xrayscope'\n",
    "channel_name = 'C2'\n",
    "shot_number = 1\n",
    "data = read_hdf5_scope_data(ifn, scope_name, channel_name, shot_number)\n",
    "tarr = read_hdf5_scope_tarr(ifn, scope_name)"
   ]
  },
  {
   "cell_type": "code",
   "execution_count": null,
   "id": "6164e84b",
   "metadata": {},
   "outputs": [],
   "source": [
    "plt.figure()\n",
    "plt.plot(tarr*1e3, data)"
   ]
  },
  {
   "cell_type": "code",
   "execution_count": null,
   "id": "e2b4a925",
   "metadata": {},
   "outputs": [],
   "source": []
  },
  {
   "cell_type": "code",
   "execution_count": null,
   "id": "1d2564da",
   "metadata": {},
   "outputs": [],
   "source": [
    "# Test the updated process_shot_bdot function\n",
    "from process_xray_bdot_hdf5 import process_shot_bdot\n",
    "\n",
    "# Test the function with the HDF5 file\n",
    "stft_time, freq, stft_matrix1, stft_matrix2, stft_matrix3, channel_info = process_shot_bdot(ifn, shot_number=1, debug=True)\n",
    "\n",
    "# Print channel information\n",
    "print(\"\\n=== Channel Information ===\")\n",
    "for channel, info in channel_info.items():\n",
    "    field_comp = info['field_component']\n",
    "    position = info['position']\n",
    "    desc = info['description']\n",
    "    print(f\"{channel}: {field_comp} at {position} - {desc}\")\n",
    "\n",
    "# Check if data was successfully read\n",
    "print(f\"\\nSTFT matrices availability:\")\n",
    "print(f\"Matrix 1 (C1): {'Available' if stft_matrix1 is not None else 'None'}\")\n",
    "print(f\"Matrix 2 (C2): {'Available' if stft_matrix2 is not None else 'None'}\")\n",
    "print(f\"Matrix 3 (C3): {'Available' if stft_matrix3 is not None else 'None'}\")\n",
    "\n",
    "if stft_time is not None:\n",
    "    print(f\"STFT time array shape: {stft_time.shape}\")\n",
    "    print(f\"Frequency array shape: {freq.shape}\")"
   ]
  }
 ],
 "metadata": {
  "kernelspec": {
   "display_name": ".venv (3.11.5)",
   "language": "python",
   "name": "python3"
  },
  "language_info": {
   "codemirror_mode": {
    "name": "ipython",
    "version": 3
   },
   "file_extension": ".py",
   "mimetype": "text/x-python",
   "name": "python",
   "nbconvert_exporter": "python",
   "pygments_lexer": "ipython3",
   "version": "3.11.5"
  }
 },
 "nbformat": 4,
 "nbformat_minor": 5
}
